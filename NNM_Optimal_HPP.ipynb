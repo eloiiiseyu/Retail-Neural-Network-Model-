{
 "cells": [
  {
   "cell_type": "code",
   "execution_count": 1,
   "metadata": {
    "id": "cOpQQzvThKNz"
   },
   "outputs": [
    {
     "name": "stderr",
     "output_type": "stream",
     "text": [
      "2024-04-23 02:11:48.862206: I tensorflow/core/util/port.cc:113] oneDNN custom operations are on. You may see slightly different numerical results due to floating-point round-off errors from different computation orders. To turn them off, set the environment variable `TF_ENABLE_ONEDNN_OPTS=0`.\n",
      "2024-04-23 02:11:48.906025: E external/local_xla/xla/stream_executor/cuda/cuda_dnn.cc:9261] Unable to register cuDNN factory: Attempting to register factory for plugin cuDNN when one has already been registered\n",
      "2024-04-23 02:11:48.906056: E external/local_xla/xla/stream_executor/cuda/cuda_fft.cc:607] Unable to register cuFFT factory: Attempting to register factory for plugin cuFFT when one has already been registered\n",
      "2024-04-23 02:11:48.907184: E external/local_xla/xla/stream_executor/cuda/cuda_blas.cc:1515] Unable to register cuBLAS factory: Attempting to register factory for plugin cuBLAS when one has already been registered\n",
      "2024-04-23 02:11:48.914583: I tensorflow/core/platform/cpu_feature_guard.cc:182] This TensorFlow binary is optimized to use available CPU instructions in performance-critical operations.\n",
      "To enable the following instructions: AVX2 AVX512F AVX512_VNNI FMA, in other operations, rebuild TensorFlow with the appropriate compiler flags.\n"
     ]
    }
   ],
   "source": [
    "import numpy as np\n",
    "import pandas as pd\n",
    "import matplotlib.pyplot as plt\n",
    "\n",
    "from sklearn import datasets, linear_model, metrics\n",
    "\n",
    "# Ensure compatibility\n",
    "from __future__ import absolute_import, division, print_function\n",
    "\n",
    "# Import packages\n",
    "import numpy as np\n",
    "import pandas as pd\n",
    "import matplotlib.pyplot as plt\n",
    "\n",
    "# Import TensorFlow and Keras packages\n",
    "import tensorflow as tf\n",
    "from tensorflow import keras"
   ]
  },
  {
   "cell_type": "code",
   "execution_count": 2,
   "metadata": {
    "id": "Md18ok4XGWrT"
   },
   "outputs": [],
   "source": [
    "order_data = pd.read_csv(\"joined_dataset.csv\", skiprows = 0)"
   ]
  },
  {
   "cell_type": "code",
   "execution_count": 3,
   "metadata": {
    "colab": {
     "base_uri": "https://localhost:8080/"
    },
    "id": "jsEZLWAEMtqo",
    "outputId": "bf857b4e-849a-459c-d34a-c89b76d6d046"
   },
   "outputs": [
    {
     "data": {
      "text/plain": [
       "Category           object\n",
       "City               object\n",
       "Customer Name      object\n",
       "Market             object\n",
       "Customer ID        object\n",
       "Order Date         object\n",
       "Order ID           object\n",
       "Order Priority     object\n",
       "Product ID         object\n",
       "Product Name       object\n",
       "Row ID              int64\n",
       "Segment            object\n",
       "Ship Date          object\n",
       "Ship Mode          object\n",
       "State              object\n",
       "Sub-Category       object\n",
       "Discount          float64\n",
       "Profit            float64\n",
       "Quantity            int64\n",
       "Sales             float64\n",
       "Shipping Cost     float64\n",
       "Discount 1/0        int64\n",
       "State2             object\n",
       "Country            object\n",
       "Region             object\n",
       "dtype: object"
      ]
     },
     "execution_count": 3,
     "metadata": {},
     "output_type": "execute_result"
    }
   ],
   "source": [
    "order_data.dtypes"
   ]
  },
  {
   "cell_type": "code",
   "execution_count": 4,
   "metadata": {
    "colab": {
     "base_uri": "https://localhost:8080/",
     "height": 446
    },
    "id": "p7JtsDnuIEla",
    "outputId": "04dcb57c-6f24-43a5-ae01-5453de03884d"
   },
   "outputs": [
    {
     "data": {
      "text/html": [
       "<div>\n",
       "<style scoped>\n",
       "    .dataframe tbody tr th:only-of-type {\n",
       "        vertical-align: middle;\n",
       "    }\n",
       "\n",
       "    .dataframe tbody tr th {\n",
       "        vertical-align: top;\n",
       "    }\n",
       "\n",
       "    .dataframe thead th {\n",
       "        text-align: right;\n",
       "    }\n",
       "</style>\n",
       "<table border=\"1\" class=\"dataframe\">\n",
       "  <thead>\n",
       "    <tr style=\"text-align: right;\">\n",
       "      <th></th>\n",
       "      <th>Category</th>\n",
       "      <th>City</th>\n",
       "      <th>Customer Name</th>\n",
       "      <th>Market</th>\n",
       "      <th>Customer ID</th>\n",
       "      <th>Order Date</th>\n",
       "      <th>Order ID</th>\n",
       "      <th>Order Priority</th>\n",
       "      <th>Product ID</th>\n",
       "      <th>Product Name</th>\n",
       "      <th>...</th>\n",
       "      <th>Sub-Category</th>\n",
       "      <th>Discount</th>\n",
       "      <th>Profit</th>\n",
       "      <th>Quantity</th>\n",
       "      <th>Sales</th>\n",
       "      <th>Shipping Cost</th>\n",
       "      <th>Discount 1/0</th>\n",
       "      <th>State2</th>\n",
       "      <th>Country</th>\n",
       "      <th>Region</th>\n",
       "    </tr>\n",
       "  </thead>\n",
       "  <tbody>\n",
       "    <tr>\n",
       "      <th>0</th>\n",
       "      <td>Office Supplies</td>\n",
       "      <td>Constantine</td>\n",
       "      <td>Toby Braunhardt</td>\n",
       "      <td>EMEA</td>\n",
       "      <td>TB-112801</td>\n",
       "      <td>1/1/2019</td>\n",
       "      <td>AG-2011-2040</td>\n",
       "      <td>Medium</td>\n",
       "      <td>OFF-TEN-10000025</td>\n",
       "      <td>Tenex Lockers, Blue</td>\n",
       "      <td>...</td>\n",
       "      <td>Storage</td>\n",
       "      <td>0.0</td>\n",
       "      <td>106.14</td>\n",
       "      <td>2</td>\n",
       "      <td>408.30</td>\n",
       "      <td>35.46</td>\n",
       "      <td>0</td>\n",
       "      <td>Constantine</td>\n",
       "      <td>Algeria</td>\n",
       "      <td>Africa</td>\n",
       "    </tr>\n",
       "    <tr>\n",
       "      <th>1</th>\n",
       "      <td>Office Supplies</td>\n",
       "      <td>Dar es Salaam</td>\n",
       "      <td>Jack Garza</td>\n",
       "      <td>EMEA</td>\n",
       "      <td>JG-51151</td>\n",
       "      <td>1/3/2019</td>\n",
       "      <td>TZ-2011-7370</td>\n",
       "      <td>Medium</td>\n",
       "      <td>OFF-STI-10000388</td>\n",
       "      <td>Stiletto Scissors, Serrated</td>\n",
       "      <td>...</td>\n",
       "      <td>Supplies</td>\n",
       "      <td>0.0</td>\n",
       "      <td>26.76</td>\n",
       "      <td>4</td>\n",
       "      <td>81.24</td>\n",
       "      <td>5.11</td>\n",
       "      <td>0</td>\n",
       "      <td>Dar Es Salaam</td>\n",
       "      <td>Tanzania</td>\n",
       "      <td>Africa</td>\n",
       "    </tr>\n",
       "    <tr>\n",
       "      <th>2</th>\n",
       "      <td>Office Supplies</td>\n",
       "      <td>Khartoum</td>\n",
       "      <td>Jasper Cacioppo</td>\n",
       "      <td>EMEA</td>\n",
       "      <td>JC-53401</td>\n",
       "      <td>1/4/2019</td>\n",
       "      <td>SU-2011-5190</td>\n",
       "      <td>Medium</td>\n",
       "      <td>OFF-BOS-10004950</td>\n",
       "      <td>Boston Pens, Fluorescent</td>\n",
       "      <td>...</td>\n",
       "      <td>Art</td>\n",
       "      <td>0.0</td>\n",
       "      <td>2.61</td>\n",
       "      <td>1</td>\n",
       "      <td>15.48</td>\n",
       "      <td>0.82</td>\n",
       "      <td>0</td>\n",
       "      <td>Khartoum</td>\n",
       "      <td>Sudan</td>\n",
       "      <td>Africa</td>\n",
       "    </tr>\n",
       "    <tr>\n",
       "      <th>3</th>\n",
       "      <td>Office Supplies</td>\n",
       "      <td>Khartoum</td>\n",
       "      <td>Jasper Cacioppo</td>\n",
       "      <td>EMEA</td>\n",
       "      <td>JC-53401</td>\n",
       "      <td>1/4/2019</td>\n",
       "      <td>SU-2011-5190</td>\n",
       "      <td>Medium</td>\n",
       "      <td>OFF-AVE-10003279</td>\n",
       "      <td>Avery Hole Reinforcements, Durable</td>\n",
       "      <td>...</td>\n",
       "      <td>Binders</td>\n",
       "      <td>0.0</td>\n",
       "      <td>2.10</td>\n",
       "      <td>1</td>\n",
       "      <td>5.91</td>\n",
       "      <td>0.51</td>\n",
       "      <td>0</td>\n",
       "      <td>Khartoum</td>\n",
       "      <td>Sudan</td>\n",
       "      <td>Africa</td>\n",
       "    </tr>\n",
       "    <tr>\n",
       "      <th>4</th>\n",
       "      <td>Technology</td>\n",
       "      <td>Luanda</td>\n",
       "      <td>Grace Kelly</td>\n",
       "      <td>EMEA</td>\n",
       "      <td>GK-46201</td>\n",
       "      <td>1/6/2019</td>\n",
       "      <td>AO-2011-4910</td>\n",
       "      <td>Medium</td>\n",
       "      <td>TEC-LOG-10003079</td>\n",
       "      <td>Logitech Flash Drive, Erganomic</td>\n",
       "      <td>...</td>\n",
       "      <td>Accessories</td>\n",
       "      <td>0.0</td>\n",
       "      <td>12.72</td>\n",
       "      <td>1</td>\n",
       "      <td>28.32</td>\n",
       "      <td>2.00</td>\n",
       "      <td>0</td>\n",
       "      <td>Luanda</td>\n",
       "      <td>Angola</td>\n",
       "      <td>Africa</td>\n",
       "    </tr>\n",
       "  </tbody>\n",
       "</table>\n",
       "<p>5 rows × 25 columns</p>\n",
       "</div>"
      ],
      "text/plain": [
       "          Category           City    Customer Name Market Customer ID  \\\n",
       "0  Office Supplies    Constantine  Toby Braunhardt   EMEA   TB-112801   \n",
       "1  Office Supplies  Dar es Salaam       Jack Garza   EMEA    JG-51151   \n",
       "2  Office Supplies       Khartoum  Jasper Cacioppo   EMEA    JC-53401   \n",
       "3  Office Supplies       Khartoum  Jasper Cacioppo   EMEA    JC-53401   \n",
       "4       Technology         Luanda      Grace Kelly   EMEA    GK-46201   \n",
       "\n",
       "  Order Date      Order ID Order Priority        Product ID  \\\n",
       "0   1/1/2019  AG-2011-2040         Medium  OFF-TEN-10000025   \n",
       "1   1/3/2019  TZ-2011-7370         Medium  OFF-STI-10000388   \n",
       "2   1/4/2019  SU-2011-5190         Medium  OFF-BOS-10004950   \n",
       "3   1/4/2019  SU-2011-5190         Medium  OFF-AVE-10003279   \n",
       "4   1/6/2019  AO-2011-4910         Medium  TEC-LOG-10003079   \n",
       "\n",
       "                         Product Name  ...  Sub-Category Discount  Profit  \\\n",
       "0                 Tenex Lockers, Blue  ...       Storage      0.0  106.14   \n",
       "1         Stiletto Scissors, Serrated  ...      Supplies      0.0   26.76   \n",
       "2            Boston Pens, Fluorescent  ...           Art      0.0    2.61   \n",
       "3  Avery Hole Reinforcements, Durable  ...       Binders      0.0    2.10   \n",
       "4     Logitech Flash Drive, Erganomic  ...   Accessories      0.0   12.72   \n",
       "\n",
       "  Quantity   Sales Shipping Cost  Discount 1/0         State2   Country  \\\n",
       "0        2  408.30         35.46             0    Constantine   Algeria   \n",
       "1        4   81.24          5.11             0  Dar Es Salaam  Tanzania   \n",
       "2        1   15.48          0.82             0       Khartoum     Sudan   \n",
       "3        1    5.91          0.51             0       Khartoum     Sudan   \n",
       "4        1   28.32          2.00             0         Luanda    Angola   \n",
       "\n",
       "   Region  \n",
       "0  Africa  \n",
       "1  Africa  \n",
       "2  Africa  \n",
       "3  Africa  \n",
       "4  Africa  \n",
       "\n",
       "[5 rows x 25 columns]"
      ]
     },
     "execution_count": 4,
     "metadata": {},
     "output_type": "execute_result"
    }
   ],
   "source": [
    "order_data.head()"
   ]
  },
  {
   "cell_type": "code",
   "execution_count": 5,
   "metadata": {
    "colab": {
     "base_uri": "https://localhost:8080/",
     "height": 602
    },
    "id": "IUdEUWhuIJXt",
    "outputId": "b84045f5-7f92-4a3c-b40e-23de36bf9c7e"
   },
   "outputs": [
    {
     "data": {
      "text/html": [
       "<div>\n",
       "<style scoped>\n",
       "    .dataframe tbody tr th:only-of-type {\n",
       "        vertical-align: middle;\n",
       "    }\n",
       "\n",
       "    .dataframe tbody tr th {\n",
       "        vertical-align: top;\n",
       "    }\n",
       "\n",
       "    .dataframe thead th {\n",
       "        text-align: right;\n",
       "    }\n",
       "</style>\n",
       "<table border=\"1\" class=\"dataframe\">\n",
       "  <thead>\n",
       "    <tr style=\"text-align: right;\">\n",
       "      <th></th>\n",
       "      <th>Category</th>\n",
       "      <th>City</th>\n",
       "      <th>Customer Name</th>\n",
       "      <th>Market</th>\n",
       "      <th>Customer ID</th>\n",
       "      <th>Order Date</th>\n",
       "      <th>Order ID</th>\n",
       "      <th>Order Priority</th>\n",
       "      <th>Product ID</th>\n",
       "      <th>Product Name</th>\n",
       "      <th>...</th>\n",
       "      <th>Sub-Category</th>\n",
       "      <th>Discount</th>\n",
       "      <th>Profit</th>\n",
       "      <th>Quantity</th>\n",
       "      <th>Sales</th>\n",
       "      <th>Shipping Cost</th>\n",
       "      <th>Discount 1/0</th>\n",
       "      <th>State2</th>\n",
       "      <th>Country</th>\n",
       "      <th>Region</th>\n",
       "    </tr>\n",
       "  </thead>\n",
       "  <tbody>\n",
       "    <tr>\n",
       "      <th>53362</th>\n",
       "      <td>Office Supplies</td>\n",
       "      <td>Loveland</td>\n",
       "      <td>Jill Matthias</td>\n",
       "      <td>USCA</td>\n",
       "      <td>JM-155804</td>\n",
       "      <td>12/31/2022</td>\n",
       "      <td>CA-2014-156720</td>\n",
       "      <td>Medium</td>\n",
       "      <td>OFF-FA-10003472</td>\n",
       "      <td>Bagged Rubber Bands</td>\n",
       "      <td>...</td>\n",
       "      <td>Fasteners</td>\n",
       "      <td>0.2</td>\n",
       "      <td>-0.60</td>\n",
       "      <td>3</td>\n",
       "      <td>3.02</td>\n",
       "      <td>0.17</td>\n",
       "      <td>1</td>\n",
       "      <td>Colorado</td>\n",
       "      <td>United States</td>\n",
       "      <td>West</td>\n",
       "    </tr>\n",
       "    <tr>\n",
       "      <th>53363</th>\n",
       "      <td>Office Supplies</td>\n",
       "      <td>Fairfield</td>\n",
       "      <td>Erica Bern</td>\n",
       "      <td>USCA</td>\n",
       "      <td>EB-139754</td>\n",
       "      <td>12/31/2022</td>\n",
       "      <td>CA-2014-115427</td>\n",
       "      <td>Medium</td>\n",
       "      <td>OFF-BI-10002103</td>\n",
       "      <td>Cardinal Slant-D Ring Binder, Heavy Gauge Vinyl</td>\n",
       "      <td>...</td>\n",
       "      <td>Binders</td>\n",
       "      <td>0.2</td>\n",
       "      <td>4.52</td>\n",
       "      <td>2</td>\n",
       "      <td>13.90</td>\n",
       "      <td>0.89</td>\n",
       "      <td>1</td>\n",
       "      <td>California</td>\n",
       "      <td>United States</td>\n",
       "      <td>West</td>\n",
       "    </tr>\n",
       "    <tr>\n",
       "      <th>53364</th>\n",
       "      <td>Office Supplies</td>\n",
       "      <td>Fairfield</td>\n",
       "      <td>Erica Bern</td>\n",
       "      <td>USCA</td>\n",
       "      <td>EB-139754</td>\n",
       "      <td>12/31/2022</td>\n",
       "      <td>CA-2014-115427</td>\n",
       "      <td>Medium</td>\n",
       "      <td>OFF-BI-10004632</td>\n",
       "      <td>GBC Binding covers</td>\n",
       "      <td>...</td>\n",
       "      <td>Binders</td>\n",
       "      <td>0.2</td>\n",
       "      <td>6.48</td>\n",
       "      <td>2</td>\n",
       "      <td>20.72</td>\n",
       "      <td>2.06</td>\n",
       "      <td>1</td>\n",
       "      <td>California</td>\n",
       "      <td>United States</td>\n",
       "      <td>West</td>\n",
       "    </tr>\n",
       "    <tr>\n",
       "      <th>53365</th>\n",
       "      <td>Technology</td>\n",
       "      <td>New York City</td>\n",
       "      <td>Patrick O'Donnell</td>\n",
       "      <td>USCA</td>\n",
       "      <td>PO-188654</td>\n",
       "      <td>12/31/2022</td>\n",
       "      <td>CA-2014-143259</td>\n",
       "      <td>High</td>\n",
       "      <td>TEC-PH-10004774</td>\n",
       "      <td>Gear Head AU3700S Headset</td>\n",
       "      <td>...</td>\n",
       "      <td>Phones</td>\n",
       "      <td>0.0</td>\n",
       "      <td>2.73</td>\n",
       "      <td>7</td>\n",
       "      <td>90.93</td>\n",
       "      <td>9.67</td>\n",
       "      <td>0</td>\n",
       "      <td>New York</td>\n",
       "      <td>United States</td>\n",
       "      <td>East</td>\n",
       "    </tr>\n",
       "    <tr>\n",
       "      <th>53366</th>\n",
       "      <td>Office Supplies</td>\n",
       "      <td>Columbus</td>\n",
       "      <td>Chuck Clark</td>\n",
       "      <td>USCA</td>\n",
       "      <td>CC-124304</td>\n",
       "      <td>12/31/2022</td>\n",
       "      <td>CA-2014-126221</td>\n",
       "      <td>Medium</td>\n",
       "      <td>OFF-AP-10002457</td>\n",
       "      <td>Eureka The Boss Plus 12-Amp Hard Box Upright V...</td>\n",
       "      <td>...</td>\n",
       "      <td>Appliances</td>\n",
       "      <td>0.0</td>\n",
       "      <td>56.51</td>\n",
       "      <td>2</td>\n",
       "      <td>209.30</td>\n",
       "      <td>8.32</td>\n",
       "      <td>0</td>\n",
       "      <td>Indiana</td>\n",
       "      <td>United States</td>\n",
       "      <td>Central</td>\n",
       "    </tr>\n",
       "  </tbody>\n",
       "</table>\n",
       "<p>5 rows × 25 columns</p>\n",
       "</div>"
      ],
      "text/plain": [
       "              Category           City      Customer Name Market Customer ID  \\\n",
       "53362  Office Supplies       Loveland      Jill Matthias   USCA   JM-155804   \n",
       "53363  Office Supplies      Fairfield         Erica Bern   USCA   EB-139754   \n",
       "53364  Office Supplies      Fairfield         Erica Bern   USCA   EB-139754   \n",
       "53365       Technology  New York City  Patrick O'Donnell   USCA   PO-188654   \n",
       "53366  Office Supplies       Columbus        Chuck Clark   USCA   CC-124304   \n",
       "\n",
       "       Order Date        Order ID Order Priority       Product ID  \\\n",
       "53362  12/31/2022  CA-2014-156720         Medium  OFF-FA-10003472   \n",
       "53363  12/31/2022  CA-2014-115427         Medium  OFF-BI-10002103   \n",
       "53364  12/31/2022  CA-2014-115427         Medium  OFF-BI-10004632   \n",
       "53365  12/31/2022  CA-2014-143259           High  TEC-PH-10004774   \n",
       "53366  12/31/2022  CA-2014-126221         Medium  OFF-AP-10002457   \n",
       "\n",
       "                                            Product Name  ...  Sub-Category  \\\n",
       "53362                                Bagged Rubber Bands  ...     Fasteners   \n",
       "53363    Cardinal Slant-D Ring Binder, Heavy Gauge Vinyl  ...       Binders   \n",
       "53364                                 GBC Binding covers  ...       Binders   \n",
       "53365                          Gear Head AU3700S Headset  ...        Phones   \n",
       "53366  Eureka The Boss Plus 12-Amp Hard Box Upright V...  ...    Appliances   \n",
       "\n",
       "      Discount Profit Quantity   Sales Shipping Cost  Discount 1/0  \\\n",
       "53362      0.2  -0.60        3    3.02          0.17             1   \n",
       "53363      0.2   4.52        2   13.90          0.89             1   \n",
       "53364      0.2   6.48        2   20.72          2.06             1   \n",
       "53365      0.0   2.73        7   90.93          9.67             0   \n",
       "53366      0.0  56.51        2  209.30          8.32             0   \n",
       "\n",
       "           State2        Country   Region  \n",
       "53362    Colorado  United States     West  \n",
       "53363  California  United States     West  \n",
       "53364  California  United States     West  \n",
       "53365    New York  United States     East  \n",
       "53366     Indiana  United States  Central  \n",
       "\n",
       "[5 rows x 25 columns]"
      ]
     },
     "execution_count": 5,
     "metadata": {},
     "output_type": "execute_result"
    }
   ],
   "source": [
    "order_data.tail()"
   ]
  },
  {
   "cell_type": "code",
   "execution_count": 6,
   "metadata": {
    "colab": {
     "base_uri": "https://localhost:8080/"
    },
    "id": "cXWF5n5mJMNE",
    "outputId": "e2ef3a85-063d-428f-96d3-2bd0e352c054"
   },
   "outputs": [
    {
     "data": {
      "text/plain": [
       "array(['Medium', 'High', 'Low', 'Critical'], dtype=object)"
      ]
     },
     "execution_count": 6,
     "metadata": {},
     "output_type": "execute_result"
    }
   ],
   "source": [
    "order_data['Order Priority'].unique()"
   ]
  },
  {
   "cell_type": "code",
   "execution_count": 7,
   "metadata": {
    "id": "rILe6RCYIq7P"
   },
   "outputs": [],
   "source": [
    "#create new column for priority label\n",
    "def priority_label(level):\n",
    "    if level == 'Medium':\n",
    "        return 1\n",
    "    elif level == 'Critical':\n",
    "        return 3\n",
    "    elif level == 'High':\n",
    "        return 2\n",
    "    else:\n",
    "        return 0\n",
    "\n",
    "order_data['Priority Label'] = order_data['Order Priority'].apply(priority_label)"
   ]
  },
  {
   "cell_type": "code",
   "execution_count": 8,
   "metadata": {
    "colab": {
     "base_uri": "https://localhost:8080/",
     "height": 446
    },
    "id": "aMgHatrhKI1m",
    "outputId": "6ba861c9-5685-42e5-fc9c-b87f16182dc3"
   },
   "outputs": [
    {
     "data": {
      "text/html": [
       "<div>\n",
       "<style scoped>\n",
       "    .dataframe tbody tr th:only-of-type {\n",
       "        vertical-align: middle;\n",
       "    }\n",
       "\n",
       "    .dataframe tbody tr th {\n",
       "        vertical-align: top;\n",
       "    }\n",
       "\n",
       "    .dataframe thead th {\n",
       "        text-align: right;\n",
       "    }\n",
       "</style>\n",
       "<table border=\"1\" class=\"dataframe\">\n",
       "  <thead>\n",
       "    <tr style=\"text-align: right;\">\n",
       "      <th></th>\n",
       "      <th>Category</th>\n",
       "      <th>City</th>\n",
       "      <th>Customer Name</th>\n",
       "      <th>Market</th>\n",
       "      <th>Customer ID</th>\n",
       "      <th>Order Date</th>\n",
       "      <th>Order ID</th>\n",
       "      <th>Order Priority</th>\n",
       "      <th>Product ID</th>\n",
       "      <th>Product Name</th>\n",
       "      <th>...</th>\n",
       "      <th>Discount</th>\n",
       "      <th>Profit</th>\n",
       "      <th>Quantity</th>\n",
       "      <th>Sales</th>\n",
       "      <th>Shipping Cost</th>\n",
       "      <th>Discount 1/0</th>\n",
       "      <th>State2</th>\n",
       "      <th>Country</th>\n",
       "      <th>Region</th>\n",
       "      <th>Priority Label</th>\n",
       "    </tr>\n",
       "  </thead>\n",
       "  <tbody>\n",
       "    <tr>\n",
       "      <th>0</th>\n",
       "      <td>Office Supplies</td>\n",
       "      <td>Constantine</td>\n",
       "      <td>Toby Braunhardt</td>\n",
       "      <td>EMEA</td>\n",
       "      <td>TB-112801</td>\n",
       "      <td>1/1/2019</td>\n",
       "      <td>AG-2011-2040</td>\n",
       "      <td>Medium</td>\n",
       "      <td>OFF-TEN-10000025</td>\n",
       "      <td>Tenex Lockers, Blue</td>\n",
       "      <td>...</td>\n",
       "      <td>0.0</td>\n",
       "      <td>106.14</td>\n",
       "      <td>2</td>\n",
       "      <td>408.30</td>\n",
       "      <td>35.46</td>\n",
       "      <td>0</td>\n",
       "      <td>Constantine</td>\n",
       "      <td>Algeria</td>\n",
       "      <td>Africa</td>\n",
       "      <td>1</td>\n",
       "    </tr>\n",
       "    <tr>\n",
       "      <th>1</th>\n",
       "      <td>Office Supplies</td>\n",
       "      <td>Dar es Salaam</td>\n",
       "      <td>Jack Garza</td>\n",
       "      <td>EMEA</td>\n",
       "      <td>JG-51151</td>\n",
       "      <td>1/3/2019</td>\n",
       "      <td>TZ-2011-7370</td>\n",
       "      <td>Medium</td>\n",
       "      <td>OFF-STI-10000388</td>\n",
       "      <td>Stiletto Scissors, Serrated</td>\n",
       "      <td>...</td>\n",
       "      <td>0.0</td>\n",
       "      <td>26.76</td>\n",
       "      <td>4</td>\n",
       "      <td>81.24</td>\n",
       "      <td>5.11</td>\n",
       "      <td>0</td>\n",
       "      <td>Dar Es Salaam</td>\n",
       "      <td>Tanzania</td>\n",
       "      <td>Africa</td>\n",
       "      <td>1</td>\n",
       "    </tr>\n",
       "    <tr>\n",
       "      <th>2</th>\n",
       "      <td>Office Supplies</td>\n",
       "      <td>Khartoum</td>\n",
       "      <td>Jasper Cacioppo</td>\n",
       "      <td>EMEA</td>\n",
       "      <td>JC-53401</td>\n",
       "      <td>1/4/2019</td>\n",
       "      <td>SU-2011-5190</td>\n",
       "      <td>Medium</td>\n",
       "      <td>OFF-BOS-10004950</td>\n",
       "      <td>Boston Pens, Fluorescent</td>\n",
       "      <td>...</td>\n",
       "      <td>0.0</td>\n",
       "      <td>2.61</td>\n",
       "      <td>1</td>\n",
       "      <td>15.48</td>\n",
       "      <td>0.82</td>\n",
       "      <td>0</td>\n",
       "      <td>Khartoum</td>\n",
       "      <td>Sudan</td>\n",
       "      <td>Africa</td>\n",
       "      <td>1</td>\n",
       "    </tr>\n",
       "    <tr>\n",
       "      <th>3</th>\n",
       "      <td>Office Supplies</td>\n",
       "      <td>Khartoum</td>\n",
       "      <td>Jasper Cacioppo</td>\n",
       "      <td>EMEA</td>\n",
       "      <td>JC-53401</td>\n",
       "      <td>1/4/2019</td>\n",
       "      <td>SU-2011-5190</td>\n",
       "      <td>Medium</td>\n",
       "      <td>OFF-AVE-10003279</td>\n",
       "      <td>Avery Hole Reinforcements, Durable</td>\n",
       "      <td>...</td>\n",
       "      <td>0.0</td>\n",
       "      <td>2.10</td>\n",
       "      <td>1</td>\n",
       "      <td>5.91</td>\n",
       "      <td>0.51</td>\n",
       "      <td>0</td>\n",
       "      <td>Khartoum</td>\n",
       "      <td>Sudan</td>\n",
       "      <td>Africa</td>\n",
       "      <td>1</td>\n",
       "    </tr>\n",
       "    <tr>\n",
       "      <th>4</th>\n",
       "      <td>Technology</td>\n",
       "      <td>Luanda</td>\n",
       "      <td>Grace Kelly</td>\n",
       "      <td>EMEA</td>\n",
       "      <td>GK-46201</td>\n",
       "      <td>1/6/2019</td>\n",
       "      <td>AO-2011-4910</td>\n",
       "      <td>Medium</td>\n",
       "      <td>TEC-LOG-10003079</td>\n",
       "      <td>Logitech Flash Drive, Erganomic</td>\n",
       "      <td>...</td>\n",
       "      <td>0.0</td>\n",
       "      <td>12.72</td>\n",
       "      <td>1</td>\n",
       "      <td>28.32</td>\n",
       "      <td>2.00</td>\n",
       "      <td>0</td>\n",
       "      <td>Luanda</td>\n",
       "      <td>Angola</td>\n",
       "      <td>Africa</td>\n",
       "      <td>1</td>\n",
       "    </tr>\n",
       "  </tbody>\n",
       "</table>\n",
       "<p>5 rows × 26 columns</p>\n",
       "</div>"
      ],
      "text/plain": [
       "          Category           City    Customer Name Market Customer ID  \\\n",
       "0  Office Supplies    Constantine  Toby Braunhardt   EMEA   TB-112801   \n",
       "1  Office Supplies  Dar es Salaam       Jack Garza   EMEA    JG-51151   \n",
       "2  Office Supplies       Khartoum  Jasper Cacioppo   EMEA    JC-53401   \n",
       "3  Office Supplies       Khartoum  Jasper Cacioppo   EMEA    JC-53401   \n",
       "4       Technology         Luanda      Grace Kelly   EMEA    GK-46201   \n",
       "\n",
       "  Order Date      Order ID Order Priority        Product ID  \\\n",
       "0   1/1/2019  AG-2011-2040         Medium  OFF-TEN-10000025   \n",
       "1   1/3/2019  TZ-2011-7370         Medium  OFF-STI-10000388   \n",
       "2   1/4/2019  SU-2011-5190         Medium  OFF-BOS-10004950   \n",
       "3   1/4/2019  SU-2011-5190         Medium  OFF-AVE-10003279   \n",
       "4   1/6/2019  AO-2011-4910         Medium  TEC-LOG-10003079   \n",
       "\n",
       "                         Product Name  ...  Discount  Profit Quantity   Sales  \\\n",
       "0                 Tenex Lockers, Blue  ...       0.0  106.14        2  408.30   \n",
       "1         Stiletto Scissors, Serrated  ...       0.0   26.76        4   81.24   \n",
       "2            Boston Pens, Fluorescent  ...       0.0    2.61        1   15.48   \n",
       "3  Avery Hole Reinforcements, Durable  ...       0.0    2.10        1    5.91   \n",
       "4     Logitech Flash Drive, Erganomic  ...       0.0   12.72        1   28.32   \n",
       "\n",
       "  Shipping Cost Discount 1/0         State2   Country  Region  Priority Label  \n",
       "0         35.46            0    Constantine   Algeria  Africa               1  \n",
       "1          5.11            0  Dar Es Salaam  Tanzania  Africa               1  \n",
       "2          0.82            0       Khartoum     Sudan  Africa               1  \n",
       "3          0.51            0       Khartoum     Sudan  Africa               1  \n",
       "4          2.00            0         Luanda    Angola  Africa               1  \n",
       "\n",
       "[5 rows x 26 columns]"
      ]
     },
     "execution_count": 8,
     "metadata": {},
     "output_type": "execute_result"
    }
   ],
   "source": [
    "order_data.head()"
   ]
  },
  {
   "cell_type": "code",
   "execution_count": 9,
   "metadata": {
    "id": "DGRNVekuLQJi"
   },
   "outputs": [],
   "source": [
    "#normalize independent variables\n",
    "from sklearn.preprocessing import MinMaxScaler\n",
    "\n",
    "mms = MinMaxScaler()\n",
    "order_data['DiscountNorm'] = mms.fit_transform(order_data[['Discount']])\n",
    "order_data['ProfitNorm'] = mms.fit_transform(order_data[['Profit']])\n",
    "order_data['QuantityNorm'] = mms.fit_transform(order_data[['Quantity']])\n",
    "order_data['SalesNorm'] = mms.fit_transform(order_data[['Sales']])\n",
    "order_data['ShippingCostNorm'] = mms.fit_transform(order_data[['Shipping Cost']])"
   ]
  },
  {
   "cell_type": "code",
   "execution_count": 10,
   "metadata": {
    "colab": {
     "base_uri": "https://localhost:8080/",
     "height": 446
    },
    "id": "l5Go9d3WbfMH",
    "outputId": "f3b1a125-ebea-43b9-cb46-a3d41fa158ca"
   },
   "outputs": [
    {
     "data": {
      "text/html": [
       "<div>\n",
       "<style scoped>\n",
       "    .dataframe tbody tr th:only-of-type {\n",
       "        vertical-align: middle;\n",
       "    }\n",
       "\n",
       "    .dataframe tbody tr th {\n",
       "        vertical-align: top;\n",
       "    }\n",
       "\n",
       "    .dataframe thead th {\n",
       "        text-align: right;\n",
       "    }\n",
       "</style>\n",
       "<table border=\"1\" class=\"dataframe\">\n",
       "  <thead>\n",
       "    <tr style=\"text-align: right;\">\n",
       "      <th></th>\n",
       "      <th>Category</th>\n",
       "      <th>City</th>\n",
       "      <th>Customer Name</th>\n",
       "      <th>Market</th>\n",
       "      <th>Customer ID</th>\n",
       "      <th>Order Date</th>\n",
       "      <th>Order ID</th>\n",
       "      <th>Order Priority</th>\n",
       "      <th>Product ID</th>\n",
       "      <th>Product Name</th>\n",
       "      <th>...</th>\n",
       "      <th>Discount 1/0</th>\n",
       "      <th>State2</th>\n",
       "      <th>Country</th>\n",
       "      <th>Region</th>\n",
       "      <th>Priority Label</th>\n",
       "      <th>DiscountNorm</th>\n",
       "      <th>ProfitNorm</th>\n",
       "      <th>QuantityNorm</th>\n",
       "      <th>SalesNorm</th>\n",
       "      <th>ShippingCostNorm</th>\n",
       "    </tr>\n",
       "  </thead>\n",
       "  <tbody>\n",
       "    <tr>\n",
       "      <th>0</th>\n",
       "      <td>Office Supplies</td>\n",
       "      <td>Constantine</td>\n",
       "      <td>Toby Braunhardt</td>\n",
       "      <td>EMEA</td>\n",
       "      <td>TB-112801</td>\n",
       "      <td>1/1/2019</td>\n",
       "      <td>AG-2011-2040</td>\n",
       "      <td>Medium</td>\n",
       "      <td>OFF-TEN-10000025</td>\n",
       "      <td>Tenex Lockers, Blue</td>\n",
       "      <td>...</td>\n",
       "      <td>0</td>\n",
       "      <td>Constantine</td>\n",
       "      <td>Algeria</td>\n",
       "      <td>Africa</td>\n",
       "      <td>1</td>\n",
       "      <td>0.0</td>\n",
       "      <td>0.447076</td>\n",
       "      <td>0.076923</td>\n",
       "      <td>0.018017</td>\n",
       "      <td>0.037983</td>\n",
       "    </tr>\n",
       "    <tr>\n",
       "      <th>1</th>\n",
       "      <td>Office Supplies</td>\n",
       "      <td>Dar es Salaam</td>\n",
       "      <td>Jack Garza</td>\n",
       "      <td>EMEA</td>\n",
       "      <td>JG-51151</td>\n",
       "      <td>1/3/2019</td>\n",
       "      <td>TZ-2011-7370</td>\n",
       "      <td>Medium</td>\n",
       "      <td>OFF-STI-10000388</td>\n",
       "      <td>Stiletto Scissors, Serrated</td>\n",
       "      <td>...</td>\n",
       "      <td>0</td>\n",
       "      <td>Dar Es Salaam</td>\n",
       "      <td>Tanzania</td>\n",
       "      <td>Africa</td>\n",
       "      <td>1</td>\n",
       "      <td>0.0</td>\n",
       "      <td>0.441784</td>\n",
       "      <td>0.230769</td>\n",
       "      <td>0.003569</td>\n",
       "      <td>0.005474</td>\n",
       "    </tr>\n",
       "    <tr>\n",
       "      <th>2</th>\n",
       "      <td>Office Supplies</td>\n",
       "      <td>Khartoum</td>\n",
       "      <td>Jasper Cacioppo</td>\n",
       "      <td>EMEA</td>\n",
       "      <td>JC-53401</td>\n",
       "      <td>1/4/2019</td>\n",
       "      <td>SU-2011-5190</td>\n",
       "      <td>Medium</td>\n",
       "      <td>OFF-BOS-10004950</td>\n",
       "      <td>Boston Pens, Fluorescent</td>\n",
       "      <td>...</td>\n",
       "      <td>0</td>\n",
       "      <td>Khartoum</td>\n",
       "      <td>Sudan</td>\n",
       "      <td>Africa</td>\n",
       "      <td>1</td>\n",
       "      <td>0.0</td>\n",
       "      <td>0.440174</td>\n",
       "      <td>0.000000</td>\n",
       "      <td>0.000664</td>\n",
       "      <td>0.000878</td>\n",
       "    </tr>\n",
       "    <tr>\n",
       "      <th>3</th>\n",
       "      <td>Office Supplies</td>\n",
       "      <td>Khartoum</td>\n",
       "      <td>Jasper Cacioppo</td>\n",
       "      <td>EMEA</td>\n",
       "      <td>JC-53401</td>\n",
       "      <td>1/4/2019</td>\n",
       "      <td>SU-2011-5190</td>\n",
       "      <td>Medium</td>\n",
       "      <td>OFF-AVE-10003279</td>\n",
       "      <td>Avery Hole Reinforcements, Durable</td>\n",
       "      <td>...</td>\n",
       "      <td>0</td>\n",
       "      <td>Khartoum</td>\n",
       "      <td>Sudan</td>\n",
       "      <td>Africa</td>\n",
       "      <td>1</td>\n",
       "      <td>0.0</td>\n",
       "      <td>0.440140</td>\n",
       "      <td>0.000000</td>\n",
       "      <td>0.000242</td>\n",
       "      <td>0.000546</td>\n",
       "    </tr>\n",
       "    <tr>\n",
       "      <th>4</th>\n",
       "      <td>Technology</td>\n",
       "      <td>Luanda</td>\n",
       "      <td>Grace Kelly</td>\n",
       "      <td>EMEA</td>\n",
       "      <td>GK-46201</td>\n",
       "      <td>1/6/2019</td>\n",
       "      <td>AO-2011-4910</td>\n",
       "      <td>Medium</td>\n",
       "      <td>TEC-LOG-10003079</td>\n",
       "      <td>Logitech Flash Drive, Erganomic</td>\n",
       "      <td>...</td>\n",
       "      <td>0</td>\n",
       "      <td>Luanda</td>\n",
       "      <td>Angola</td>\n",
       "      <td>Africa</td>\n",
       "      <td>1</td>\n",
       "      <td>0.0</td>\n",
       "      <td>0.440848</td>\n",
       "      <td>0.000000</td>\n",
       "      <td>0.001232</td>\n",
       "      <td>0.002142</td>\n",
       "    </tr>\n",
       "  </tbody>\n",
       "</table>\n",
       "<p>5 rows × 31 columns</p>\n",
       "</div>"
      ],
      "text/plain": [
       "          Category           City    Customer Name Market Customer ID  \\\n",
       "0  Office Supplies    Constantine  Toby Braunhardt   EMEA   TB-112801   \n",
       "1  Office Supplies  Dar es Salaam       Jack Garza   EMEA    JG-51151   \n",
       "2  Office Supplies       Khartoum  Jasper Cacioppo   EMEA    JC-53401   \n",
       "3  Office Supplies       Khartoum  Jasper Cacioppo   EMEA    JC-53401   \n",
       "4       Technology         Luanda      Grace Kelly   EMEA    GK-46201   \n",
       "\n",
       "  Order Date      Order ID Order Priority        Product ID  \\\n",
       "0   1/1/2019  AG-2011-2040         Medium  OFF-TEN-10000025   \n",
       "1   1/3/2019  TZ-2011-7370         Medium  OFF-STI-10000388   \n",
       "2   1/4/2019  SU-2011-5190         Medium  OFF-BOS-10004950   \n",
       "3   1/4/2019  SU-2011-5190         Medium  OFF-AVE-10003279   \n",
       "4   1/6/2019  AO-2011-4910         Medium  TEC-LOG-10003079   \n",
       "\n",
       "                         Product Name  ...  Discount 1/0         State2  \\\n",
       "0                 Tenex Lockers, Blue  ...             0    Constantine   \n",
       "1         Stiletto Scissors, Serrated  ...             0  Dar Es Salaam   \n",
       "2            Boston Pens, Fluorescent  ...             0       Khartoum   \n",
       "3  Avery Hole Reinforcements, Durable  ...             0       Khartoum   \n",
       "4     Logitech Flash Drive, Erganomic  ...             0         Luanda   \n",
       "\n",
       "    Country  Region Priority Label DiscountNorm  ProfitNorm  QuantityNorm  \\\n",
       "0   Algeria  Africa              1          0.0    0.447076      0.076923   \n",
       "1  Tanzania  Africa              1          0.0    0.441784      0.230769   \n",
       "2     Sudan  Africa              1          0.0    0.440174      0.000000   \n",
       "3     Sudan  Africa              1          0.0    0.440140      0.000000   \n",
       "4    Angola  Africa              1          0.0    0.440848      0.000000   \n",
       "\n",
       "   SalesNorm  ShippingCostNorm  \n",
       "0   0.018017          0.037983  \n",
       "1   0.003569          0.005474  \n",
       "2   0.000664          0.000878  \n",
       "3   0.000242          0.000546  \n",
       "4   0.001232          0.002142  \n",
       "\n",
       "[5 rows x 31 columns]"
      ]
     },
     "execution_count": 10,
     "metadata": {},
     "output_type": "execute_result"
    }
   ],
   "source": [
    "order_data.head()"
   ]
  },
  {
   "cell_type": "code",
   "execution_count": 11,
   "metadata": {
    "colab": {
     "base_uri": "https://localhost:8080/"
    },
    "id": "X3Kbc3qLb5mO",
    "outputId": "c11a67e3-ce14-4995-b6a1-fe8313a552b1"
   },
   "outputs": [
    {
     "data": {
      "text/plain": [
       "26"
      ]
     },
     "execution_count": 11,
     "metadata": {},
     "output_type": "execute_result"
    }
   ],
   "source": [
    "order_data.columns.get_loc('DiscountNorm')"
   ]
  },
  {
   "cell_type": "code",
   "execution_count": 12,
   "metadata": {
    "id": "oO26q0R5IajV"
   },
   "outputs": [],
   "source": [
    "datanparray = order_data.values"
   ]
  },
  {
   "cell_type": "code",
   "execution_count": 13,
   "metadata": {
    "id": "X4A64jttIfyd"
   },
   "outputs": [],
   "source": [
    "# Define independent variables, QunatityNorm, SalesNorm, ShippingCostsNorm\n",
    "TrainData   = datanparray[:, [28, 29, 30]]\n",
    "# Define dependent variable, Priority Label\n",
    "TrainLabels = datanparray[:, [25]]"
   ]
  },
  {
   "cell_type": "code",
   "execution_count": 14,
   "metadata": {
    "colab": {
     "base_uri": "https://localhost:8080/"
    },
    "id": "X23MVhj7cSRC",
    "outputId": "93bec779-a49b-43bf-9e8c-9b81e1c321f7"
   },
   "outputs": [
    {
     "data": {
      "text/plain": [
       "array([[0.07692308, 0.01801658, 0.03798323],\n",
       "       [0.23076923, 0.00356921, 0.00547361],\n",
       "       [0.        , 0.00066437, 0.00087835],\n",
       "       ...,\n",
       "       [0.07692308, 0.00089584, 0.00220658],\n",
       "       [0.46153846, 0.00399725, 0.01035809],\n",
       "       [0.07692308, 0.00922606, 0.00891203]])"
      ]
     },
     "execution_count": 14,
     "metadata": {},
     "output_type": "execute_result"
    }
   ],
   "source": [
    "TrainDataFloat = TrainData.astype(float)\n",
    "TrainDataFloat"
   ]
  },
  {
   "cell_type": "code",
   "execution_count": 15,
   "metadata": {
    "colab": {
     "base_uri": "https://localhost:8080/"
    },
    "id": "6a_GtDFpcU7e",
    "outputId": "85c8e673-f5c4-4141-fafd-2ee1473f54e7"
   },
   "outputs": [
    {
     "data": {
      "text/plain": [
       "array([[1],\n",
       "       [1],\n",
       "       [1],\n",
       "       ...,\n",
       "       [1],\n",
       "       [2],\n",
       "       [1]])"
      ]
     },
     "execution_count": 15,
     "metadata": {},
     "output_type": "execute_result"
    }
   ],
   "source": [
    "TrainLabelsInt = TrainLabels.astype(int)\n",
    "TrainLabelsInt"
   ]
  },
  {
   "cell_type": "code",
   "execution_count": 16,
   "metadata": {
    "colab": {
     "base_uri": "https://localhost:8080/"
    },
    "id": "kcoo8AzRE6Ij",
    "outputId": "7bfcef82-3431-4b6f-8acc-fd4ea8194f0b"
   },
   "outputs": [
    {
     "name": "stdout",
     "output_type": "stream",
     "text": [
      "TrainDataFloat shape: (53367, 3)\n",
      "TrainLabelsInt shape: (53367, 1)\n",
      "TrainDataFloat dtype: float64\n",
      "TrainLabelsInt dtype: int64\n"
     ]
    }
   ],
   "source": [
    "print(\"TrainDataFloat shape:\", TrainDataFloat.shape)\n",
    "print(\"TrainLabelsInt shape:\", TrainLabelsInt.shape)\n",
    "print(\"TrainDataFloat dtype:\", TrainDataFloat.dtype)\n",
    "print(\"TrainLabelsInt dtype:\", TrainLabelsInt.dtype)"
   ]
  },
  {
   "cell_type": "code",
   "execution_count": 17,
   "metadata": {
    "id": "dBpZGmSbcrcH"
   },
   "outputs": [],
   "source": [
    "model = keras.Sequential([\n",
    "    keras.layers.Dense(16, activation=tf.nn.relu),\n",
    "    keras.layers.Dense(8, activation=tf.nn.relu),\n",
    "    keras.layers.Dense(4, activation=tf.nn.softmax)\n",
    "])"
   ]
  },
  {
   "cell_type": "code",
   "execution_count": 18,
   "metadata": {
    "id": "dehHSBEwc2Ic"
   },
   "outputs": [],
   "source": [
    "#model for adam optimizer, and loss = sparse_categorical_crossentropy\n",
    "model.compile(\n",
    "              optimizer='adam',\n",
    "#             optimizer='sgd',\n",
    "              loss='sparse_categorical_crossentropy',\n",
    "              metrics=['accuracy'])"
   ]
  },
  {
   "cell_type": "code",
   "execution_count": 19,
   "metadata": {
    "colab": {
     "base_uri": "https://localhost:8080/"
    },
    "id": "NYzoU-a6c4Dh",
    "outputId": "c951dce8-c7f0-4ff3-ac2d-d0391c55bc9a"
   },
   "outputs": [
    {
     "name": "stdout",
     "output_type": "stream",
     "text": [
      "Epoch 1/36\n",
      "1668/1668 [==============================] - 3s 1ms/step - loss: 1.0225 - accuracy: 0.5786\n",
      "Epoch 2/36\n",
      "1668/1668 [==============================] - 2s 1ms/step - loss: 0.9677 - accuracy: 0.5930\n",
      "Epoch 3/36\n",
      "1668/1668 [==============================] - 2s 1ms/step - loss: 0.9288 - accuracy: 0.6094\n",
      "Epoch 4/36\n",
      "1668/1668 [==============================] - 2s 1ms/step - loss: 0.8995 - accuracy: 0.6265\n",
      "Epoch 5/36\n",
      "1668/1668 [==============================] - 4s 2ms/step - loss: 0.8769 - accuracy: 0.6404\n",
      "Epoch 6/36\n",
      "1668/1668 [==============================] - 2s 1ms/step - loss: 0.8564 - accuracy: 0.6523\n",
      "Epoch 7/36\n",
      "1668/1668 [==============================] - 2s 1ms/step - loss: 0.8409 - accuracy: 0.6611\n",
      "Epoch 8/36\n",
      "1668/1668 [==============================] - 2s 1ms/step - loss: 0.8271 - accuracy: 0.6696\n",
      "Epoch 9/36\n",
      "1668/1668 [==============================] - 2s 1ms/step - loss: 0.8172 - accuracy: 0.6758\n",
      "Epoch 10/36\n",
      "1668/1668 [==============================] - 2s 1ms/step - loss: 0.8083 - accuracy: 0.6825\n",
      "Epoch 11/36\n",
      "1668/1668 [==============================] - 2s 1ms/step - loss: 0.8005 - accuracy: 0.6868\n",
      "Epoch 12/36\n",
      "1668/1668 [==============================] - 2s 1ms/step - loss: 0.7940 - accuracy: 0.6903\n",
      "Epoch 13/36\n",
      "1668/1668 [==============================] - 2s 1ms/step - loss: 0.7881 - accuracy: 0.6944\n",
      "Epoch 14/36\n",
      "1668/1668 [==============================] - 2s 1ms/step - loss: 0.7835 - accuracy: 0.6979\n",
      "Epoch 15/36\n",
      "1668/1668 [==============================] - 2s 1ms/step - loss: 0.7793 - accuracy: 0.6999\n",
      "Epoch 16/36\n",
      "1668/1668 [==============================] - 2s 1ms/step - loss: 0.7762 - accuracy: 0.7021\n",
      "Epoch 17/36\n",
      "1668/1668 [==============================] - 2s 1ms/step - loss: 0.7720 - accuracy: 0.7034\n",
      "Epoch 18/36\n",
      "1668/1668 [==============================] - 2s 1ms/step - loss: 0.7705 - accuracy: 0.7046\n",
      "Epoch 19/36\n",
      "1668/1668 [==============================] - 2s 1ms/step - loss: 0.7678 - accuracy: 0.7065\n",
      "Epoch 20/36\n",
      "1668/1668 [==============================] - 2s 1ms/step - loss: 0.7651 - accuracy: 0.7081\n",
      "Epoch 21/36\n",
      "1668/1668 [==============================] - 2s 1ms/step - loss: 0.7640 - accuracy: 0.7068\n",
      "Epoch 22/36\n",
      "1668/1668 [==============================] - 2s 1ms/step - loss: 0.7607 - accuracy: 0.7105\n",
      "Epoch 23/36\n",
      "1668/1668 [==============================] - 2s 1ms/step - loss: 0.7601 - accuracy: 0.7108\n",
      "Epoch 24/36\n",
      "1668/1668 [==============================] - 2s 1ms/step - loss: 0.7583 - accuracy: 0.7116\n",
      "Epoch 25/36\n",
      "1668/1668 [==============================] - 2s 1ms/step - loss: 0.7561 - accuracy: 0.7122\n",
      "Epoch 26/36\n",
      "1668/1668 [==============================] - 2s 1ms/step - loss: 0.7548 - accuracy: 0.7127\n",
      "Epoch 27/36\n",
      "1668/1668 [==============================] - 2s 1ms/step - loss: 0.7534 - accuracy: 0.7128\n",
      "Epoch 28/36\n",
      "1668/1668 [==============================] - 2s 1ms/step - loss: 0.7531 - accuracy: 0.7136\n",
      "Epoch 29/36\n",
      "1668/1668 [==============================] - 3s 2ms/step - loss: 0.7531 - accuracy: 0.7136\n",
      "Epoch 30/36\n",
      "1668/1668 [==============================] - 3s 2ms/step - loss: 0.7512 - accuracy: 0.7127\n",
      "Epoch 31/36\n",
      "1668/1668 [==============================] - 2s 1ms/step - loss: 0.7507 - accuracy: 0.7141\n",
      "Epoch 32/36\n",
      "1668/1668 [==============================] - 2s 1ms/step - loss: 0.7489 - accuracy: 0.7151\n",
      "Epoch 33/36\n",
      "1668/1668 [==============================] - 2s 1ms/step - loss: 0.7478 - accuracy: 0.7162\n",
      "Epoch 34/36\n",
      "1668/1668 [==============================] - 2s 1ms/step - loss: 0.7476 - accuracy: 0.7155\n",
      "Epoch 35/36\n",
      "1668/1668 [==============================] - 2s 1ms/step - loss: 0.7476 - accuracy: 0.7160\n",
      "Epoch 36/36\n",
      "1668/1668 [==============================] - 2s 1ms/step - loss: 0.7472 - accuracy: 0.7159\n"
     ]
    },
    {
     "data": {
      "text/plain": [
       "<keras.src.callbacks.History at 0x7f4c14081270>"
      ]
     },
     "execution_count": 19,
     "metadata": {},
     "output_type": "execute_result"
    }
   ],
   "source": [
    "model.fit(TrainDataFloat, TrainLabelsInt, epochs=36)"
   ]
  },
  {
   "cell_type": "code",
   "execution_count": 20,
   "metadata": {
    "colab": {
     "base_uri": "https://localhost:8080/"
    },
    "id": "WgKeflYrJs-T",
    "outputId": "3e948549-c0e6-47fb-b13e-ba0778f106d1"
   },
   "outputs": [
    {
     "name": "stdout",
     "output_type": "stream",
     "text": [
      "1668/1668 [==============================] - 2s 1ms/step - loss: 0.7422 - accuracy: 0.7225\n",
      "Train accuracy: 0.722468912601471\n"
     ]
    }
   ],
   "source": [
    "train_loss, train_acc = model.evaluate(TrainDataFloat, TrainLabelsInt)\n",
    "\n",
    "print('Train accuracy:', train_acc)"
   ]
  },
  {
   "cell_type": "code",
   "execution_count": 21,
   "metadata": {
    "colab": {
     "base_uri": "https://localhost:8080/"
    },
    "id": "bJZ2oxGkEu2E",
    "outputId": "92c680bf-52c3-49ae-d299-db15461473b5"
   },
   "outputs": [
    {
     "name": "stdout",
     "output_type": "stream",
     "text": [
      "Model: \"sequential\"\n",
      "_________________________________________________________________\n",
      " Layer (type)                Output Shape              Param #   \n",
      "=================================================================\n",
      " dense (Dense)               (None, 16)                64        \n",
      "                                                                 \n",
      " dense_1 (Dense)             (None, 8)                 136       \n",
      "                                                                 \n",
      " dense_2 (Dense)             (None, 4)                 36        \n",
      "                                                                 \n",
      "=================================================================\n",
      "Total params: 236 (944.00 Byte)\n",
      "Trainable params: 236 (944.00 Byte)\n",
      "Non-trainable params: 0 (0.00 Byte)\n",
      "_________________________________________________________________\n"
     ]
    }
   ],
   "source": [
    "model.summary()"
   ]
  },
  {
   "cell_type": "code",
   "execution_count": 22,
   "metadata": {
    "colab": {
     "base_uri": "https://localhost:8080/"
    },
    "id": "eV-0meyTK_oz",
    "outputId": "bf577561-7ff2-4916-b1e0-31615c6fdf90"
   },
   "outputs": [
    {
     "name": "stdout",
     "output_type": "stream",
     "text": [
      "1668/1668 [==============================] - 2s 1ms/step\n"
     ]
    }
   ],
   "source": [
    "predictions = model.predict(TrainDataFloat)"
   ]
  },
  {
   "cell_type": "code",
   "execution_count": 23,
   "metadata": {
    "id": "l4tTnG-SLDB1"
   },
   "outputs": [],
   "source": [
    "priority_labels= ['Low', 'Medium', 'High', 'Critical']"
   ]
  },
  {
   "cell_type": "code",
   "execution_count": 24,
   "metadata": {
    "colab": {
     "base_uri": "https://localhost:8080/"
    },
    "id": "5INCvWDOLKt0",
    "outputId": "b51fe119-83e9-4180-96f5-4d3024ee8284"
   },
   "outputs": [
    {
     "name": "stdout",
     "output_type": "stream",
     "text": [
      "4\n",
      "4\n"
     ]
    }
   ],
   "source": [
    "print(len(predictions[0]))\n",
    "print(len(priority_labels))"
   ]
  },
  {
   "cell_type": "code",
   "execution_count": 25,
   "metadata": {
    "id": "_D07GgfqLP0g"
   },
   "outputs": [],
   "source": [
    "def plot_image(i, predictions_array, true_label):\n",
    "  plt.grid(False)\n",
    "  plt.xticks([])\n",
    "  plt.yticks([])\n",
    "\n",
    "  predicted_label = np.argmax(predictions_array[i])\n",
    "  if predicted_label == true_label[i][0]:\n",
    "    TextColor = 'blue'\n",
    "  else:\n",
    "    TextColor = 'red'\n",
    "\n",
    "  plt.xlabel(\"{} {:2.0f}% ({})\".format(\n",
    "                                  priority_labels[predicted_label],\n",
    "                                  100*np.max(predictions_array[i]),\n",
    "                                  priority_labels[true_label[i][0]]\n",
    "                                  ),\n",
    "                                color=TextColor)\n",
    "\n",
    "def plot_value_array(i, predictions_array, true_label):\n",
    "  plt.grid(True)\n",
    "  plt.ylim([0, 1])\n",
    "\n",
    "  predicted_label = np.argmax(predictions_array[i])\n",
    "  thisplot = plt.bar(range(len(predictions_array[0])), predictions_array[i], color=\"#777777\")\n",
    "\n",
    "  # if the true label equals the predicted label, then the blue color will overwrite the red color\n",
    "  thisplot[predicted_label].set_color('red')\n",
    "  thisplot[true_label[i][0]].set_color('blue')"
   ]
  },
  {
   "cell_type": "code",
   "execution_count": 26,
   "metadata": {
    "colab": {
     "base_uri": "https://localhost:8080/",
     "height": 255
    },
    "id": "eOveh7B3LRhZ",
    "outputId": "1a771205-f7a5-4990-8100-16ffd7af4b32"
   },
   "outputs": [
    {
     "data": {
      "image/png": "[encoded data removed]",
      "text/plain": [
       "<Figure size 400x200 with 2 Axes>"
      ]
     },
     "metadata": {},
     "output_type": "display_data"
    }
   ],
   "source": [
    "i = 0\n",
    "# width, height\n",
    "plt.figure(figsize=(4,2))\n",
    "\n",
    "# nrows, ncols, index\n",
    "plt.subplot(1,2,1)\n",
    "# Create summary plot on left side\n",
    "plot_image(i, predictions, TrainLabelsInt)\n",
    "# nrows, ncols, index\n",
    "plt.subplot(1,2,2)\n",
    "# Create bar plot on right side\n",
    "plot_value_array(i, predictions, TrainLabelsInt)\n",
    "# Label X axis with classification names\n",
    "plt.xticks(range(len(predictions[0])), priority_labels, rotation=45)\n",
    "# Display the graphic\n",
    "plt.show()\n",
    "# Blue bar is correct.  If red bar appears, it is the incorrect prediction of the model."
   ]
  },
  {
   "cell_type": "code",
   "execution_count": 27,
   "metadata": {
    "colab": {
     "base_uri": "https://localhost:8080/"
    },
    "id": "9ffYF_HrLSUK",
    "outputId": "96577257-cdc2-42c9-f03e-7dc0f01364c5"
   },
   "outputs": [
    {
     "data": {
      "text/plain": [
       "array([0.04109452, 0.7595098 , 0.19512206, 0.00427361], dtype=float32)"
      ]
     },
     "execution_count": 27,
     "metadata": {},
     "output_type": "execute_result"
    }
   ],
   "source": [
    "predictions[0]"
   ]
  },
  {
   "cell_type": "code",
   "execution_count": 28,
   "metadata": {
    "colab": {
     "base_uri": "https://localhost:8080/"
    },
    "id": "Pe4LJlWYOdCm",
    "outputId": "e08cca03-dc8a-4056-ebae-cbe323c6c6ee"
   },
   "outputs": [
    {
     "name": "stdout",
     "output_type": "stream",
     "text": [
      "Number of predictions: 53367\n",
      "Number of labels: 53367\n"
     ]
    }
   ],
   "source": [
    "print(\"Number of predictions:\", len(predictions))\n",
    "print(\"Number of labels:\", len(TrainLabelsInt))"
   ]
  },
  {
   "cell_type": "code",
   "execution_count": 29,
   "metadata": {
    "colab": {
     "base_uri": "https://localhost:8080/",
     "height": 1000
    },
    "id": "TbtL45GOMSZK",
    "outputId": "7ae7a4f6-6f7b-4de6-9b8a-1d449a83b76f"
   },
   "outputs": [
    {
     "data": {
      "image/png": "[encoded data removed]",
      "text/plain": [
       "<Figure size 1600x4000 with 160 Axes>"
      ]
     },
     "metadata": {},
     "output_type": "display_data"
    }
   ],
   "source": [
    "num_rows = 20\n",
    "num_cols = 4\n",
    "num_images = num_rows*num_cols\n",
    "# width, height\n",
    "plt.figure(figsize=(2*2*num_cols, 2*num_rows))\n",
    "\n",
    "# Create each plot\n",
    "for i in range(num_images):\n",
    "  # nrows, ncols, index\n",
    "  plt.subplot(num_rows, 2*num_cols, 2*i+1)\n",
    "  # Create summary plot on left side\n",
    "  plot_image(i, predictions, TrainLabelsInt)\n",
    "  # nrows, ncols, index\n",
    "  plt.subplot(num_rows, 2*num_cols, 2*i+2)\n",
    "  # Create bar plot on right side\n",
    "  plot_value_array(i, predictions, TrainLabelsInt)\n",
    "  # Label X axis with classification names\n",
    "  plt.xticks(range(len(predictions[0])), priority_labels, rotation=45)\n",
    "\n",
    "# Display the graphic\n",
    "plt.show()\n",
    "# Blue bar is correct.  If red bar appears, it is the incorrect prediction of the model."
   ]
  },
  {
   "cell_type": "code",
   "execution_count": 30,
   "metadata": {
    "id": "9tfAleG-PFSt"
   },
   "outputs": [],
   "source": [
    "layer0 = model.get_layer(index=0)"
   ]
  },
  {
   "cell_type": "code",
   "execution_count": 31,
   "metadata": {
    "colab": {
     "base_uri": "https://localhost:8080/"
    },
    "id": "6ehpgzYqPIaT",
    "outputId": "f89c5399-c5d5-40be-d03d-d0d5d9a5cef4"
   },
   "outputs": [
    {
     "data": {
      "text/plain": [
       "[array([[ 6.22297823e-03,  4.39035475e-01, -2.02330686e-02,\n",
       "          5.96119612e-02, -1.27239537e-03, -3.37452710e-01,\n",
       "         -4.22431588e-01,  2.20612790e-02,  1.59408122e-01,\n",
       "         -4.41519022e-02, -1.04756683e-01, -2.02218994e-01,\n",
       "          4.04394895e-01, -1.86688155e-01, -3.10604393e-01,\n",
       "         -4.37218696e-03],\n",
       "        [ 5.63753557e+00,  2.65641403e+00,  1.56577754e+00,\n",
       "         -4.78774786e+00,  5.70123577e+00, -2.82413870e-01,\n",
       "         -3.09253484e-01,  3.33846521e+00,  3.63581681e+00,\n",
       "         -5.43529272e-01, -1.16948575e-01, -6.43714714e+00,\n",
       "         -1.05993223e+00,  2.82354522e+00,  4.27105951e+00,\n",
       "         -1.00182190e+01],\n",
       "        [-2.64063716e+00,  2.33296871e-01, -3.73182446e-01,\n",
       "          1.38340425e+00, -7.25447369e+00, -3.41872841e-01,\n",
       "         -2.22405702e-01,  7.91055188e-02, -1.57319868e+00,\n",
       "         -2.28218675e-01, -4.80465025e-01,  6.10554218e-01,\n",
       "          5.95485687e-01, -3.57992530e+00,  3.32440823e-01,\n",
       "          1.01636040e+00]], dtype=float32),\n",
       " array([ 0.01246759,  0.07819039,  0.2631485 ,  0.0341277 ,  0.02828361,\n",
       "         0.        ,  0.        , -0.00120752,  0.02766881,  0.        ,\n",
       "         0.        ,  0.12168685,  0.12922563,  0.15060948,  0.1604934 ,\n",
       "         0.01633432], dtype=float32)]"
      ]
     },
     "execution_count": 31,
     "metadata": {},
     "output_type": "execute_result"
    }
   ],
   "source": [
    "layer0.get_weights()"
   ]
  },
  {
   "cell_type": "code",
   "execution_count": 32,
   "metadata": {
    "id": "YzlWYS__PKB6"
   },
   "outputs": [],
   "source": [
    "layer1 = model.get_layer(index=1)"
   ]
  },
  {
   "cell_type": "code",
   "execution_count": 33,
   "metadata": {
    "colab": {
     "base_uri": "https://localhost:8080/"
    },
    "id": "kM6tFf-8PLUE",
    "outputId": "8a7d08fc-76c4-48fb-a911-8b8d991ce604"
   },
   "outputs": [
    {
     "data": {
      "text/plain": [
       "[array([[-5.2571597e+00,  1.6718188e-01, -5.4056066e-01, -5.5854473e+00,\n",
       "         -3.5686812e+00,  3.6466363e-01, -6.2874627e-01,  2.7892780e-01],\n",
       "        [-1.5326670e-01,  5.1348619e-02,  2.3357123e-01, -1.6471650e-01,\n",
       "         -1.6254850e-01, -9.1933995e-02,  8.1469190e-01,  3.0073289e-02],\n",
       "        [ 2.9094589e-01,  7.1190786e-01,  6.9413722e-01, -2.4661493e-02,\n",
       "         -5.6355709e-01, -1.6152640e-01,  7.1952921e-01,  5.3602953e-02],\n",
       "        [ 1.2796843e-01, -2.4209652e+00, -2.6539106e+00,  2.4111438e+00,\n",
       "          2.0017567e+00, -2.3584764e-01, -1.4795206e+00, -6.9323317e-03],\n",
       "        [-5.6191025e+00,  2.6079240e-01, -3.1699289e-02, -5.4904437e+00,\n",
       "         -3.4968877e+00, -2.9837990e-01, -3.9900586e-01, -1.2674201e-01],\n",
       "        [ 4.4282377e-01, -1.1046183e-01, -4.6168780e-01,  4.9755573e-03,\n",
       "         -3.3822441e-01, -1.5459895e-01,  4.0137446e-01,  3.0833972e-01],\n",
       "        [-2.1178699e-01,  3.4700501e-01, -1.2067747e-01,  1.2491107e-02,\n",
       "         -3.1556678e-01,  3.1542623e-01, -2.1035075e-01,  3.4003544e-01],\n",
       "        [ 9.8795347e-02, -2.8601463e+00, -1.9158512e+00, -2.3912108e+00,\n",
       "          1.8432362e-01,  3.3864811e-01, -8.9945608e-01,  2.2009134e-01],\n",
       "        [-4.7352540e-01,  2.2950028e-01,  5.8887911e-01, -6.1682051e-01,\n",
       "         -2.4561733e-01, -2.4418686e-01, -4.3144828e-01, -8.3218098e-02],\n",
       "        [ 2.5809872e-01, -8.5217476e-02,  1.5137005e-01,  3.7816393e-01,\n",
       "          1.8533015e-01,  4.6637678e-01, -2.2602034e-01,  4.6291268e-01],\n",
       "        [ 9.2529297e-02, -3.1697357e-01,  2.6110435e-01, -4.8517585e-01,\n",
       "         -4.8935151e-01,  3.1293678e-01, -1.5164661e-01,  4.5020235e-01],\n",
       "        [ 9.1807145e-01, -1.3682571e-01, -7.3845290e-02,  1.9908023e+00,\n",
       "          8.5824615e-01,  9.6992135e-02, -1.2261326e+00, -4.0944088e-01],\n",
       "        [ 2.9419231e-01, -5.8280110e-02,  2.6387405e-01,  6.2457737e-02,\n",
       "          2.1547897e-01,  6.3056573e-02,  7.5023609e-01, -2.5341853e-01],\n",
       "        [-1.0762728e+00,  7.1897715e-01,  1.0316980e+00, -6.0466689e-01,\n",
       "         -3.7335134e-01, -2.3680353e-01,  1.7548335e-01, -3.5682333e-01],\n",
       "        [-1.6003090e-01,  8.7587282e-02,  6.7372851e-02, -1.1062144e+00,\n",
       "          1.6579036e-01, -3.4021682e-01,  9.5107734e-01, -4.2407951e-01],\n",
       "        [ 4.8176293e+00, -6.3576064e+00, -5.4220805e+00,  7.0981493e+00,\n",
       "          6.0137725e+00,  1.0856713e-01, -7.5474200e+00,  1.1418218e-01]],\n",
       "       dtype=float32),\n",
       " array([ 0.15769653,  0.23018937,  0.37181512,  0.19243361,  0.09934735,\n",
       "        -0.07457387,  0.28461012,  0.00369868], dtype=float32)]"
      ]
     },
     "execution_count": 33,
     "metadata": {},
     "output_type": "execute_result"
    }
   ],
   "source": [
    "layer1.get_weights()"
   ]
  },
  {
   "cell_type": "code",
   "execution_count": 34,
   "metadata": {
    "id": "RzsI6f10PNx1"
   },
   "outputs": [],
   "source": [
    "layer2 = model.get_layer(index=2)"
   ]
  },
  {
   "cell_type": "code",
   "execution_count": 35,
   "metadata": {
    "colab": {
     "base_uri": "https://localhost:8080/"
    },
    "id": "2NPDZCYCPPd0",
    "outputId": "c18196d1-5361-4827-c9dc-b504e14727f7"
   },
   "outputs": [
    {
     "data": {
      "text/plain": [
       "[array([[ 1.0573993 , -7.674918  ,  2.1238024 ,  4.6888156 ],\n",
       "        [ 0.1129563 ,  1.4703861 ,  0.41945347, -2.8423681 ],\n",
       "        [-0.20144732,  1.1207936 ,  0.26109084, -1.7068242 ],\n",
       "        [-2.2215793 , -7.44974   , -0.17552952,  8.619286  ],\n",
       "        [-1.9478513 , -1.5612717 ,  0.9297414 ,  2.9761918 ],\n",
       "        [ 0.2724761 , -0.60613036,  0.49890682, -0.35352138],\n",
       "        [-0.08294991,  1.3473006 ,  0.4227912 , -1.9574744 ],\n",
       "        [-0.5190721 ,  0.6281942 , -0.3160201 , -0.01801858]],\n",
       "       dtype=float32),\n",
       " array([-0.7399359 ,  0.5568966 , -0.0815769 ,  0.05311239], dtype=float32)]"
      ]
     },
     "execution_count": 35,
     "metadata": {},
     "output_type": "execute_result"
    }
   ],
   "source": [
    "layer2.get_weights()"
   ]
  },
  {
   "cell_type": "code",
   "execution_count": 36,
   "metadata": {
    "id": "yevribE1PR7c"
   },
   "outputs": [],
   "source": [
    "# Create data frame that contains predictions\n",
    "predictionsDF = pd.DataFrame(\n",
    "    data=predictions,\n",
    "    columns=priority_labels\n",
    "    )\n"
   ]
  },
  {
   "cell_type": "code",
   "execution_count": 37,
   "metadata": {
    "id": "X8s7g2xxPXXB"
   },
   "outputs": [],
   "source": [
    "# Create external file that contains the predictions\n",
    "predictionsDF.to_csv(\"Predictions1.csv\", encoding='utf-8', header=True, index=False)\n"
   ]
  },
  {
   "cell_type": "code",
   "execution_count": 38,
   "metadata": {
    "id": "u64IWZL9culz"
   },
   "outputs": [],
   "source": [
    "# Create one-dimensional array\n",
    "TrainLabelsInt1D = np.ndarray.copy(TrainLabelsInt[:,0])\n",
    "\n",
    "# Determine predicted outcomes and whether predicted outcomes equal actual outcomes\n",
    "PredictedLabels1D   = np.ndarray.copy(TrainLabelsInt1D)\n",
    "PredictedOutcomes1D = np.ndarray.copy(TrainLabelsInt1D)\n",
    "for i in range(len(TrainLabelsInt1D)):\n",
    "    PredictedLabels1D[i] = np.argmax(predictions[i])\n",
    "    if PredictedLabels1D[i] == TrainLabelsInt1D[i]:\n",
    "        PredictedOutcomes1D[i] = 1\n",
    "    else:\n",
    "        PredictedOutcomes1D[i] = 0"
   ]
  },
  {
   "cell_type": "code",
   "execution_count": 39,
   "metadata": {
    "colab": {
     "base_uri": "https://localhost:8080/"
    },
    "id": "8kkxGhyOcwQ3",
    "outputId": "851246aa-a6db-4e53-a5ac-462f7a56d121"
   },
   "outputs": [
    {
     "data": {
      "text/plain": [
       "array([1, 1, 1, ..., 1, 2, 1])"
      ]
     },
     "execution_count": 39,
     "metadata": {},
     "output_type": "execute_result"
    }
   ],
   "source": [
    "TrainLabelsInt1D"
   ]
  },
  {
   "cell_type": "code",
   "execution_count": 40,
   "metadata": {
    "colab": {
     "base_uri": "https://localhost:8080/"
    },
    "id": "JP1PzfPvcxtm",
    "outputId": "49ad733a-2320-42c3-9cee-b3b99662e887"
   },
   "outputs": [
    {
     "data": {
      "text/plain": [
       "array([1, 1, 1, ..., 1, 1, 1])"
      ]
     },
     "execution_count": 40,
     "metadata": {},
     "output_type": "execute_result"
    }
   ],
   "source": [
    "PredictedLabels1D"
   ]
  },
  {
   "cell_type": "code",
   "execution_count": 41,
   "metadata": {
    "colab": {
     "base_uri": "https://localhost:8080/"
    },
    "id": "ITK65HNacx7T",
    "outputId": "39d6c316-1a01-4504-8f47-342f11b6954a"
   },
   "outputs": [
    {
     "data": {
      "text/plain": [
       "array([1, 1, 1, ..., 1, 0, 1])"
      ]
     },
     "execution_count": 41,
     "metadata": {},
     "output_type": "execute_result"
    }
   ],
   "source": [
    "PredictedOutcomes1D"
   ]
  },
  {
   "cell_type": "code",
   "execution_count": 42,
   "metadata": {
    "colab": {
     "base_uri": "https://localhost:8080/"
    },
    "id": "WRbcLlPrc0cY",
    "outputId": "b4f323a6-1c47-4b0f-d38b-a78d3b2208ad"
   },
   "outputs": [
    {
     "data": {
      "text/plain": [
       "<tf.Tensor: shape=(4, 4), dtype=int32, numpy=\n",
       "array([[    0,  1180,  1322,     3],\n",
       "       [    0, 27003,  3535,   104],\n",
       "       [    0,  5951,  9506,   689],\n",
       "       [    0,   279,  1748,  2047]], dtype=int32)>"
      ]
     },
     "execution_count": 42,
     "metadata": {},
     "output_type": "execute_result"
    }
   ],
   "source": [
    "# Create classification matrix\n",
    "# The classification matrix columns represent the prediction labels and the rows represent the actual labels\n",
    "tf.math.confusion_matrix(\n",
    "    TrainLabelsInt1D,\n",
    "    PredictedLabels1D,\n",
    "    num_classes=None,\n",
    "    weights=None,\n",
    "    dtype=tf.dtypes.int32,\n",
    "    name=None\n",
    "    )"
   ]
  },
  {
   "cell_type": "code",
   "execution_count": 43,
   "metadata": {
    "colab": {
     "base_uri": "https://localhost:8080/"
    },
    "id": "dH9HX2hxc9Oh",
    "outputId": "0b1759a1-f02c-44cb-ab92-6812658251cc"
   },
   "outputs": [
    {
     "name": "stdout",
     "output_type": "stream",
     "text": [
      "Classification Matrix\n",
      "[[    0  1180  1322     3]\n",
      " [    0 27003  3535   104]\n",
      " [    0  5951  9506   689]\n",
      " [    0   279  1748  2047]]\n"
     ]
    }
   ],
   "source": [
    "# Create classification matrix\n",
    "# The classification matrix columns represent the prediction labels and the rows represent the actual labels\n",
    "from sklearn.metrics import confusion_matrix\n",
    "\n",
    "ClassificationMatrix = confusion_matrix(\n",
    "    TrainLabelsInt1D,\n",
    "    PredictedLabels1D\n",
    "    )\n",
    "print('Classification Matrix')\n",
    "print(ClassificationMatrix)"
   ]
  },
  {
   "cell_type": "code",
   "execution_count": 44,
   "metadata": {
    "colab": {
     "base_uri": "https://localhost:8080/"
    },
    "id": "sTiDgEpFdAyJ",
    "outputId": "fa8a326a-6234-44b7-a009-5c1189f96e2f"
   },
   "outputs": [
    {
     "name": "stdout",
     "output_type": "stream",
     "text": [
      "Accuracy: 0.72\n"
     ]
    }
   ],
   "source": [
    "from sklearn.metrics import accuracy_score, precision_score, recall_score, f1_score\n",
    "print('Accuracy: {:.2f}'.format(accuracy_score(TrainLabelsInt1D, PredictedLabels1D)))"
   ]
  },
  {
   "cell_type": "code",
   "execution_count": 45,
   "metadata": {
    "colab": {
     "base_uri": "https://localhost:8080/"
    },
    "id": "rzckkspEdDDS",
    "outputId": "3cb9c290-20c5-495d-be05-9b5fe8fdf979"
   },
   "outputs": [
    {
     "name": "stdout",
     "output_type": "stream",
     "text": [
      "Sensitivity: 0.72\n"
     ]
    }
   ],
   "source": [
    "# Sensitivity is also called true positive rate (TPR) or recall\n",
    "print('Sensitivity: {:.2f}'.format(recall_score(TrainLabelsInt1D, PredictedLabels1D, average='micro')))"
   ]
  },
  {
   "cell_type": "code",
   "execution_count": 46,
   "metadata": {
    "id": "_D1sK6l7dFZf"
   },
   "outputs": [],
   "source": [
    "# Create two-dimensional array\n",
    "PredictedLabels2D      = np.ndarray.copy(TrainLabelsInt)\n",
    "PredictedLabels2D[:,0] = np.ndarray.copy(PredictedLabels1D)\n",
    "\n",
    "PredictedOutcomes2D      = np.ndarray.copy(TrainLabelsInt)\n",
    "PredictedOutcomes2D[:,0] = np.ndarray.copy(PredictedOutcomes1D)"
   ]
  },
  {
   "cell_type": "code",
   "execution_count": 47,
   "metadata": {
    "colab": {
     "base_uri": "https://localhost:8080/"
    },
    "id": "NQI8GeoQdHk-",
    "outputId": "ce3ff222-c794-4bac-ed42-b5f320280681"
   },
   "outputs": [
    {
     "data": {
      "text/plain": [
       "array([1, 1, 1, ..., 1, 1, 1])"
      ]
     },
     "execution_count": 47,
     "metadata": {},
     "output_type": "execute_result"
    }
   ],
   "source": [
    "PredictedLabels1D"
   ]
  },
  {
   "cell_type": "code",
   "execution_count": 48,
   "metadata": {
    "colab": {
     "base_uri": "https://localhost:8080/"
    },
    "id": "wNvCBNu4dHxO",
    "outputId": "238f139d-61a0-49fb-87fd-6666e7d4206a"
   },
   "outputs": [
    {
     "data": {
      "text/plain": [
       "array([[1],\n",
       "       [1],\n",
       "       [1],\n",
       "       ...,\n",
       "       [1],\n",
       "       [1],\n",
       "       [1]])"
      ]
     },
     "execution_count": 48,
     "metadata": {},
     "output_type": "execute_result"
    }
   ],
   "source": [
    "PredictedLabels2D"
   ]
  },
  {
   "cell_type": "code",
   "execution_count": 49,
   "metadata": {
    "colab": {
     "base_uri": "https://localhost:8080/"
    },
    "id": "lZsj5m4LdH_x",
    "outputId": "c57a9b97-f700-467d-bd16-69493edf0af1"
   },
   "outputs": [
    {
     "data": {
      "text/plain": [
       "array([1, 1, 1, ..., 1, 0, 1])"
      ]
     },
     "execution_count": 49,
     "metadata": {},
     "output_type": "execute_result"
    }
   ],
   "source": [
    "PredictedOutcomes1D"
   ]
  },
  {
   "cell_type": "code",
   "execution_count": 50,
   "metadata": {
    "colab": {
     "base_uri": "https://localhost:8080/"
    },
    "id": "9AiUjU1tdIQe",
    "outputId": "9b77cfe4-8d3b-457d-caee-2eda95fe53a9"
   },
   "outputs": [
    {
     "data": {
      "text/plain": [
       "array([[1],\n",
       "       [1],\n",
       "       [1],\n",
       "       ...,\n",
       "       [1],\n",
       "       [0],\n",
       "       [1]])"
      ]
     },
     "execution_count": 50,
     "metadata": {},
     "output_type": "execute_result"
    }
   ],
   "source": [
    "PredictedOutcomes2D"
   ]
  },
  {
   "cell_type": "code",
   "execution_count": 51,
   "metadata": {
    "id": "YpRCfAVxdIcY"
   },
   "outputs": [],
   "source": [
    "TrainDataLabels                        = np.append(TrainDataFloat, TrainLabelsInt, axis=1)\n",
    "TrainDataLabelsPredictions             = np.append(TrainDataLabels, PredictedLabels2D, axis=1)\n",
    "TrainDataLabelsPredictionsOutcomes     = np.append(TrainDataLabelsPredictions, PredictedOutcomes2D, axis=1)\n",
    "TrainDataLabelsPredictionsOutcomesProb = np.append(TrainDataLabelsPredictionsOutcomes, predictions, axis=1)"
   ]
  },
  {
   "cell_type": "code",
   "execution_count": 52,
   "metadata": {
    "id": "0kNwiCvkdUNP"
   },
   "outputs": [],
   "source": [
    "# Define header\n",
    "HeaderNames = ['QuantityNorm', 'SalesNorm', 'ShippingCostNorm', 'OrderPriorityLabelActual', 'OrderPriorityLabelPrediction', 'OrderPriorityLabelAccurate',\n",
    "    'LowProbability', 'MediumProbability', 'HighProbability', 'CriticalProbability']\n",
    "\n",
    "# Create data frame\n",
    "TDLPOP_DF = pd.DataFrame(\n",
    "    data=TrainDataLabelsPredictionsOutcomesProb,\n",
    "    columns=HeaderNames\n",
    "    )"
   ]
  },
  {
   "cell_type": "code",
   "execution_count": 53,
   "metadata": {
    "id": "DC_hW_Fjdb4o"
   },
   "outputs": [],
   "source": [
    "TDLPOP_DF.to_csv(\"Predictions2.csv\", encoding='utf-8', header=True, index=False)"
   ]
  },
  {
   "cell_type": "code",
   "execution_count": null,
   "metadata": {
    "id": "EhciWmfdpEU2"
   },
   "outputs": [],
   "source": []
  },
  {
   "cell_type": "code",
   "execution_count": null,
   "metadata": {
    "id": "vB5v_etbpEOG"
   },
   "outputs": [],
   "source": []
  },
  {
   "cell_type": "code",
   "execution_count": 54,
   "metadata": {
    "id": "xWA_pSBJozay"
   },
   "outputs": [],
   "source": [
    "# Create directory to save model\n",
    "!mkdir -p Models"
   ]
  },
  {
   "cell_type": "code",
   "execution_count": 55,
   "metadata": {
    "id": "QQB25J3ro8nT"
   },
   "outputs": [
    {
     "name": "stdout",
     "output_type": "stream",
     "text": [
      "INFO:tensorflow:Assets written to: Models/assets\n"
     ]
    },
    {
     "name": "stderr",
     "output_type": "stream",
     "text": [
      "INFO:tensorflow:Assets written to: Models/assets\n"
     ]
    }
   ],
   "source": [
    "# Save model\n",
    "tf.keras.models.save_model(\n",
    "    model,\n",
    "    \"Models\",\n",
    "    overwrite=True,\n",
    "    include_optimizer=True,\n",
    "    save_format=None,\n",
    "    signatures=None,\n",
    "    options=None\n",
    "    )"
   ]
  },
  {
   "cell_type": "code",
   "execution_count": 56,
   "metadata": {
    "id": "wVQGzK3Ao_ZQ"
   },
   "outputs": [],
   "source": [
    "# Load saved model\n",
    "new_model = tf.keras.models.load_model(\"Models\")"
   ]
  },
  {
   "cell_type": "code",
   "execution_count": 57,
   "metadata": {
    "colab": {
     "base_uri": "https://localhost:8080/"
    },
    "id": "1bl_6jRQpBrV",
    "outputId": "f140c52d-b9f2-4a72-9ffc-ce49486607bc"
   },
   "outputs": [
    {
     "name": "stdout",
     "output_type": "stream",
     "text": [
      "Model: \"sequential\"\n",
      "_________________________________________________________________\n",
      " Layer (type)                Output Shape              Param #   \n",
      "=================================================================\n",
      " dense (Dense)               (None, 16)                64        \n",
      "                                                                 \n",
      " dense_1 (Dense)             (None, 8)                 136       \n",
      "                                                                 \n",
      " dense_2 (Dense)             (None, 4)                 36        \n",
      "                                                                 \n",
      "=================================================================\n",
      "Total params: 236 (944.00 Byte)\n",
      "Trainable params: 236 (944.00 Byte)\n",
      "Non-trainable params: 0 (0.00 Byte)\n",
      "_________________________________________________________________\n"
     ]
    }
   ],
   "source": [
    "# Print summary of original model\n",
    "model.summary()"
   ]
  },
  {
   "cell_type": "code",
   "execution_count": 58,
   "metadata": {
    "colab": {
     "base_uri": "https://localhost:8080/"
    },
    "id": "0xgjAdNSpHdZ",
    "outputId": "3a3c5091-e7df-417a-d165-01f187434b84"
   },
   "outputs": [
    {
     "name": "stdout",
     "output_type": "stream",
     "text": [
      "Model: \"sequential\"\n",
      "_________________________________________________________________\n",
      " Layer (type)                Output Shape              Param #   \n",
      "=================================================================\n",
      " dense (Dense)               (None, 16)                64        \n",
      "                                                                 \n",
      " dense_1 (Dense)             (None, 8)                 136       \n",
      "                                                                 \n",
      " dense_2 (Dense)             (None, 4)                 36        \n",
      "                                                                 \n",
      "=================================================================\n",
      "Total params: 236 (944.00 Byte)\n",
      "Trainable params: 236 (944.00 Byte)\n",
      "Non-trainable params: 0 (0.00 Byte)\n",
      "_________________________________________________________________\n"
     ]
    }
   ],
   "source": [
    "# Print summary of loaded model\n",
    "new_model.summary()"
   ]
  },
  {
   "cell_type": "code",
   "execution_count": 59,
   "metadata": {
    "colab": {
     "base_uri": "https://localhost:8080/"
    },
    "id": "JuShpmnNpKD-",
    "outputId": "8a389d9b-2d2a-4c25-b238-af532760674d"
   },
   "outputs": [
    {
     "name": "stdout",
     "output_type": "stream",
     "text": [
      "1/1 [==============================] - 0s 17ms/step\n",
      "1/1 [==============================] - 0s 42ms/step\n",
      "[1.0078875e-02 9.2866850e-01 6.0928036e-02 3.2458195e-04]\n",
      "[1.0078875e-02 9.2866850e-01 6.0928036e-02 3.2458195e-04]\n"
     ]
    }
   ],
   "source": [
    "#QunatityNorm, SalesNorm, ShippingCostsNorm\n",
    "#Each ranges from 0 to 1\n",
    "SingleObservation = np.array([[0.9, 0.9, 0.9]])\n",
    "SingleObservationFloat = SingleObservation.astype(float)\n",
    "\n",
    "SinglePrediction         = model.predict(SingleObservationFloat)\n",
    "SinglePredictionNewModel = new_model.predict(SingleObservationFloat)\n",
    "\n",
    "# Print prediction\n",
    "print(SinglePrediction[0])\n",
    "print(SinglePredictionNewModel[0])"
   ]
  },
  {
   "cell_type": "code",
   "execution_count": 60,
   "metadata": {
    "colab": {
     "base_uri": "https://localhost:8080/"
    },
    "id": "g9zVESvepaJp",
    "outputId": "47533e91-cd12-4f30-a403-0b53194fe067"
   },
   "outputs": [
    {
     "data": {
      "text/plain": [
       "array([1.0078875e-02, 9.2866850e-01, 6.0928036e-02, 3.2458195e-04],\n",
       "      dtype=float32)"
      ]
     },
     "execution_count": 60,
     "metadata": {},
     "output_type": "execute_result"
    }
   ],
   "source": [
    "SinglePrediction[0]"
   ]
  },
  {
   "cell_type": "code",
   "execution_count": 61,
   "metadata": {
    "colab": {
     "base_uri": "https://localhost:8080/"
    },
    "id": "BZfZqD7MpcJr",
    "outputId": "474b82ec-6bdd-4599-b111-5c18c647781f"
   },
   "outputs": [
    {
     "data": {
      "text/plain": [
       "array([1.0078875e-02, 9.2866850e-01, 6.0928036e-02, 3.2458195e-04],\n",
       "      dtype=float32)"
      ]
     },
     "execution_count": 61,
     "metadata": {},
     "output_type": "execute_result"
    }
   ],
   "source": [
    "SinglePredictionNewModel[0]"
   ]
  },
  {
   "cell_type": "code",
   "execution_count": 62,
   "metadata": {
    "colab": {
     "base_uri": "https://localhost:8080/"
    },
    "id": "UZpYtBCApeaf",
    "outputId": "bbaf6862-0d86-44bb-df63-c6a370cd0603"
   },
   "outputs": [
    {
     "data": {
      "text/plain": [
       "0.9286685"
      ]
     },
     "execution_count": 62,
     "metadata": {},
     "output_type": "execute_result"
    }
   ],
   "source": [
    "np.max(SinglePrediction[0])"
   ]
  },
  {
   "cell_type": "code",
   "execution_count": 63,
   "metadata": {
    "colab": {
     "base_uri": "https://localhost:8080/"
    },
    "id": "mm-ARkLvpgC1",
    "outputId": "2479e208-fafe-40d7-aa2f-6cb78a7a421c"
   },
   "outputs": [
    {
     "data": {
      "text/plain": [
       "1"
      ]
     },
     "execution_count": 63,
     "metadata": {},
     "output_type": "execute_result"
    }
   ],
   "source": [
    "np.argmax(SinglePrediction[0])"
   ]
  },
  {
   "cell_type": "code",
   "execution_count": 64,
   "metadata": {
    "colab": {
     "base_uri": "https://localhost:8080/",
     "height": 35
    },
    "id": "bkndzYRyphvH",
    "outputId": "c47dc113-e717-4690-c935-6b8e92ee68d8"
   },
   "outputs": [
    {
     "data": {
      "text/plain": [
       "'Medium'"
      ]
     },
     "execution_count": 64,
     "metadata": {},
     "output_type": "execute_result"
    }
   ],
   "source": [
    "priority_labels[np.argmax(SinglePrediction[0])]"
   ]
  }
 ],
 "metadata": {
  "colab": {
   "provenance": []
  },
  "kernelspec": {
   "display_name": "Python 3 (ipykernel)",
   "language": "python",
   "name": "python3"
  },
  "language_info": {
   "codemirror_mode": {
    "name": "ipython",
    "version": 3
   },
   "file_extension": ".py",
   "mimetype": "text/x-python",
   "name": "python",
   "nbconvert_exporter": "python",
   "pygments_lexer": "ipython3",
   "version": "3.10.13"
  }
 },
 "nbformat": 4,
 "nbformat_minor": 1
}
