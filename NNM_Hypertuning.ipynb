{
 "cells": [
  {
   "cell_type": "code",
   "execution_count": 1,
   "metadata": {
    "id": "cOpQQzvThKNz"
   },
   "outputs": [
    {
     "name": "stderr",
     "output_type": "stream",
     "text": [
      "2024-04-21 21:01:24.017622: I tensorflow/core/util/port.cc:113] oneDNN custom operations are on. You may see slightly different numerical results due to floating-point round-off errors from different computation orders. To turn them off, set the environment variable `TF_ENABLE_ONEDNN_OPTS=0`.\n",
      "2024-04-21 21:01:24.063802: E external/local_xla/xla/stream_executor/cuda/cuda_dnn.cc:9261] Unable to register cuDNN factory: Attempting to register factory for plugin cuDNN when one has already been registered\n",
      "2024-04-21 21:01:24.063839: E external/local_xla/xla/stream_executor/cuda/cuda_fft.cc:607] Unable to register cuFFT factory: Attempting to register factory for plugin cuFFT when one has already been registered\n",
      "2024-04-21 21:01:24.065379: E external/local_xla/xla/stream_executor/cuda/cuda_blas.cc:1515] Unable to register cuBLAS factory: Attempting to register factory for plugin cuBLAS when one has already been registered\n",
      "2024-04-21 21:01:24.073206: I tensorflow/core/platform/cpu_feature_guard.cc:182] This TensorFlow binary is optimized to use available CPU instructions in performance-critical operations.\n",
      "To enable the following instructions: AVX2 AVX512F AVX512_VNNI FMA, in other operations, rebuild TensorFlow with the appropriate compiler flags.\n"
     ]
    }
   ],
   "source": [
    "import numpy as np\n",
    "import pandas as pd\n",
    "import matplotlib.pyplot as plt\n",
    "\n",
    "from sklearn import datasets, linear_model, metrics\n",
    "\n",
    "# Ensure compatibility\n",
    "from __future__ import absolute_import, division, print_function\n",
    "\n",
    "# Import packages\n",
    "import numpy as np\n",
    "import pandas as pd\n",
    "import matplotlib.pyplot as plt\n",
    "\n",
    "# Import TensorFlow and Keras packages\n",
    "import tensorflow as tf\n",
    "from tensorflow import keras"
   ]
  },
  {
   "cell_type": "code",
   "execution_count": 2,
   "metadata": {
    "id": "Md18ok4XGWrT"
   },
   "outputs": [],
   "source": [
    "order_data = pd.read_csv(\"joined_dataset.csv\", skiprows = 0)"
   ]
  },
  {
   "cell_type": "code",
   "execution_count": 3,
   "metadata": {
    "colab": {
     "base_uri": "https://localhost:8080/"
    },
    "id": "jsEZLWAEMtqo",
    "outputId": "38502abe-998a-4df0-8ded-d98d6f9058e9"
   },
   "outputs": [
    {
     "data": {
      "text/plain": [
       "Category           object\n",
       "City               object\n",
       "Customer Name      object\n",
       "Market             object\n",
       "Customer ID        object\n",
       "Order Date         object\n",
       "Order ID           object\n",
       "Order Priority     object\n",
       "Product ID         object\n",
       "Product Name       object\n",
       "Row ID              int64\n",
       "Segment            object\n",
       "Ship Date          object\n",
       "Ship Mode          object\n",
       "State              object\n",
       "Sub-Category       object\n",
       "Discount          float64\n",
       "Profit            float64\n",
       "Quantity            int64\n",
       "Sales             float64\n",
       "Shipping Cost     float64\n",
       "Discount 1/0        int64\n",
       "State2             object\n",
       "Country            object\n",
       "Region             object\n",
       "dtype: object"
      ]
     },
     "execution_count": 3,
     "metadata": {},
     "output_type": "execute_result"
    }
   ],
   "source": [
    "order_data.dtypes"
   ]
  },
  {
   "cell_type": "code",
   "execution_count": 4,
   "metadata": {
    "colab": {
     "base_uri": "https://localhost:8080/",
     "height": 446
    },
    "id": "p7JtsDnuIEla",
    "outputId": "d841749d-a830-4ab3-f9c0-ada7daa7d169"
   },
   "outputs": [
    {
     "data": {
      "text/html": [
       "<div>\n",
       "<style scoped>\n",
       "    .dataframe tbody tr th:only-of-type {\n",
       "        vertical-align: middle;\n",
       "    }\n",
       "\n",
       "    .dataframe tbody tr th {\n",
       "        vertical-align: top;\n",
       "    }\n",
       "\n",
       "    .dataframe thead th {\n",
       "        text-align: right;\n",
       "    }\n",
       "</style>\n",
       "<table border=\"1\" class=\"dataframe\">\n",
       "  <thead>\n",
       "    <tr style=\"text-align: right;\">\n",
       "      <th></th>\n",
       "      <th>Category</th>\n",
       "      <th>City</th>\n",
       "      <th>Customer Name</th>\n",
       "      <th>Market</th>\n",
       "      <th>Customer ID</th>\n",
       "      <th>Order Date</th>\n",
       "      <th>Order ID</th>\n",
       "      <th>Order Priority</th>\n",
       "      <th>Product ID</th>\n",
       "      <th>Product Name</th>\n",
       "      <th>...</th>\n",
       "      <th>Sub-Category</th>\n",
       "      <th>Discount</th>\n",
       "      <th>Profit</th>\n",
       "      <th>Quantity</th>\n",
       "      <th>Sales</th>\n",
       "      <th>Shipping Cost</th>\n",
       "      <th>Discount 1/0</th>\n",
       "      <th>State2</th>\n",
       "      <th>Country</th>\n",
       "      <th>Region</th>\n",
       "    </tr>\n",
       "  </thead>\n",
       "  <tbody>\n",
       "    <tr>\n",
       "      <th>0</th>\n",
       "      <td>Office Supplies</td>\n",
       "      <td>Constantine</td>\n",
       "      <td>Toby Braunhardt</td>\n",
       "      <td>EMEA</td>\n",
       "      <td>TB-112801</td>\n",
       "      <td>1/1/2019</td>\n",
       "      <td>AG-2011-2040</td>\n",
       "      <td>Medium</td>\n",
       "      <td>OFF-TEN-10000025</td>\n",
       "      <td>Tenex Lockers, Blue</td>\n",
       "      <td>...</td>\n",
       "      <td>Storage</td>\n",
       "      <td>0.0</td>\n",
       "      <td>106.14</td>\n",
       "      <td>2</td>\n",
       "      <td>408.30</td>\n",
       "      <td>35.46</td>\n",
       "      <td>0</td>\n",
       "      <td>Constantine</td>\n",
       "      <td>Algeria</td>\n",
       "      <td>Africa</td>\n",
       "    </tr>\n",
       "    <tr>\n",
       "      <th>1</th>\n",
       "      <td>Office Supplies</td>\n",
       "      <td>Dar es Salaam</td>\n",
       "      <td>Jack Garza</td>\n",
       "      <td>EMEA</td>\n",
       "      <td>JG-51151</td>\n",
       "      <td>1/3/2019</td>\n",
       "      <td>TZ-2011-7370</td>\n",
       "      <td>Medium</td>\n",
       "      <td>OFF-STI-10000388</td>\n",
       "      <td>Stiletto Scissors, Serrated</td>\n",
       "      <td>...</td>\n",
       "      <td>Supplies</td>\n",
       "      <td>0.0</td>\n",
       "      <td>26.76</td>\n",
       "      <td>4</td>\n",
       "      <td>81.24</td>\n",
       "      <td>5.11</td>\n",
       "      <td>0</td>\n",
       "      <td>Dar Es Salaam</td>\n",
       "      <td>Tanzania</td>\n",
       "      <td>Africa</td>\n",
       "    </tr>\n",
       "    <tr>\n",
       "      <th>2</th>\n",
       "      <td>Office Supplies</td>\n",
       "      <td>Khartoum</td>\n",
       "      <td>Jasper Cacioppo</td>\n",
       "      <td>EMEA</td>\n",
       "      <td>JC-53401</td>\n",
       "      <td>1/4/2019</td>\n",
       "      <td>SU-2011-5190</td>\n",
       "      <td>Medium</td>\n",
       "      <td>OFF-BOS-10004950</td>\n",
       "      <td>Boston Pens, Fluorescent</td>\n",
       "      <td>...</td>\n",
       "      <td>Art</td>\n",
       "      <td>0.0</td>\n",
       "      <td>2.61</td>\n",
       "      <td>1</td>\n",
       "      <td>15.48</td>\n",
       "      <td>0.82</td>\n",
       "      <td>0</td>\n",
       "      <td>Khartoum</td>\n",
       "      <td>Sudan</td>\n",
       "      <td>Africa</td>\n",
       "    </tr>\n",
       "    <tr>\n",
       "      <th>3</th>\n",
       "      <td>Office Supplies</td>\n",
       "      <td>Khartoum</td>\n",
       "      <td>Jasper Cacioppo</td>\n",
       "      <td>EMEA</td>\n",
       "      <td>JC-53401</td>\n",
       "      <td>1/4/2019</td>\n",
       "      <td>SU-2011-5190</td>\n",
       "      <td>Medium</td>\n",
       "      <td>OFF-AVE-10003279</td>\n",
       "      <td>Avery Hole Reinforcements, Durable</td>\n",
       "      <td>...</td>\n",
       "      <td>Binders</td>\n",
       "      <td>0.0</td>\n",
       "      <td>2.10</td>\n",
       "      <td>1</td>\n",
       "      <td>5.91</td>\n",
       "      <td>0.51</td>\n",
       "      <td>0</td>\n",
       "      <td>Khartoum</td>\n",
       "      <td>Sudan</td>\n",
       "      <td>Africa</td>\n",
       "    </tr>\n",
       "    <tr>\n",
       "      <th>4</th>\n",
       "      <td>Technology</td>\n",
       "      <td>Luanda</td>\n",
       "      <td>Grace Kelly</td>\n",
       "      <td>EMEA</td>\n",
       "      <td>GK-46201</td>\n",
       "      <td>1/6/2019</td>\n",
       "      <td>AO-2011-4910</td>\n",
       "      <td>Medium</td>\n",
       "      <td>TEC-LOG-10003079</td>\n",
       "      <td>Logitech Flash Drive, Erganomic</td>\n",
       "      <td>...</td>\n",
       "      <td>Accessories</td>\n",
       "      <td>0.0</td>\n",
       "      <td>12.72</td>\n",
       "      <td>1</td>\n",
       "      <td>28.32</td>\n",
       "      <td>2.00</td>\n",
       "      <td>0</td>\n",
       "      <td>Luanda</td>\n",
       "      <td>Angola</td>\n",
       "      <td>Africa</td>\n",
       "    </tr>\n",
       "  </tbody>\n",
       "</table>\n",
       "<p>5 rows × 25 columns</p>\n",
       "</div>"
      ],
      "text/plain": [
       "          Category           City    Customer Name Market Customer ID  \\\n",
       "0  Office Supplies    Constantine  Toby Braunhardt   EMEA   TB-112801   \n",
       "1  Office Supplies  Dar es Salaam       Jack Garza   EMEA    JG-51151   \n",
       "2  Office Supplies       Khartoum  Jasper Cacioppo   EMEA    JC-53401   \n",
       "3  Office Supplies       Khartoum  Jasper Cacioppo   EMEA    JC-53401   \n",
       "4       Technology         Luanda      Grace Kelly   EMEA    GK-46201   \n",
       "\n",
       "  Order Date      Order ID Order Priority        Product ID  \\\n",
       "0   1/1/2019  AG-2011-2040         Medium  OFF-TEN-10000025   \n",
       "1   1/3/2019  TZ-2011-7370         Medium  OFF-STI-10000388   \n",
       "2   1/4/2019  SU-2011-5190         Medium  OFF-BOS-10004950   \n",
       "3   1/4/2019  SU-2011-5190         Medium  OFF-AVE-10003279   \n",
       "4   1/6/2019  AO-2011-4910         Medium  TEC-LOG-10003079   \n",
       "\n",
       "                         Product Name  ...  Sub-Category Discount  Profit  \\\n",
       "0                 Tenex Lockers, Blue  ...       Storage      0.0  106.14   \n",
       "1         Stiletto Scissors, Serrated  ...      Supplies      0.0   26.76   \n",
       "2            Boston Pens, Fluorescent  ...           Art      0.0    2.61   \n",
       "3  Avery Hole Reinforcements, Durable  ...       Binders      0.0    2.10   \n",
       "4     Logitech Flash Drive, Erganomic  ...   Accessories      0.0   12.72   \n",
       "\n",
       "  Quantity   Sales Shipping Cost  Discount 1/0         State2   Country  \\\n",
       "0        2  408.30         35.46             0    Constantine   Algeria   \n",
       "1        4   81.24          5.11             0  Dar Es Salaam  Tanzania   \n",
       "2        1   15.48          0.82             0       Khartoum     Sudan   \n",
       "3        1    5.91          0.51             0       Khartoum     Sudan   \n",
       "4        1   28.32          2.00             0         Luanda    Angola   \n",
       "\n",
       "   Region  \n",
       "0  Africa  \n",
       "1  Africa  \n",
       "2  Africa  \n",
       "3  Africa  \n",
       "4  Africa  \n",
       "\n",
       "[5 rows x 25 columns]"
      ]
     },
     "execution_count": 4,
     "metadata": {},
     "output_type": "execute_result"
    }
   ],
   "source": [
    "order_data.head()"
   ]
  },
  {
   "cell_type": "code",
   "execution_count": 5,
   "metadata": {
    "colab": {
     "base_uri": "https://localhost:8080/",
     "height": 602
    },
    "id": "IUdEUWhuIJXt",
    "outputId": "8acd9b70-e136-4597-dd90-95cbc32a2448"
   },
   "outputs": [
    {
     "data": {
      "text/html": [
       "<div>\n",
       "<style scoped>\n",
       "    .dataframe tbody tr th:only-of-type {\n",
       "        vertical-align: middle;\n",
       "    }\n",
       "\n",
       "    .dataframe tbody tr th {\n",
       "        vertical-align: top;\n",
       "    }\n",
       "\n",
       "    .dataframe thead th {\n",
       "        text-align: right;\n",
       "    }\n",
       "</style>\n",
       "<table border=\"1\" class=\"dataframe\">\n",
       "  <thead>\n",
       "    <tr style=\"text-align: right;\">\n",
       "      <th></th>\n",
       "      <th>Category</th>\n",
       "      <th>City</th>\n",
       "      <th>Customer Name</th>\n",
       "      <th>Market</th>\n",
       "      <th>Customer ID</th>\n",
       "      <th>Order Date</th>\n",
       "      <th>Order ID</th>\n",
       "      <th>Order Priority</th>\n",
       "      <th>Product ID</th>\n",
       "      <th>Product Name</th>\n",
       "      <th>...</th>\n",
       "      <th>Sub-Category</th>\n",
       "      <th>Discount</th>\n",
       "      <th>Profit</th>\n",
       "      <th>Quantity</th>\n",
       "      <th>Sales</th>\n",
       "      <th>Shipping Cost</th>\n",
       "      <th>Discount 1/0</th>\n",
       "      <th>State2</th>\n",
       "      <th>Country</th>\n",
       "      <th>Region</th>\n",
       "    </tr>\n",
       "  </thead>\n",
       "  <tbody>\n",
       "    <tr>\n",
       "      <th>53362</th>\n",
       "      <td>Office Supplies</td>\n",
       "      <td>Loveland</td>\n",
       "      <td>Jill Matthias</td>\n",
       "      <td>USCA</td>\n",
       "      <td>JM-155804</td>\n",
       "      <td>12/31/2022</td>\n",
       "      <td>CA-2014-156720</td>\n",
       "      <td>Medium</td>\n",
       "      <td>OFF-FA-10003472</td>\n",
       "      <td>Bagged Rubber Bands</td>\n",
       "      <td>...</td>\n",
       "      <td>Fasteners</td>\n",
       "      <td>0.2</td>\n",
       "      <td>-0.60</td>\n",
       "      <td>3</td>\n",
       "      <td>3.02</td>\n",
       "      <td>0.17</td>\n",
       "      <td>1</td>\n",
       "      <td>Colorado</td>\n",
       "      <td>United States</td>\n",
       "      <td>West</td>\n",
       "    </tr>\n",
       "    <tr>\n",
       "      <th>53363</th>\n",
       "      <td>Office Supplies</td>\n",
       "      <td>Fairfield</td>\n",
       "      <td>Erica Bern</td>\n",
       "      <td>USCA</td>\n",
       "      <td>EB-139754</td>\n",
       "      <td>12/31/2022</td>\n",
       "      <td>CA-2014-115427</td>\n",
       "      <td>Medium</td>\n",
       "      <td>OFF-BI-10002103</td>\n",
       "      <td>Cardinal Slant-D Ring Binder, Heavy Gauge Vinyl</td>\n",
       "      <td>...</td>\n",
       "      <td>Binders</td>\n",
       "      <td>0.2</td>\n",
       "      <td>4.52</td>\n",
       "      <td>2</td>\n",
       "      <td>13.90</td>\n",
       "      <td>0.89</td>\n",
       "      <td>1</td>\n",
       "      <td>California</td>\n",
       "      <td>United States</td>\n",
       "      <td>West</td>\n",
       "    </tr>\n",
       "    <tr>\n",
       "      <th>53364</th>\n",
       "      <td>Office Supplies</td>\n",
       "      <td>Fairfield</td>\n",
       "      <td>Erica Bern</td>\n",
       "      <td>USCA</td>\n",
       "      <td>EB-139754</td>\n",
       "      <td>12/31/2022</td>\n",
       "      <td>CA-2014-115427</td>\n",
       "      <td>Medium</td>\n",
       "      <td>OFF-BI-10004632</td>\n",
       "      <td>GBC Binding covers</td>\n",
       "      <td>...</td>\n",
       "      <td>Binders</td>\n",
       "      <td>0.2</td>\n",
       "      <td>6.48</td>\n",
       "      <td>2</td>\n",
       "      <td>20.72</td>\n",
       "      <td>2.06</td>\n",
       "      <td>1</td>\n",
       "      <td>California</td>\n",
       "      <td>United States</td>\n",
       "      <td>West</td>\n",
       "    </tr>\n",
       "    <tr>\n",
       "      <th>53365</th>\n",
       "      <td>Technology</td>\n",
       "      <td>New York City</td>\n",
       "      <td>Patrick O'Donnell</td>\n",
       "      <td>USCA</td>\n",
       "      <td>PO-188654</td>\n",
       "      <td>12/31/2022</td>\n",
       "      <td>CA-2014-143259</td>\n",
       "      <td>High</td>\n",
       "      <td>TEC-PH-10004774</td>\n",
       "      <td>Gear Head AU3700S Headset</td>\n",
       "      <td>...</td>\n",
       "      <td>Phones</td>\n",
       "      <td>0.0</td>\n",
       "      <td>2.73</td>\n",
       "      <td>7</td>\n",
       "      <td>90.93</td>\n",
       "      <td>9.67</td>\n",
       "      <td>0</td>\n",
       "      <td>New York</td>\n",
       "      <td>United States</td>\n",
       "      <td>East</td>\n",
       "    </tr>\n",
       "    <tr>\n",
       "      <th>53366</th>\n",
       "      <td>Office Supplies</td>\n",
       "      <td>Columbus</td>\n",
       "      <td>Chuck Clark</td>\n",
       "      <td>USCA</td>\n",
       "      <td>CC-124304</td>\n",
       "      <td>12/31/2022</td>\n",
       "      <td>CA-2014-126221</td>\n",
       "      <td>Medium</td>\n",
       "      <td>OFF-AP-10002457</td>\n",
       "      <td>Eureka The Boss Plus 12-Amp Hard Box Upright V...</td>\n",
       "      <td>...</td>\n",
       "      <td>Appliances</td>\n",
       "      <td>0.0</td>\n",
       "      <td>56.51</td>\n",
       "      <td>2</td>\n",
       "      <td>209.30</td>\n",
       "      <td>8.32</td>\n",
       "      <td>0</td>\n",
       "      <td>Indiana</td>\n",
       "      <td>United States</td>\n",
       "      <td>Central</td>\n",
       "    </tr>\n",
       "  </tbody>\n",
       "</table>\n",
       "<p>5 rows × 25 columns</p>\n",
       "</div>"
      ],
      "text/plain": [
       "              Category           City      Customer Name Market Customer ID  \\\n",
       "53362  Office Supplies       Loveland      Jill Matthias   USCA   JM-155804   \n",
       "53363  Office Supplies      Fairfield         Erica Bern   USCA   EB-139754   \n",
       "53364  Office Supplies      Fairfield         Erica Bern   USCA   EB-139754   \n",
       "53365       Technology  New York City  Patrick O'Donnell   USCA   PO-188654   \n",
       "53366  Office Supplies       Columbus        Chuck Clark   USCA   CC-124304   \n",
       "\n",
       "       Order Date        Order ID Order Priority       Product ID  \\\n",
       "53362  12/31/2022  CA-2014-156720         Medium  OFF-FA-10003472   \n",
       "53363  12/31/2022  CA-2014-115427         Medium  OFF-BI-10002103   \n",
       "53364  12/31/2022  CA-2014-115427         Medium  OFF-BI-10004632   \n",
       "53365  12/31/2022  CA-2014-143259           High  TEC-PH-10004774   \n",
       "53366  12/31/2022  CA-2014-126221         Medium  OFF-AP-10002457   \n",
       "\n",
       "                                            Product Name  ...  Sub-Category  \\\n",
       "53362                                Bagged Rubber Bands  ...     Fasteners   \n",
       "53363    Cardinal Slant-D Ring Binder, Heavy Gauge Vinyl  ...       Binders   \n",
       "53364                                 GBC Binding covers  ...       Binders   \n",
       "53365                          Gear Head AU3700S Headset  ...        Phones   \n",
       "53366  Eureka The Boss Plus 12-Amp Hard Box Upright V...  ...    Appliances   \n",
       "\n",
       "      Discount Profit Quantity   Sales Shipping Cost  Discount 1/0  \\\n",
       "53362      0.2  -0.60        3    3.02          0.17             1   \n",
       "53363      0.2   4.52        2   13.90          0.89             1   \n",
       "53364      0.2   6.48        2   20.72          2.06             1   \n",
       "53365      0.0   2.73        7   90.93          9.67             0   \n",
       "53366      0.0  56.51        2  209.30          8.32             0   \n",
       "\n",
       "           State2        Country   Region  \n",
       "53362    Colorado  United States     West  \n",
       "53363  California  United States     West  \n",
       "53364  California  United States     West  \n",
       "53365    New York  United States     East  \n",
       "53366     Indiana  United States  Central  \n",
       "\n",
       "[5 rows x 25 columns]"
      ]
     },
     "execution_count": 5,
     "metadata": {},
     "output_type": "execute_result"
    }
   ],
   "source": [
    "order_data.tail()"
   ]
  },
  {
   "cell_type": "code",
   "execution_count": 6,
   "metadata": {
    "colab": {
     "base_uri": "https://localhost:8080/"
    },
    "id": "cXWF5n5mJMNE",
    "outputId": "37f6e671-011a-4d78-ae34-0bbeb26ad5f2"
   },
   "outputs": [
    {
     "data": {
      "text/plain": [
       "array(['Medium', 'High', 'Low', 'Critical'], dtype=object)"
      ]
     },
     "execution_count": 6,
     "metadata": {},
     "output_type": "execute_result"
    }
   ],
   "source": [
    "order_data['Order Priority'].unique()"
   ]
  },
  {
   "cell_type": "code",
   "execution_count": 7,
   "metadata": {
    "id": "rILe6RCYIq7P"
   },
   "outputs": [],
   "source": [
    "#create new column for priority label\n",
    "def priority_label(level):\n",
    "    if level == 'Medium':\n",
    "        return 1\n",
    "    elif level == 'Critical':\n",
    "        return 3\n",
    "    elif level == 'High':\n",
    "        return 2\n",
    "    else:\n",
    "        return 0\n",
    "\n",
    "order_data['Priority Label'] = order_data['Order Priority'].apply(priority_label)"
   ]
  },
  {
   "cell_type": "code",
   "execution_count": 8,
   "metadata": {
    "colab": {
     "base_uri": "https://localhost:8080/",
     "height": 446
    },
    "id": "aMgHatrhKI1m",
    "outputId": "229428b7-d9f4-4280-c403-e27dc4869cda"
   },
   "outputs": [
    {
     "data": {
      "text/html": [
       "<div>\n",
       "<style scoped>\n",
       "    .dataframe tbody tr th:only-of-type {\n",
       "        vertical-align: middle;\n",
       "    }\n",
       "\n",
       "    .dataframe tbody tr th {\n",
       "        vertical-align: top;\n",
       "    }\n",
       "\n",
       "    .dataframe thead th {\n",
       "        text-align: right;\n",
       "    }\n",
       "</style>\n",
       "<table border=\"1\" class=\"dataframe\">\n",
       "  <thead>\n",
       "    <tr style=\"text-align: right;\">\n",
       "      <th></th>\n",
       "      <th>Category</th>\n",
       "      <th>City</th>\n",
       "      <th>Customer Name</th>\n",
       "      <th>Market</th>\n",
       "      <th>Customer ID</th>\n",
       "      <th>Order Date</th>\n",
       "      <th>Order ID</th>\n",
       "      <th>Order Priority</th>\n",
       "      <th>Product ID</th>\n",
       "      <th>Product Name</th>\n",
       "      <th>...</th>\n",
       "      <th>Discount</th>\n",
       "      <th>Profit</th>\n",
       "      <th>Quantity</th>\n",
       "      <th>Sales</th>\n",
       "      <th>Shipping Cost</th>\n",
       "      <th>Discount 1/0</th>\n",
       "      <th>State2</th>\n",
       "      <th>Country</th>\n",
       "      <th>Region</th>\n",
       "      <th>Priority Label</th>\n",
       "    </tr>\n",
       "  </thead>\n",
       "  <tbody>\n",
       "    <tr>\n",
       "      <th>0</th>\n",
       "      <td>Office Supplies</td>\n",
       "      <td>Constantine</td>\n",
       "      <td>Toby Braunhardt</td>\n",
       "      <td>EMEA</td>\n",
       "      <td>TB-112801</td>\n",
       "      <td>1/1/2019</td>\n",
       "      <td>AG-2011-2040</td>\n",
       "      <td>Medium</td>\n",
       "      <td>OFF-TEN-10000025</td>\n",
       "      <td>Tenex Lockers, Blue</td>\n",
       "      <td>...</td>\n",
       "      <td>0.0</td>\n",
       "      <td>106.14</td>\n",
       "      <td>2</td>\n",
       "      <td>408.30</td>\n",
       "      <td>35.46</td>\n",
       "      <td>0</td>\n",
       "      <td>Constantine</td>\n",
       "      <td>Algeria</td>\n",
       "      <td>Africa</td>\n",
       "      <td>1</td>\n",
       "    </tr>\n",
       "    <tr>\n",
       "      <th>1</th>\n",
       "      <td>Office Supplies</td>\n",
       "      <td>Dar es Salaam</td>\n",
       "      <td>Jack Garza</td>\n",
       "      <td>EMEA</td>\n",
       "      <td>JG-51151</td>\n",
       "      <td>1/3/2019</td>\n",
       "      <td>TZ-2011-7370</td>\n",
       "      <td>Medium</td>\n",
       "      <td>OFF-STI-10000388</td>\n",
       "      <td>Stiletto Scissors, Serrated</td>\n",
       "      <td>...</td>\n",
       "      <td>0.0</td>\n",
       "      <td>26.76</td>\n",
       "      <td>4</td>\n",
       "      <td>81.24</td>\n",
       "      <td>5.11</td>\n",
       "      <td>0</td>\n",
       "      <td>Dar Es Salaam</td>\n",
       "      <td>Tanzania</td>\n",
       "      <td>Africa</td>\n",
       "      <td>1</td>\n",
       "    </tr>\n",
       "    <tr>\n",
       "      <th>2</th>\n",
       "      <td>Office Supplies</td>\n",
       "      <td>Khartoum</td>\n",
       "      <td>Jasper Cacioppo</td>\n",
       "      <td>EMEA</td>\n",
       "      <td>JC-53401</td>\n",
       "      <td>1/4/2019</td>\n",
       "      <td>SU-2011-5190</td>\n",
       "      <td>Medium</td>\n",
       "      <td>OFF-BOS-10004950</td>\n",
       "      <td>Boston Pens, Fluorescent</td>\n",
       "      <td>...</td>\n",
       "      <td>0.0</td>\n",
       "      <td>2.61</td>\n",
       "      <td>1</td>\n",
       "      <td>15.48</td>\n",
       "      <td>0.82</td>\n",
       "      <td>0</td>\n",
       "      <td>Khartoum</td>\n",
       "      <td>Sudan</td>\n",
       "      <td>Africa</td>\n",
       "      <td>1</td>\n",
       "    </tr>\n",
       "    <tr>\n",
       "      <th>3</th>\n",
       "      <td>Office Supplies</td>\n",
       "      <td>Khartoum</td>\n",
       "      <td>Jasper Cacioppo</td>\n",
       "      <td>EMEA</td>\n",
       "      <td>JC-53401</td>\n",
       "      <td>1/4/2019</td>\n",
       "      <td>SU-2011-5190</td>\n",
       "      <td>Medium</td>\n",
       "      <td>OFF-AVE-10003279</td>\n",
       "      <td>Avery Hole Reinforcements, Durable</td>\n",
       "      <td>...</td>\n",
       "      <td>0.0</td>\n",
       "      <td>2.10</td>\n",
       "      <td>1</td>\n",
       "      <td>5.91</td>\n",
       "      <td>0.51</td>\n",
       "      <td>0</td>\n",
       "      <td>Khartoum</td>\n",
       "      <td>Sudan</td>\n",
       "      <td>Africa</td>\n",
       "      <td>1</td>\n",
       "    </tr>\n",
       "    <tr>\n",
       "      <th>4</th>\n",
       "      <td>Technology</td>\n",
       "      <td>Luanda</td>\n",
       "      <td>Grace Kelly</td>\n",
       "      <td>EMEA</td>\n",
       "      <td>GK-46201</td>\n",
       "      <td>1/6/2019</td>\n",
       "      <td>AO-2011-4910</td>\n",
       "      <td>Medium</td>\n",
       "      <td>TEC-LOG-10003079</td>\n",
       "      <td>Logitech Flash Drive, Erganomic</td>\n",
       "      <td>...</td>\n",
       "      <td>0.0</td>\n",
       "      <td>12.72</td>\n",
       "      <td>1</td>\n",
       "      <td>28.32</td>\n",
       "      <td>2.00</td>\n",
       "      <td>0</td>\n",
       "      <td>Luanda</td>\n",
       "      <td>Angola</td>\n",
       "      <td>Africa</td>\n",
       "      <td>1</td>\n",
       "    </tr>\n",
       "  </tbody>\n",
       "</table>\n",
       "<p>5 rows × 26 columns</p>\n",
       "</div>"
      ],
      "text/plain": [
       "          Category           City    Customer Name Market Customer ID  \\\n",
       "0  Office Supplies    Constantine  Toby Braunhardt   EMEA   TB-112801   \n",
       "1  Office Supplies  Dar es Salaam       Jack Garza   EMEA    JG-51151   \n",
       "2  Office Supplies       Khartoum  Jasper Cacioppo   EMEA    JC-53401   \n",
       "3  Office Supplies       Khartoum  Jasper Cacioppo   EMEA    JC-53401   \n",
       "4       Technology         Luanda      Grace Kelly   EMEA    GK-46201   \n",
       "\n",
       "  Order Date      Order ID Order Priority        Product ID  \\\n",
       "0   1/1/2019  AG-2011-2040         Medium  OFF-TEN-10000025   \n",
       "1   1/3/2019  TZ-2011-7370         Medium  OFF-STI-10000388   \n",
       "2   1/4/2019  SU-2011-5190         Medium  OFF-BOS-10004950   \n",
       "3   1/4/2019  SU-2011-5190         Medium  OFF-AVE-10003279   \n",
       "4   1/6/2019  AO-2011-4910         Medium  TEC-LOG-10003079   \n",
       "\n",
       "                         Product Name  ...  Discount  Profit Quantity   Sales  \\\n",
       "0                 Tenex Lockers, Blue  ...       0.0  106.14        2  408.30   \n",
       "1         Stiletto Scissors, Serrated  ...       0.0   26.76        4   81.24   \n",
       "2            Boston Pens, Fluorescent  ...       0.0    2.61        1   15.48   \n",
       "3  Avery Hole Reinforcements, Durable  ...       0.0    2.10        1    5.91   \n",
       "4     Logitech Flash Drive, Erganomic  ...       0.0   12.72        1   28.32   \n",
       "\n",
       "  Shipping Cost Discount 1/0         State2   Country  Region  Priority Label  \n",
       "0         35.46            0    Constantine   Algeria  Africa               1  \n",
       "1          5.11            0  Dar Es Salaam  Tanzania  Africa               1  \n",
       "2          0.82            0       Khartoum     Sudan  Africa               1  \n",
       "3          0.51            0       Khartoum     Sudan  Africa               1  \n",
       "4          2.00            0         Luanda    Angola  Africa               1  \n",
       "\n",
       "[5 rows x 26 columns]"
      ]
     },
     "execution_count": 8,
     "metadata": {},
     "output_type": "execute_result"
    }
   ],
   "source": [
    "order_data.head()"
   ]
  },
  {
   "cell_type": "code",
   "execution_count": 9,
   "metadata": {
    "id": "DGRNVekuLQJi"
   },
   "outputs": [],
   "source": [
    "#normalize independent variables\n",
    "from sklearn.preprocessing import MinMaxScaler\n",
    "\n",
    "mms = MinMaxScaler()\n",
    "order_data['DiscountNorm'] = mms.fit_transform(order_data[['Discount']])\n",
    "order_data['ProfitNorm'] = mms.fit_transform(order_data[['Profit']])\n",
    "order_data['QuantityNorm'] = mms.fit_transform(order_data[['Quantity']])\n",
    "order_data['SalesNorm'] = mms.fit_transform(order_data[['Sales']])\n",
    "order_data['ShippingCostNorm'] = mms.fit_transform(order_data[['Shipping Cost']])"
   ]
  },
  {
   "cell_type": "code",
   "execution_count": 10,
   "metadata": {
    "colab": {
     "base_uri": "https://localhost:8080/",
     "height": 446
    },
    "id": "l5Go9d3WbfMH",
    "outputId": "f024a57b-e9f6-461d-9241-995e5a271b5a"
   },
   "outputs": [
    {
     "data": {
      "text/html": [
       "<div>\n",
       "<style scoped>\n",
       "    .dataframe tbody tr th:only-of-type {\n",
       "        vertical-align: middle;\n",
       "    }\n",
       "\n",
       "    .dataframe tbody tr th {\n",
       "        vertical-align: top;\n",
       "    }\n",
       "\n",
       "    .dataframe thead th {\n",
       "        text-align: right;\n",
       "    }\n",
       "</style>\n",
       "<table border=\"1\" class=\"dataframe\">\n",
       "  <thead>\n",
       "    <tr style=\"text-align: right;\">\n",
       "      <th></th>\n",
       "      <th>Category</th>\n",
       "      <th>City</th>\n",
       "      <th>Customer Name</th>\n",
       "      <th>Market</th>\n",
       "      <th>Customer ID</th>\n",
       "      <th>Order Date</th>\n",
       "      <th>Order ID</th>\n",
       "      <th>Order Priority</th>\n",
       "      <th>Product ID</th>\n",
       "      <th>Product Name</th>\n",
       "      <th>...</th>\n",
       "      <th>Discount 1/0</th>\n",
       "      <th>State2</th>\n",
       "      <th>Country</th>\n",
       "      <th>Region</th>\n",
       "      <th>Priority Label</th>\n",
       "      <th>DiscountNorm</th>\n",
       "      <th>ProfitNorm</th>\n",
       "      <th>QuantityNorm</th>\n",
       "      <th>SalesNorm</th>\n",
       "      <th>ShippingCostNorm</th>\n",
       "    </tr>\n",
       "  </thead>\n",
       "  <tbody>\n",
       "    <tr>\n",
       "      <th>0</th>\n",
       "      <td>Office Supplies</td>\n",
       "      <td>Constantine</td>\n",
       "      <td>Toby Braunhardt</td>\n",
       "      <td>EMEA</td>\n",
       "      <td>TB-112801</td>\n",
       "      <td>1/1/2019</td>\n",
       "      <td>AG-2011-2040</td>\n",
       "      <td>Medium</td>\n",
       "      <td>OFF-TEN-10000025</td>\n",
       "      <td>Tenex Lockers, Blue</td>\n",
       "      <td>...</td>\n",
       "      <td>0</td>\n",
       "      <td>Constantine</td>\n",
       "      <td>Algeria</td>\n",
       "      <td>Africa</td>\n",
       "      <td>1</td>\n",
       "      <td>0.0</td>\n",
       "      <td>0.447076</td>\n",
       "      <td>0.076923</td>\n",
       "      <td>0.018017</td>\n",
       "      <td>0.037983</td>\n",
       "    </tr>\n",
       "    <tr>\n",
       "      <th>1</th>\n",
       "      <td>Office Supplies</td>\n",
       "      <td>Dar es Salaam</td>\n",
       "      <td>Jack Garza</td>\n",
       "      <td>EMEA</td>\n",
       "      <td>JG-51151</td>\n",
       "      <td>1/3/2019</td>\n",
       "      <td>TZ-2011-7370</td>\n",
       "      <td>Medium</td>\n",
       "      <td>OFF-STI-10000388</td>\n",
       "      <td>Stiletto Scissors, Serrated</td>\n",
       "      <td>...</td>\n",
       "      <td>0</td>\n",
       "      <td>Dar Es Salaam</td>\n",
       "      <td>Tanzania</td>\n",
       "      <td>Africa</td>\n",
       "      <td>1</td>\n",
       "      <td>0.0</td>\n",
       "      <td>0.441784</td>\n",
       "      <td>0.230769</td>\n",
       "      <td>0.003569</td>\n",
       "      <td>0.005474</td>\n",
       "    </tr>\n",
       "    <tr>\n",
       "      <th>2</th>\n",
       "      <td>Office Supplies</td>\n",
       "      <td>Khartoum</td>\n",
       "      <td>Jasper Cacioppo</td>\n",
       "      <td>EMEA</td>\n",
       "      <td>JC-53401</td>\n",
       "      <td>1/4/2019</td>\n",
       "      <td>SU-2011-5190</td>\n",
       "      <td>Medium</td>\n",
       "      <td>OFF-BOS-10004950</td>\n",
       "      <td>Boston Pens, Fluorescent</td>\n",
       "      <td>...</td>\n",
       "      <td>0</td>\n",
       "      <td>Khartoum</td>\n",
       "      <td>Sudan</td>\n",
       "      <td>Africa</td>\n",
       "      <td>1</td>\n",
       "      <td>0.0</td>\n",
       "      <td>0.440174</td>\n",
       "      <td>0.000000</td>\n",
       "      <td>0.000664</td>\n",
       "      <td>0.000878</td>\n",
       "    </tr>\n",
       "    <tr>\n",
       "      <th>3</th>\n",
       "      <td>Office Supplies</td>\n",
       "      <td>Khartoum</td>\n",
       "      <td>Jasper Cacioppo</td>\n",
       "      <td>EMEA</td>\n",
       "      <td>JC-53401</td>\n",
       "      <td>1/4/2019</td>\n",
       "      <td>SU-2011-5190</td>\n",
       "      <td>Medium</td>\n",
       "      <td>OFF-AVE-10003279</td>\n",
       "      <td>Avery Hole Reinforcements, Durable</td>\n",
       "      <td>...</td>\n",
       "      <td>0</td>\n",
       "      <td>Khartoum</td>\n",
       "      <td>Sudan</td>\n",
       "      <td>Africa</td>\n",
       "      <td>1</td>\n",
       "      <td>0.0</td>\n",
       "      <td>0.440140</td>\n",
       "      <td>0.000000</td>\n",
       "      <td>0.000242</td>\n",
       "      <td>0.000546</td>\n",
       "    </tr>\n",
       "    <tr>\n",
       "      <th>4</th>\n",
       "      <td>Technology</td>\n",
       "      <td>Luanda</td>\n",
       "      <td>Grace Kelly</td>\n",
       "      <td>EMEA</td>\n",
       "      <td>GK-46201</td>\n",
       "      <td>1/6/2019</td>\n",
       "      <td>AO-2011-4910</td>\n",
       "      <td>Medium</td>\n",
       "      <td>TEC-LOG-10003079</td>\n",
       "      <td>Logitech Flash Drive, Erganomic</td>\n",
       "      <td>...</td>\n",
       "      <td>0</td>\n",
       "      <td>Luanda</td>\n",
       "      <td>Angola</td>\n",
       "      <td>Africa</td>\n",
       "      <td>1</td>\n",
       "      <td>0.0</td>\n",
       "      <td>0.440848</td>\n",
       "      <td>0.000000</td>\n",
       "      <td>0.001232</td>\n",
       "      <td>0.002142</td>\n",
       "    </tr>\n",
       "  </tbody>\n",
       "</table>\n",
       "<p>5 rows × 31 columns</p>\n",
       "</div>"
      ],
      "text/plain": [
       "          Category           City    Customer Name Market Customer ID  \\\n",
       "0  Office Supplies    Constantine  Toby Braunhardt   EMEA   TB-112801   \n",
       "1  Office Supplies  Dar es Salaam       Jack Garza   EMEA    JG-51151   \n",
       "2  Office Supplies       Khartoum  Jasper Cacioppo   EMEA    JC-53401   \n",
       "3  Office Supplies       Khartoum  Jasper Cacioppo   EMEA    JC-53401   \n",
       "4       Technology         Luanda      Grace Kelly   EMEA    GK-46201   \n",
       "\n",
       "  Order Date      Order ID Order Priority        Product ID  \\\n",
       "0   1/1/2019  AG-2011-2040         Medium  OFF-TEN-10000025   \n",
       "1   1/3/2019  TZ-2011-7370         Medium  OFF-STI-10000388   \n",
       "2   1/4/2019  SU-2011-5190         Medium  OFF-BOS-10004950   \n",
       "3   1/4/2019  SU-2011-5190         Medium  OFF-AVE-10003279   \n",
       "4   1/6/2019  AO-2011-4910         Medium  TEC-LOG-10003079   \n",
       "\n",
       "                         Product Name  ...  Discount 1/0         State2  \\\n",
       "0                 Tenex Lockers, Blue  ...             0    Constantine   \n",
       "1         Stiletto Scissors, Serrated  ...             0  Dar Es Salaam   \n",
       "2            Boston Pens, Fluorescent  ...             0       Khartoum   \n",
       "3  Avery Hole Reinforcements, Durable  ...             0       Khartoum   \n",
       "4     Logitech Flash Drive, Erganomic  ...             0         Luanda   \n",
       "\n",
       "    Country  Region Priority Label DiscountNorm  ProfitNorm  QuantityNorm  \\\n",
       "0   Algeria  Africa              1          0.0    0.447076      0.076923   \n",
       "1  Tanzania  Africa              1          0.0    0.441784      0.230769   \n",
       "2     Sudan  Africa              1          0.0    0.440174      0.000000   \n",
       "3     Sudan  Africa              1          0.0    0.440140      0.000000   \n",
       "4    Angola  Africa              1          0.0    0.440848      0.000000   \n",
       "\n",
       "   SalesNorm  ShippingCostNorm  \n",
       "0   0.018017          0.037983  \n",
       "1   0.003569          0.005474  \n",
       "2   0.000664          0.000878  \n",
       "3   0.000242          0.000546  \n",
       "4   0.001232          0.002142  \n",
       "\n",
       "[5 rows x 31 columns]"
      ]
     },
     "execution_count": 10,
     "metadata": {},
     "output_type": "execute_result"
    }
   ],
   "source": [
    "order_data.head()"
   ]
  },
  {
   "cell_type": "code",
   "execution_count": 11,
   "metadata": {
    "colab": {
     "base_uri": "https://localhost:8080/"
    },
    "id": "X3Kbc3qLb5mO",
    "outputId": "08ec5777-fd0d-4d34-eadb-eee3442cfa69"
   },
   "outputs": [
    {
     "data": {
      "text/plain": [
       "26"
      ]
     },
     "execution_count": 11,
     "metadata": {},
     "output_type": "execute_result"
    }
   ],
   "source": [
    "order_data.columns.get_loc('DiscountNorm')"
   ]
  },
  {
   "cell_type": "code",
   "execution_count": 12,
   "metadata": {
    "id": "oO26q0R5IajV"
   },
   "outputs": [],
   "source": [
    "datanparray = order_data.values"
   ]
  },
  {
   "cell_type": "code",
   "execution_count": 13,
   "metadata": {
    "id": "X4A64jttIfyd"
   },
   "outputs": [],
   "source": [
    "# Define independent variables, QunatityNorm, SalesNorm, ShippingCostsNorm\n",
    "TrainData   = datanparray[:, [28, 29, 30]]\n",
    "# Define dependent variable, Priority Label\n",
    "TrainLabels = datanparray[:, [25]]"
   ]
  },
  {
   "cell_type": "code",
   "execution_count": 14,
   "metadata": {
    "colab": {
     "base_uri": "https://localhost:8080/"
    },
    "id": "X23MVhj7cSRC",
    "outputId": "cc40f038-fbca-4b88-d31e-e88c96c69a36"
   },
   "outputs": [
    {
     "data": {
      "text/plain": [
       "array([[0.07692308, 0.01801658, 0.03798323],\n",
       "       [0.23076923, 0.00356921, 0.00547361],\n",
       "       [0.        , 0.00066437, 0.00087835],\n",
       "       ...,\n",
       "       [0.07692308, 0.00089584, 0.00220658],\n",
       "       [0.46153846, 0.00399725, 0.01035809],\n",
       "       [0.07692308, 0.00922606, 0.00891203]])"
      ]
     },
     "execution_count": 14,
     "metadata": {},
     "output_type": "execute_result"
    }
   ],
   "source": [
    "TrainDataFloat = TrainData.astype(float)\n",
    "TrainDataFloat"
   ]
  },
  {
   "cell_type": "code",
   "execution_count": 15,
   "metadata": {
    "colab": {
     "base_uri": "https://localhost:8080/"
    },
    "id": "6a_GtDFpcU7e",
    "outputId": "620a95ee-ec3b-495d-a533-5872c54417f8"
   },
   "outputs": [
    {
     "data": {
      "text/plain": [
       "array([[1],\n",
       "       [1],\n",
       "       [1],\n",
       "       ...,\n",
       "       [1],\n",
       "       [2],\n",
       "       [1]])"
      ]
     },
     "execution_count": 15,
     "metadata": {},
     "output_type": "execute_result"
    }
   ],
   "source": [
    "TrainLabelsInt = TrainLabels.astype(int)\n",
    "TrainLabelsInt"
   ]
  },
  {
   "cell_type": "code",
   "execution_count": 16,
   "metadata": {
    "colab": {
     "base_uri": "https://localhost:8080/"
    },
    "id": "kcoo8AzRE6Ij",
    "outputId": "3eeb8006-f1e2-42a9-d59b-2a851ad7822b"
   },
   "outputs": [
    {
     "name": "stdout",
     "output_type": "stream",
     "text": [
      "TrainDataFloat shape: (53367, 3)\n",
      "TrainLabelsInt shape: (53367, 1)\n",
      "TrainDataFloat dtype: float64\n",
      "TrainLabelsInt dtype: int64\n"
     ]
    }
   ],
   "source": [
    "print(\"TrainDataFloat shape:\", TrainDataFloat.shape)\n",
    "print(\"TrainLabelsInt shape:\", TrainLabelsInt.shape)\n",
    "print(\"TrainDataFloat dtype:\", TrainDataFloat.dtype)\n",
    "print(\"TrainLabelsInt dtype:\", TrainLabelsInt.dtype)"
   ]
  },
  {
   "cell_type": "code",
   "execution_count": 17,
   "metadata": {
    "id": "dBpZGmSbcrcH"
   },
   "outputs": [],
   "source": [
    "model = keras.Sequential([\n",
    "    keras.layers.Dense(64, activation=tf.nn.relu),\n",
    "    keras.layers.Dense(8, activation=tf.nn.relu),\n",
    "    keras.layers.Dense(4, activation=tf.nn.softmax)\n",
    "])"
   ]
  },
  {
   "cell_type": "code",
   "execution_count": 18,
   "metadata": {
    "id": "dehHSBEwc2Ic"
   },
   "outputs": [],
   "source": [
    "#model for adam optimizer, and loss = sparse_categorical_crossentropy\n",
    "model.compile(\n",
    "              optimizer='adam',\n",
    "#             optimizer='sgd',\n",
    "              loss='sparse_categorical_crossentropy',\n",
    "              metrics=['accuracy'])"
   ]
  },
  {
   "cell_type": "code",
   "execution_count": 19,
   "metadata": {
    "colab": {
     "base_uri": "https://localhost:8080/"
    },
    "id": "NYzoU-a6c4Dh",
    "outputId": "5bc21303-6bcc-49b0-b143-c5d080ce1c2f"
   },
   "outputs": [
    {
     "name": "stdout",
     "output_type": "stream",
     "text": [
      "Epoch 1/30\n",
      "1668/1668 [==============================] - 3s 1ms/step - loss: 1.0368 - accuracy: 0.5427\n",
      "Epoch 2/30\n",
      "1668/1668 [==============================] - 2s 1ms/step - loss: 0.9424 - accuracy: 0.6031\n",
      "Epoch 3/30\n",
      "1668/1668 [==============================] - 2s 1ms/step - loss: 0.9005 - accuracy: 0.6261\n",
      "Epoch 4/30\n",
      "1668/1668 [==============================] - 2s 1ms/step - loss: 0.8750 - accuracy: 0.6407\n",
      "Epoch 5/30\n",
      "1668/1668 [==============================] - 2s 1ms/step - loss: 0.8533 - accuracy: 0.6524\n",
      "Epoch 6/30\n",
      "1668/1668 [==============================] - 2s 1ms/step - loss: 0.8357 - accuracy: 0.6622\n",
      "Epoch 7/30\n",
      "1668/1668 [==============================] - 2s 1ms/step - loss: 0.8217 - accuracy: 0.6713\n",
      "Epoch 8/30\n",
      "1668/1668 [==============================] - 2s 1ms/step - loss: 0.8117 - accuracy: 0.6769\n",
      "Epoch 9/30\n",
      "1668/1668 [==============================] - 2s 1ms/step - loss: 0.8035 - accuracy: 0.6838\n",
      "Epoch 10/30\n",
      "1668/1668 [==============================] - 2s 1ms/step - loss: 0.7946 - accuracy: 0.6871\n",
      "Epoch 11/30\n",
      "1668/1668 [==============================] - 2s 1ms/step - loss: 0.7886 - accuracy: 0.6917\n",
      "Epoch 12/30\n",
      "1668/1668 [==============================] - 2s 1ms/step - loss: 0.7841 - accuracy: 0.6950\n",
      "Epoch 13/30\n",
      "1668/1668 [==============================] - 2s 1ms/step - loss: 0.7792 - accuracy: 0.6976\n",
      "Epoch 14/30\n",
      "1668/1668 [==============================] - 2s 1ms/step - loss: 0.7748 - accuracy: 0.6990\n",
      "Epoch 15/30\n",
      "1668/1668 [==============================] - 3s 2ms/step - loss: 0.7721 - accuracy: 0.7017\n",
      "Epoch 16/30\n",
      "1668/1668 [==============================] - 3s 2ms/step - loss: 0.7671 - accuracy: 0.7044\n",
      "Epoch 17/30\n",
      "1668/1668 [==============================] - 2s 1ms/step - loss: 0.7648 - accuracy: 0.7050\n",
      "Epoch 18/30\n",
      "1668/1668 [==============================] - 2s 1ms/step - loss: 0.7627 - accuracy: 0.7067\n",
      "Epoch 19/30\n",
      "1668/1668 [==============================] - 2s 1ms/step - loss: 0.7609 - accuracy: 0.7078\n",
      "Epoch 20/30\n",
      "1668/1668 [==============================] - 2s 1ms/step - loss: 0.7588 - accuracy: 0.7089\n",
      "Epoch 21/30\n",
      "1668/1668 [==============================] - 2s 1ms/step - loss: 0.7565 - accuracy: 0.7104\n",
      "Epoch 22/30\n",
      "1668/1668 [==============================] - 2s 1ms/step - loss: 0.7550 - accuracy: 0.7119\n",
      "Epoch 23/30\n",
      "1668/1668 [==============================] - 2s 1ms/step - loss: 0.7549 - accuracy: 0.7119\n",
      "Epoch 24/30\n",
      "1668/1668 [==============================] - 2s 1ms/step - loss: 0.7542 - accuracy: 0.7124\n",
      "Epoch 25/30\n",
      "1668/1668 [==============================] - 2s 1ms/step - loss: 0.7522 - accuracy: 0.7135\n",
      "Epoch 26/30\n",
      "1668/1668 [==============================] - 3s 2ms/step - loss: 0.7506 - accuracy: 0.7143\n",
      "Epoch 27/30\n",
      "1668/1668 [==============================] - 2s 1ms/step - loss: 0.7484 - accuracy: 0.7157\n",
      "Epoch 28/30\n",
      "1668/1668 [==============================] - 2s 1ms/step - loss: 0.7491 - accuracy: 0.7147\n",
      "Epoch 29/30\n",
      "1668/1668 [==============================] - 3s 2ms/step - loss: 0.7484 - accuracy: 0.7151\n",
      "Epoch 30/30\n",
      "1668/1668 [==============================] - 3s 2ms/step - loss: 0.7475 - accuracy: 0.7149\n"
     ]
    },
    {
     "data": {
      "text/plain": [
       "<keras.src.callbacks.History at 0x7f7b581017b0>"
      ]
     },
     "execution_count": 19,
     "metadata": {},
     "output_type": "execute_result"
    }
   ],
   "source": [
    "model.fit(TrainDataFloat, TrainLabelsInt, epochs=30)"
   ]
  },
  {
   "cell_type": "code",
   "execution_count": 20,
   "metadata": {},
   "outputs": [
    {
     "name": "stdout",
     "output_type": "stream",
     "text": [
      "1668/1668 [==============================] - 2s 1ms/step - loss: 0.7488 - accuracy: 0.7269\n",
      "Train accuracy: 0.7269473671913147\n"
     ]
    }
   ],
   "source": [
    "train_loss, train_acc = model.evaluate(TrainDataFloat, TrainLabelsInt)\n",
    "\n",
    "print('Train accuracy:', train_acc)"
   ]
  },
  {
   "cell_type": "code",
   "execution_count": 21,
   "metadata": {
    "colab": {
     "base_uri": "https://localhost:8080/"
    },
    "id": "3HGU04ihBt5b",
    "outputId": "15d195e1-c706-4356-e18b-126167874ca2"
   },
   "outputs": [
    {
     "name": "stdout",
     "output_type": "stream",
     "text": [
      "(53367, 31)\n",
      "(53367, 3)\n",
      "(53367, 1)\n"
     ]
    }
   ],
   "source": [
    "print(order_data.shape)\n",
    "print(TrainDataFloat.shape)\n",
    "print(TrainLabelsInt.shape)"
   ]
  },
  {
   "cell_type": "code",
   "execution_count": 22,
   "metadata": {
    "id": "7aGsPDlOBt26"
   },
   "outputs": [],
   "source": [
    "!pip install -q -U keras-tuner"
   ]
  },
  {
   "cell_type": "code",
   "execution_count": 23,
   "metadata": {
    "id": "iz46pNBuBtxm"
   },
   "outputs": [],
   "source": [
    "import keras_tuner as kt"
   ]
  },
  {
   "cell_type": "code",
   "execution_count": 24,
   "metadata": {
    "id": "wk7x2RvfCGAx"
   },
   "outputs": [],
   "source": [
    "# The model builder function returns a compiled model and uses hyperparameters you define inline\n",
    "# to hypertune the model\n",
    "\n",
    "def model_builder(hp):\n",
    "  model = keras.Sequential()\n",
    "  model.add(keras.layers.Flatten(input_shape=(3,1)))\n",
    "\n",
    "  # Tune the number of units in the first Dense layer\n",
    "  # Choose an optimal value between min and max\n",
    "  hp_units = hp.Int('units', min_value=4, max_value=16, step=2)\n",
    "  model.add(keras.layers.Dense(units=hp_units, activation='relu'))\n",
    "  model.add(keras.layers.Dense(4))\n",
    "\n",
    "  # Tune the learning rate for the optimizer\n",
    "  # Choose an optimal value from 0.01, 0.001, or 0.0001\n",
    "  hp_learning_rate = hp.Choice('learning_rate', values=[1e-2, 1e-3, 1e-4])\n",
    "\n",
    "  model.compile(optimizer=keras.optimizers.Adam(learning_rate=hp_learning_rate),\n",
    "                loss=keras.losses.SparseCategoricalCrossentropy(from_logits=True),\n",
    "                metrics=['accuracy'])\n",
    "\n",
    "  return model"
   ]
  },
  {
   "cell_type": "code",
   "execution_count": 25,
   "metadata": {
    "colab": {
     "base_uri": "https://localhost:8080/"
    },
    "id": "wIoUSyuvCF-t",
    "outputId": "b30a2885-a7eb-4acf-969f-2691a0da22fe"
   },
   "outputs": [],
   "source": [
    "# The Keras Tuner has four tuners available: RandomSearch, Hyperband, BayesianOptimization, and Sklearn\n",
    "\n",
    "# The Hyperband tuning algorithm uses adaptive resource allocation and early-stopping to quickly converge\n",
    "# on a high-performing model. This is done using a sports championship style bracket. The algorithm\n",
    "# trains a large number of models for a few epochs and carries forward only the top-performing half of\n",
    "# models to the next round. Hyperband determines the number of models to train in a bracket by computing\n",
    "# 1 + log factor(max_epochs) and rounding it up to the nearest integer.\n",
    "\n",
    "tuner = kt.Hyperband(model_builder,\n",
    "                     objective='val_accuracy',\n",
    "                     max_epochs=10,\n",
    "                     factor=3,\n",
    "                     directory='my_dir',\n",
    "                     project_name='kt_tuning')"
   ]
  },
  {
   "cell_type": "code",
   "execution_count": 26,
   "metadata": {
    "id": "ND5lMdIGCF80"
   },
   "outputs": [],
   "source": [
    "# Create a callback to stop training early after reaching a certain value for the validation loss\n",
    "\n",
    "stop_early = tf.keras.callbacks.EarlyStopping(monitor='val_loss', patience=5)"
   ]
  },
  {
   "cell_type": "code",
   "execution_count": 27,
   "metadata": {
    "colab": {
     "base_uri": "https://localhost:8080/"
    },
    "id": "9Hj9nldYCF6h",
    "outputId": "591fb200-35e2-48f3-e44e-8479fe0470ee"
   },
   "outputs": [
    {
     "name": "stdout",
     "output_type": "stream",
     "text": [
      "Trial 27 Complete [00h 00m 39s]\n",
      "val_accuracy: 0.5688589215278625\n",
      "\n",
      "Best val_accuracy So Far: 0.6906501650810242\n",
      "Total elapsed time: 00h 04m 25s\n",
      "\n",
      "The hyperparameter search is complete. The optimal number of units in the first densely-connected\n",
      "layer is 16 and the optimal learning rate for the optimizer\n",
      "is 0.01.\n",
      "\n"
     ]
    }
   ],
   "source": [
    "# Run the hyperparameter search. The arguments for the search method are the same as those\n",
    "# used for tf.keras.model.fit\n",
    "\n",
    "tuner.search(TrainDataFloat, TrainLabelsInt, epochs=50, validation_split=0.2, callbacks=[stop_early])\n",
    "\n",
    "# Get the optimal hyperparameters\n",
    "\n",
    "best_hps=tuner.get_best_hyperparameters(num_trials=1)[0]\n",
    "\n",
    "print(f\"\"\"\n",
    "The hyperparameter search is complete. The optimal number of units in the first densely-connected\n",
    "layer is {best_hps.get('units')} and the optimal learning rate for the optimizer\n",
    "is {best_hps.get('learning_rate')}.\n",
    "\"\"\")"
   ]
  },
  {
   "cell_type": "code",
   "execution_count": 28,
   "metadata": {
    "colab": {
     "base_uri": "https://localhost:8080/"
    },
    "id": "l3n76g_ICF4Z",
    "outputId": "1458fba3-44a1-4106-c637-b1a445a1340a"
   },
   "outputs": [
    {
     "name": "stdout",
     "output_type": "stream",
     "text": [
      "Epoch 1/50\n",
      "1335/1335 [==============================] - 5s 3ms/step - loss: 0.9718 - accuracy: 0.5940 - val_loss: 0.9417 - val_accuracy: 0.6051\n",
      "Epoch 2/50\n",
      "1335/1335 [==============================] - 4s 3ms/step - loss: 0.8939 - accuracy: 0.6304 - val_loss: 0.9026 - val_accuracy: 0.6210\n",
      "Epoch 3/50\n",
      "1335/1335 [==============================] - 4s 3ms/step - loss: 0.8587 - accuracy: 0.6516 - val_loss: 0.8887 - val_accuracy: 0.6279\n",
      "Epoch 4/50\n",
      "1335/1335 [==============================] - 4s 3ms/step - loss: 0.8391 - accuracy: 0.6650 - val_loss: 0.8884 - val_accuracy: 0.6356\n",
      "Epoch 5/50\n",
      "1335/1335 [==============================] - 4s 3ms/step - loss: 0.8262 - accuracy: 0.6727 - val_loss: 0.8623 - val_accuracy: 0.6472\n",
      "Epoch 6/50\n",
      "1335/1335 [==============================] - 4s 3ms/step - loss: 0.8151 - accuracy: 0.6788 - val_loss: 0.8598 - val_accuracy: 0.6707\n",
      "Epoch 7/50\n",
      "1335/1335 [==============================] - 4s 3ms/step - loss: 0.8116 - accuracy: 0.6834 - val_loss: 0.8501 - val_accuracy: 0.6646\n",
      "Epoch 8/50\n",
      "1335/1335 [==============================] - 4s 3ms/step - loss: 0.8053 - accuracy: 0.6878 - val_loss: 0.8400 - val_accuracy: 0.6725\n",
      "Epoch 9/50\n",
      "1335/1335 [==============================] - 4s 3ms/step - loss: 0.8005 - accuracy: 0.6918 - val_loss: 0.8363 - val_accuracy: 0.6800\n",
      "Epoch 10/50\n",
      "1335/1335 [==============================] - 4s 3ms/step - loss: 0.7979 - accuracy: 0.6913 - val_loss: 0.8302 - val_accuracy: 0.6764\n",
      "Epoch 11/50\n",
      "1335/1335 [==============================] - 3s 3ms/step - loss: 0.7942 - accuracy: 0.6939 - val_loss: 0.8300 - val_accuracy: 0.6632\n",
      "Epoch 12/50\n",
      "1335/1335 [==============================] - 4s 3ms/step - loss: 0.7927 - accuracy: 0.6956 - val_loss: 0.8311 - val_accuracy: 0.6632\n",
      "Epoch 13/50\n",
      "1335/1335 [==============================] - 3s 3ms/step - loss: 0.7882 - accuracy: 0.6981 - val_loss: 0.8285 - val_accuracy: 0.6909\n",
      "Epoch 14/50\n",
      "1335/1335 [==============================] - 5s 4ms/step - loss: 0.7876 - accuracy: 0.6982 - val_loss: 0.8193 - val_accuracy: 0.6704\n",
      "Epoch 15/50\n",
      "1335/1335 [==============================] - 3s 3ms/step - loss: 0.7857 - accuracy: 0.6988 - val_loss: 0.8253 - val_accuracy: 0.6673\n",
      "Epoch 16/50\n",
      "1335/1335 [==============================] - 3s 3ms/step - loss: 0.7845 - accuracy: 0.7019 - val_loss: 0.8135 - val_accuracy: 0.6862\n",
      "Epoch 17/50\n",
      "1335/1335 [==============================] - 4s 3ms/step - loss: 0.7843 - accuracy: 0.7015 - val_loss: 0.8142 - val_accuracy: 0.6793\n",
      "Epoch 18/50\n",
      "1335/1335 [==============================] - 4s 3ms/step - loss: 0.7829 - accuracy: 0.7018 - val_loss: 0.8432 - val_accuracy: 0.6574\n",
      "Epoch 19/50\n",
      "1335/1335 [==============================] - 4s 3ms/step - loss: 0.7813 - accuracy: 0.7038 - val_loss: 0.8196 - val_accuracy: 0.6708\n",
      "Epoch 20/50\n",
      "1335/1335 [==============================] - 3s 3ms/step - loss: 0.7800 - accuracy: 0.7055 - val_loss: 0.8163 - val_accuracy: 0.7018\n",
      "Epoch 21/50\n",
      "1335/1335 [==============================] - 4s 3ms/step - loss: 0.7784 - accuracy: 0.7055 - val_loss: 0.8370 - val_accuracy: 0.7091\n",
      "Epoch 22/50\n",
      "1335/1335 [==============================] - 3s 2ms/step - loss: 0.7782 - accuracy: 0.7062 - val_loss: 0.8382 - val_accuracy: 0.6595\n",
      "Epoch 23/50\n",
      "1335/1335 [==============================] - 2s 2ms/step - loss: 0.7758 - accuracy: 0.7073 - val_loss: 0.8088 - val_accuracy: 0.6722\n",
      "Epoch 24/50\n",
      "1335/1335 [==============================] - 2s 1ms/step - loss: 0.7751 - accuracy: 0.7061 - val_loss: 0.8018 - val_accuracy: 0.6740\n",
      "Epoch 25/50\n",
      "1335/1335 [==============================] - 2s 1ms/step - loss: 0.7736 - accuracy: 0.7055 - val_loss: 0.7975 - val_accuracy: 0.6905\n",
      "Epoch 26/50\n",
      "1335/1335 [==============================] - 2s 1ms/step - loss: 0.7736 - accuracy: 0.7074 - val_loss: 0.7933 - val_accuracy: 0.6923\n",
      "Epoch 27/50\n",
      "1335/1335 [==============================] - 2s 1ms/step - loss: 0.7723 - accuracy: 0.7083 - val_loss: 0.7953 - val_accuracy: 0.6949\n",
      "Epoch 28/50\n",
      "1335/1335 [==============================] - 2s 1ms/step - loss: 0.7710 - accuracy: 0.7074 - val_loss: 0.8028 - val_accuracy: 0.7007\n",
      "Epoch 29/50\n",
      "1335/1335 [==============================] - 2s 1ms/step - loss: 0.7700 - accuracy: 0.7070 - val_loss: 0.8079 - val_accuracy: 0.6738\n",
      "Epoch 30/50\n",
      "1335/1335 [==============================] - 2s 1ms/step - loss: 0.7688 - accuracy: 0.7074 - val_loss: 0.7884 - val_accuracy: 0.6884\n",
      "Epoch 31/50\n",
      "1335/1335 [==============================] - 2s 1ms/step - loss: 0.7688 - accuracy: 0.7096 - val_loss: 0.7872 - val_accuracy: 0.6934\n",
      "Epoch 32/50\n",
      "1335/1335 [==============================] - 2s 2ms/step - loss: 0.7691 - accuracy: 0.7085 - val_loss: 0.8174 - val_accuracy: 0.6748\n",
      "Epoch 33/50\n",
      "1335/1335 [==============================] - 3s 2ms/step - loss: 0.7676 - accuracy: 0.7084 - val_loss: 0.7945 - val_accuracy: 0.6890\n",
      "Epoch 34/50\n",
      "1335/1335 [==============================] - 2s 2ms/step - loss: 0.7682 - accuracy: 0.7069 - val_loss: 0.8061 - val_accuracy: 0.7076\n",
      "Epoch 35/50\n",
      "1335/1335 [==============================] - 5s 4ms/step - loss: 0.7667 - accuracy: 0.7086 - val_loss: 0.7874 - val_accuracy: 0.6937\n",
      "Epoch 36/50\n",
      "1335/1335 [==============================] - 2s 2ms/step - loss: 0.7650 - accuracy: 0.7106 - val_loss: 0.8042 - val_accuracy: 0.7137\n",
      "Epoch 37/50\n",
      "1335/1335 [==============================] - 2s 1ms/step - loss: 0.7653 - accuracy: 0.7098 - val_loss: 0.7854 - val_accuracy: 0.6926\n",
      "Epoch 38/50\n",
      "1335/1335 [==============================] - 3s 2ms/step - loss: 0.7652 - accuracy: 0.7103 - val_loss: 0.8028 - val_accuracy: 0.6787\n",
      "Epoch 39/50\n",
      "1335/1335 [==============================] - 3s 2ms/step - loss: 0.7643 - accuracy: 0.7106 - val_loss: 0.7884 - val_accuracy: 0.6978\n",
      "Epoch 40/50\n",
      "1335/1335 [==============================] - 3s 2ms/step - loss: 0.7650 - accuracy: 0.7095 - val_loss: 0.8075 - val_accuracy: 0.6737\n",
      "Epoch 41/50\n",
      "1335/1335 [==============================] - 3s 2ms/step - loss: 0.7641 - accuracy: 0.7083 - val_loss: 0.7950 - val_accuracy: 0.6886\n",
      "Epoch 42/50\n",
      "1335/1335 [==============================] - 3s 2ms/step - loss: 0.7640 - accuracy: 0.7098 - val_loss: 0.7993 - val_accuracy: 0.6864\n",
      "Epoch 43/50\n",
      "1335/1335 [==============================] - 3s 2ms/step - loss: 0.7639 - accuracy: 0.7104 - val_loss: 0.7877 - val_accuracy: 0.6907\n",
      "Epoch 44/50\n",
      "1335/1335 [==============================] - 3s 2ms/step - loss: 0.7629 - accuracy: 0.7115 - val_loss: 0.8034 - val_accuracy: 0.6803\n",
      "Epoch 45/50\n",
      "1335/1335 [==============================] - 3s 2ms/step - loss: 0.7638 - accuracy: 0.7107 - val_loss: 0.7853 - val_accuracy: 0.6928\n",
      "Epoch 46/50\n",
      "1335/1335 [==============================] - 2s 2ms/step - loss: 0.7632 - accuracy: 0.7105 - val_loss: 0.7884 - val_accuracy: 0.7050\n",
      "Epoch 47/50\n",
      "1335/1335 [==============================] - 2s 1ms/step - loss: 0.7636 - accuracy: 0.7097 - val_loss: 0.7891 - val_accuracy: 0.7011\n",
      "Epoch 48/50\n",
      "1335/1335 [==============================] - 2s 1ms/step - loss: 0.7618 - accuracy: 0.7114 - val_loss: 0.7904 - val_accuracy: 0.6827\n",
      "Epoch 49/50\n",
      "1335/1335 [==============================] - 2s 1ms/step - loss: 0.7617 - accuracy: 0.7129 - val_loss: 0.8198 - val_accuracy: 0.6702\n",
      "Epoch 50/50\n",
      "1335/1335 [==============================] - 2s 1ms/step - loss: 0.7626 - accuracy: 0.7121 - val_loss: 0.8288 - val_accuracy: 0.6676\n",
      "Best epoch: 36\n"
     ]
    }
   ],
   "source": [
    "# Find the optimal number of epochs to train the model with the hyperparameters\n",
    "# obtained from the search\n",
    "# Build the model with the optimal hyperparameters and train it on the data\n",
    "\n",
    "model = tuner.hypermodel.build(best_hps)\n",
    "history = model.fit(TrainDataFloat, TrainLabelsInt, epochs=50, validation_split=0.2)\n",
    "\n",
    "val_acc_per_epoch = history.history['val_accuracy']\n",
    "best_epoch = val_acc_per_epoch.index(max(val_acc_per_epoch)) + 1\n",
    "print('Best epoch: %d' % (best_epoch,))"
   ]
  },
  {
   "cell_type": "code",
   "execution_count": 29,
   "metadata": {
    "colab": {
     "base_uri": "https://localhost:8080/"
    },
    "id": "UOVazy9UCcjX",
    "outputId": "62d8eef5-5b54-411b-c460-8450222d2aed"
   },
   "outputs": [
    {
     "name": "stdout",
     "output_type": "stream",
     "text": [
      "Epoch 1/36\n",
      "1335/1335 [==============================] - 2s 2ms/step - loss: 0.9653 - accuracy: 0.5978 - val_loss: 0.9368 - val_accuracy: 0.6139\n",
      "Epoch 2/36\n",
      "1335/1335 [==============================] - 2s 1ms/step - loss: 0.8864 - accuracy: 0.6395 - val_loss: 0.9662 - val_accuracy: 0.6120\n",
      "Epoch 3/36\n",
      "1335/1335 [==============================] - 2s 1ms/step - loss: 0.8547 - accuracy: 0.6589 - val_loss: 0.8884 - val_accuracy: 0.6466\n",
      "Epoch 4/36\n",
      "1335/1335 [==============================] - 2s 1ms/step - loss: 0.8373 - accuracy: 0.6696 - val_loss: 0.9542 - val_accuracy: 0.5695\n",
      "Epoch 5/36\n",
      "1335/1335 [==============================] - 2s 1ms/step - loss: 0.8252 - accuracy: 0.6780 - val_loss: 0.8658 - val_accuracy: 0.6645\n",
      "Epoch 6/36\n",
      "1335/1335 [==============================] - 2s 1ms/step - loss: 0.8158 - accuracy: 0.6834 - val_loss: 0.8582 - val_accuracy: 0.6642\n",
      "Epoch 7/36\n",
      "1335/1335 [==============================] - 2s 1ms/step - loss: 0.8094 - accuracy: 0.6871 - val_loss: 0.8584 - val_accuracy: 0.6498\n",
      "Epoch 8/36\n",
      "1335/1335 [==============================] - 2s 1ms/step - loss: 0.8021 - accuracy: 0.6916 - val_loss: 0.8414 - val_accuracy: 0.6626\n",
      "Epoch 9/36\n",
      "1335/1335 [==============================] - 2s 2ms/step - loss: 0.7968 - accuracy: 0.6932 - val_loss: 0.8658 - val_accuracy: 0.6492\n",
      "Epoch 10/36\n",
      "1335/1335 [==============================] - 2s 1ms/step - loss: 0.7911 - accuracy: 0.6964 - val_loss: 0.8252 - val_accuracy: 0.6756\n",
      "Epoch 11/36\n",
      "1335/1335 [==============================] - 2s 1ms/step - loss: 0.7862 - accuracy: 0.6996 - val_loss: 0.8131 - val_accuracy: 0.6837\n",
      "Epoch 12/36\n",
      "1335/1335 [==============================] - 2s 1ms/step - loss: 0.7828 - accuracy: 0.7006 - val_loss: 0.8112 - val_accuracy: 0.6711\n",
      "Epoch 13/36\n",
      "1335/1335 [==============================] - 3s 2ms/step - loss: 0.7805 - accuracy: 0.7014 - val_loss: 0.8039 - val_accuracy: 0.6759\n",
      "Epoch 14/36\n",
      "1335/1335 [==============================] - 3s 2ms/step - loss: 0.7763 - accuracy: 0.7025 - val_loss: 0.8898 - val_accuracy: 0.6494\n",
      "Epoch 15/36\n",
      "1335/1335 [==============================] - 2s 1ms/step - loss: 0.7756 - accuracy: 0.7022 - val_loss: 0.8083 - val_accuracy: 0.6987\n",
      "Epoch 16/36\n",
      "1335/1335 [==============================] - 2s 1ms/step - loss: 0.7698 - accuracy: 0.7069 - val_loss: 0.8155 - val_accuracy: 0.7069\n",
      "Epoch 17/36\n",
      "1335/1335 [==============================] - 2s 1ms/step - loss: 0.7697 - accuracy: 0.7072 - val_loss: 0.8024 - val_accuracy: 0.7018\n",
      "Epoch 18/36\n",
      "1335/1335 [==============================] - 2s 1ms/step - loss: 0.7697 - accuracy: 0.7064 - val_loss: 0.8072 - val_accuracy: 0.6768\n",
      "Epoch 19/36\n",
      "1335/1335 [==============================] - 2s 1ms/step - loss: 0.7672 - accuracy: 0.7086 - val_loss: 0.8057 - val_accuracy: 0.6819\n",
      "Epoch 20/36\n",
      "1335/1335 [==============================] - 2s 1ms/step - loss: 0.7659 - accuracy: 0.7091 - val_loss: 0.8039 - val_accuracy: 0.6772\n",
      "Epoch 21/36\n",
      "1335/1335 [==============================] - 2s 1ms/step - loss: 0.7655 - accuracy: 0.7095 - val_loss: 0.8795 - val_accuracy: 0.6591\n",
      "Epoch 22/36\n",
      "1335/1335 [==============================] - 2s 1ms/step - loss: 0.7661 - accuracy: 0.7115 - val_loss: 0.7990 - val_accuracy: 0.6973\n",
      "Epoch 23/36\n",
      "1335/1335 [==============================] - 2s 2ms/step - loss: 0.7674 - accuracy: 0.7083 - val_loss: 0.7863 - val_accuracy: 0.6950\n",
      "Epoch 24/36\n",
      "1335/1335 [==============================] - 2s 1ms/step - loss: 0.7658 - accuracy: 0.7106 - val_loss: 0.8700 - val_accuracy: 0.6047\n",
      "Epoch 25/36\n",
      "1335/1335 [==============================] - 2s 1ms/step - loss: 0.7626 - accuracy: 0.7111 - val_loss: 0.7853 - val_accuracy: 0.6891\n",
      "Epoch 26/36\n",
      "1335/1335 [==============================] - 2s 1ms/step - loss: 0.7632 - accuracy: 0.7110 - val_loss: 0.9689 - val_accuracy: 0.6368\n",
      "Epoch 27/36\n",
      "1335/1335 [==============================] - 2s 1ms/step - loss: 0.7645 - accuracy: 0.7102 - val_loss: 0.7982 - val_accuracy: 0.6789\n",
      "Epoch 28/36\n",
      "1335/1335 [==============================] - 2s 1ms/step - loss: 0.7601 - accuracy: 0.7127 - val_loss: 0.7817 - val_accuracy: 0.7016\n",
      "Epoch 29/36\n",
      "1335/1335 [==============================] - 2s 2ms/step - loss: 0.7598 - accuracy: 0.7131 - val_loss: 0.8016 - val_accuracy: 0.7067\n",
      "Epoch 30/36\n",
      "1335/1335 [==============================] - 2s 1ms/step - loss: 0.7642 - accuracy: 0.7088 - val_loss: 0.7941 - val_accuracy: 0.7097\n",
      "Epoch 31/36\n",
      "1335/1335 [==============================] - 2s 1ms/step - loss: 0.7608 - accuracy: 0.7107 - val_loss: 0.7995 - val_accuracy: 0.6816\n",
      "Epoch 32/36\n",
      "1335/1335 [==============================] - 2s 2ms/step - loss: 0.7594 - accuracy: 0.7120 - val_loss: 0.7966 - val_accuracy: 0.6851\n",
      "Epoch 33/36\n",
      "1335/1335 [==============================] - 2s 1ms/step - loss: 0.7595 - accuracy: 0.7138 - val_loss: 0.8038 - val_accuracy: 0.7011\n",
      "Epoch 34/36\n",
      "1335/1335 [==============================] - 2s 2ms/step - loss: 0.7587 - accuracy: 0.7125 - val_loss: 0.8045 - val_accuracy: 0.7090\n",
      "Epoch 35/36\n",
      "1335/1335 [==============================] - 2s 1ms/step - loss: 0.7630 - accuracy: 0.7124 - val_loss: 0.7783 - val_accuracy: 0.6886\n",
      "Epoch 36/36\n",
      "1335/1335 [==============================] - 2s 1ms/step - loss: 0.7584 - accuracy: 0.7140 - val_loss: 0.7832 - val_accuracy: 0.6987\n"
     ]
    },
    {
     "data": {
      "text/plain": [
       "<keras.src.callbacks.History at 0x7f7b43c290f0>"
      ]
     },
     "execution_count": 29,
     "metadata": {},
     "output_type": "execute_result"
    }
   ],
   "source": [
    "# Re-instantiate the hypermodel and train it with the optimal number of epochs\n",
    "\n",
    "hypermodel = tuner.hypermodel.build(best_hps)\n",
    "\n",
    "# Retrain the model\n",
    "\n",
    "hypermodel.fit(TrainDataFloat, TrainLabelsInt, epochs=best_epoch, validation_split=0.2)"
   ]
  },
  {
   "cell_type": "code",
   "execution_count": 30,
   "metadata": {
    "colab": {
     "base_uri": "https://localhost:8080/"
    },
    "id": "WgKeflYrJs-T",
    "outputId": "d2e20aee-c227-4805-8959-119869886f05"
   },
   "outputs": [
    {
     "name": "stdout",
     "output_type": "stream",
     "text": [
      "1668/1668 [==============================] - 2s 1ms/step - loss: 0.7859 - accuracy: 0.6882\n",
      "Train accuracy: 0.6882155537605286\n"
     ]
    }
   ],
   "source": [
    "train_loss, train_acc = model.evaluate(TrainDataFloat, TrainLabelsInt)\n",
    "\n",
    "print('Train accuracy:', train_acc)"
   ]
  },
  {
   "cell_type": "code",
   "execution_count": 31,
   "metadata": {
    "colab": {
     "base_uri": "https://localhost:8080/"
    },
    "id": "bJZ2oxGkEu2E",
    "outputId": "bc539e52-59af-4a30-d42f-dab372cd8176"
   },
   "outputs": [
    {
     "name": "stdout",
     "output_type": "stream",
     "text": [
      "Model: \"sequential_1\"\n",
      "_________________________________________________________________\n",
      " Layer (type)                Output Shape              Param #   \n",
      "=================================================================\n",
      " flatten_1 (Flatten)         (None, 3)                 0         \n",
      "                                                                 \n",
      " dense_2 (Dense)             (None, 16)                64        \n",
      "                                                                 \n",
      " dense_3 (Dense)             (None, 4)                 68        \n",
      "                                                                 \n",
      "=================================================================\n",
      "Total params: 132 (528.00 Byte)\n",
      "Trainable params: 132 (528.00 Byte)\n",
      "Non-trainable params: 0 (0.00 Byte)\n",
      "_________________________________________________________________\n"
     ]
    }
   ],
   "source": [
    "model.summary()"
   ]
  },
  {
   "cell_type": "code",
   "execution_count": 32,
   "metadata": {
    "colab": {
     "base_uri": "https://localhost:8080/"
    },
    "id": "eV-0meyTK_oz",
    "outputId": "daa6c329-ea83-41bd-c143-c6a44f25586d"
   },
   "outputs": [
    {
     "name": "stdout",
     "output_type": "stream",
     "text": [
      "1668/1668 [==============================] - 2s 926us/step\n"
     ]
    }
   ],
   "source": [
    "predictions = model.predict(TrainDataFloat)"
   ]
  },
  {
   "cell_type": "code",
   "execution_count": 33,
   "metadata": {
    "id": "l4tTnG-SLDB1"
   },
   "outputs": [],
   "source": [
    "priority_labels= ['Low', 'Medium', 'High', 'Critical']"
   ]
  },
  {
   "cell_type": "code",
   "execution_count": 34,
   "metadata": {
    "colab": {
     "base_uri": "https://localhost:8080/"
    },
    "id": "5INCvWDOLKt0",
    "outputId": "2e9c1c62-7cf0-408f-c7e3-b41401b6137c"
   },
   "outputs": [
    {
     "name": "stdout",
     "output_type": "stream",
     "text": [
      "4\n",
      "4\n"
     ]
    }
   ],
   "source": [
    "print(len(predictions[0]))\n",
    "print(len(priority_labels))"
   ]
  },
  {
   "cell_type": "code",
   "execution_count": 35,
   "metadata": {
    "id": "_D07GgfqLP0g"
   },
   "outputs": [],
   "source": [
    "def plot_image(i, predictions_array, true_label):\n",
    "  plt.grid(False)\n",
    "  plt.xticks([])\n",
    "  plt.yticks([])\n",
    "\n",
    "  predicted_label = np.argmax(predictions_array[i])\n",
    "  if predicted_label == true_label[i][0]:\n",
    "    TextColor = 'blue'\n",
    "  else:\n",
    "    TextColor = 'red'\n",
    "\n",
    "  plt.xlabel(\"{} {:2.0f}% ({})\".format(\n",
    "                                  priority_labels[predicted_label],\n",
    "                                  100*np.max(predictions_array[i]),\n",
    "                                  priority_labels[true_label[i][0]]\n",
    "                                  ),\n",
    "                                color=TextColor)\n",
    "\n",
    "def plot_value_array(i, predictions_array, true_label):\n",
    "  plt.grid(True)\n",
    "  plt.ylim([0, 1])\n",
    "\n",
    "  predicted_label = np.argmax(predictions_array[i])\n",
    "  thisplot = plt.bar(range(len(predictions_array[0])), predictions_array[i], color=\"#777777\")\n",
    "\n",
    "  # if the true label equals the predicted label, then the blue color will overwrite the red color\n",
    "  thisplot[predicted_label].set_color('red')\n",
    "  thisplot[true_label[i][0]].set_color('blue')"
   ]
  },
  {
   "cell_type": "code",
   "execution_count": 36,
   "metadata": {
    "colab": {
     "base_uri": "https://localhost:8080/",
     "height": 255
    },
    "id": "eOveh7B3LRhZ",
    "outputId": "3bf3522d-7911-466a-9b60-6c4206fee2fb"
   },
   "outputs": [
    {
     "data": {
      "image/png": "[encoded data removed]",
      "text/plain": [
       "<Figure size 400x200 with 2 Axes>"
      ]
     },
     "metadata": {},
     "output_type": "display_data"
    }
   ],
   "source": [
    "i = 0\n",
    "# width, height\n",
    "plt.figure(figsize=(4,2))\n",
    "\n",
    "# nrows, ncols, index\n",
    "plt.subplot(1,2,1)\n",
    "# Create summary plot on left side\n",
    "plot_image(i, predictions, TrainLabelsInt)\n",
    "# nrows, ncols, index\n",
    "plt.subplot(1,2,2)\n",
    "# Create bar plot on right side\n",
    "plot_value_array(i, predictions, TrainLabelsInt)\n",
    "# Label X axis with classification names\n",
    "plt.xticks(range(len(predictions[0])), priority_labels, rotation=45)\n",
    "# Display the graphic\n",
    "plt.show()\n",
    "# Blue bar is correct.  If red bar appears, it is the incorrect prediction of the model."
   ]
  },
  {
   "cell_type": "code",
   "execution_count": 37,
   "metadata": {
    "colab": {
     "base_uri": "https://localhost:8080/"
    },
    "id": "9ffYF_HrLSUK",
    "outputId": "91d133d7-0e12-4e7d-b2fb-77f7bec4fff2"
   },
   "outputs": [
    {
     "data": {
      "text/plain": [
       "array([-1.129105  ,  1.7837758 ,  0.27505207, -3.243815  ], dtype=float32)"
      ]
     },
     "execution_count": 37,
     "metadata": {},
     "output_type": "execute_result"
    }
   ],
   "source": [
    "predictions[0]"
   ]
  },
  {
   "cell_type": "code",
   "execution_count": 38,
   "metadata": {
    "colab": {
     "base_uri": "https://localhost:8080/"
    },
    "id": "Pe4LJlWYOdCm",
    "outputId": "fbb1c84c-bdf6-4a2b-f1bc-36a6cc9df6d7"
   },
   "outputs": [
    {
     "name": "stdout",
     "output_type": "stream",
     "text": [
      "Number of predictions: 53367\n",
      "Number of labels: 53367\n"
     ]
    }
   ],
   "source": [
    "print(\"Number of predictions:\", len(predictions))\n",
    "print(\"Number of labels:\", len(TrainLabelsInt))"
   ]
  },
  {
   "cell_type": "code",
   "execution_count": 39,
   "metadata": {
    "colab": {
     "base_uri": "https://localhost:8080/",
     "height": 1000
    },
    "id": "TbtL45GOMSZK",
    "outputId": "3dac2d09-08da-449e-c7ba-cd0f161d34d1"
   },
   "outputs": [
    {
     "data": {
      "image/png": "[encoded data removed]",
      "text/plain": [
       "<Figure size 1600x4000 with 160 Axes>"
      ]
     },
     "metadata": {},
     "output_type": "display_data"
    }
   ],
   "source": [
    "num_rows = 20\n",
    "num_cols = 4\n",
    "num_images = num_rows*num_cols\n",
    "# width, height\n",
    "plt.figure(figsize=(2*2*num_cols, 2*num_rows))\n",
    "\n",
    "# Create each plot\n",
    "for i in range(num_images):\n",
    "  # nrows, ncols, index\n",
    "  plt.subplot(num_rows, 2*num_cols, 2*i+1)\n",
    "  # Create summary plot on left side\n",
    "  plot_image(i, predictions, TrainLabelsInt)\n",
    "  # nrows, ncols, index\n",
    "  plt.subplot(num_rows, 2*num_cols, 2*i+2)\n",
    "  # Create bar plot on right side\n",
    "  plot_value_array(i, predictions, TrainLabelsInt)\n",
    "  # Label X axis with classification names\n",
    "  plt.xticks(range(len(predictions[0])), priority_labels, rotation=45)\n",
    "\n",
    "# Display the graphic\n",
    "plt.show()\n",
    "# Blue bar is correct.  If red bar appears, it is the incorrect prediction of the model."
   ]
  },
  {
   "cell_type": "code",
   "execution_count": 40,
   "metadata": {
    "id": "9tfAleG-PFSt"
   },
   "outputs": [],
   "source": [
    "layer0 = model.get_layer(index=0)"
   ]
  },
  {
   "cell_type": "code",
   "execution_count": 41,
   "metadata": {
    "colab": {
     "base_uri": "https://localhost:8080/"
    },
    "id": "6ehpgzYqPIaT",
    "outputId": "6985bb8e-0d1f-4257-ce3d-06b96ef9b08e"
   },
   "outputs": [
    {
     "data": {
      "text/plain": [
       "[]"
      ]
     },
     "execution_count": 41,
     "metadata": {},
     "output_type": "execute_result"
    }
   ],
   "source": [
    "layer0.get_weights()"
   ]
  },
  {
   "cell_type": "code",
   "execution_count": 42,
   "metadata": {
    "id": "YzlWYS__PKB6"
   },
   "outputs": [],
   "source": [
    "layer1 = model.get_layer(index=1)"
   ]
  },
  {
   "cell_type": "code",
   "execution_count": 43,
   "metadata": {
    "colab": {
     "base_uri": "https://localhost:8080/"
    },
    "id": "kM6tFf-8PLUE",
    "outputId": "fd68a566-5cf6-48f6-ffe3-a3c817fe4e66"
   },
   "outputs": [
    {
     "data": {
      "text/plain": [
       "[array([[-1.6528964e-01, -3.1365197e-02, -6.3414104e-02,  4.7932692e-02,\n",
       "          2.0260097e-01, -2.3427767e-01, -2.6805794e-01,  5.1431507e-02,\n",
       "         -1.1601040e-02,  2.7963344e-02, -2.3376009e-01, -4.9418375e-01,\n",
       "         -5.3870034e-01,  6.3384399e-02, -5.6724662e-01, -1.6301963e-01],\n",
       "        [-4.8653966e-01,  1.0387348e+01, -6.5522270e+01, -1.6967457e+01,\n",
       "         -4.3309829e-01,  2.6463056e-01, -2.6653340e-01, -3.8139635e-01,\n",
       "         -9.4388647e+00, -9.8552313e+00, -4.3316636e-02, -4.3598926e-01,\n",
       "          1.2549289e-01, -3.2896706e+01, -3.2008511e-01,  1.8772146e-01],\n",
       "        [-9.4676584e-02, -7.8572531e+00,  6.3536444e+00,  8.1662722e+00,\n",
       "         -5.5411834e-01, -3.7973318e-01, -5.3861862e-01, -2.4773357e+01,\n",
       "          5.6671481e+00, -4.3766602e+01, -4.1597018e-01, -1.6937017e-02,\n",
       "         -1.3826382e-01,  4.6125898e+00,  2.5243101e-01, -2.1996595e-01]],\n",
       "       dtype=float32),\n",
       " array([ 0.        , -0.07965793,  0.12113734,  0.06479768, -0.20165305,\n",
       "        -0.05112736,  0.        ,  0.52262026, -0.26115787,  0.25864822,\n",
       "        -0.06507023,  0.        , -0.06002752,  0.24687862, -0.20667803,\n",
       "        -0.05227106], dtype=float32)]"
      ]
     },
     "execution_count": 43,
     "metadata": {},
     "output_type": "execute_result"
    }
   ],
   "source": [
    "layer1.get_weights()"
   ]
  },
  {
   "cell_type": "code",
   "execution_count": 44,
   "metadata": {
    "id": "RzsI6f10PNx1"
   },
   "outputs": [],
   "source": [
    "layer2 = model.get_layer(index=2)"
   ]
  },
  {
   "cell_type": "code",
   "execution_count": 45,
   "metadata": {
    "colab": {
     "base_uri": "https://localhost:8080/"
    },
    "id": "2NPDZCYCPPd0",
    "outputId": "b483f4ff-35ed-4a5c-cd15-82bf6418bc00"
   },
   "outputs": [
    {
     "data": {
      "text/plain": [
       "[array([[-5.0627393e-01,  4.8184443e-01,  1.3223881e-01, -5.1170534e-01],\n",
       "        [-2.5139163e+00, -9.6522278e-01, -2.1828257e-02,  3.0015666e+00],\n",
       "        [-1.5602461e+00, -2.4015059e+01,  3.2182326e+00,  3.5514580e+01],\n",
       "        [-4.4706598e-02, -6.6959658e+00,  1.1934842e+00,  5.6445284e+00],\n",
       "        [-9.0159811e-02,  1.0523633e-02, -1.0401499e-01,  1.7542788e-01],\n",
       "        [ 3.6089548e-01, -4.2636198e-01,  4.9490243e-01,  3.6226454e-01],\n",
       "        [ 4.2883724e-01, -1.5629178e-01,  8.7968946e-02,  4.4180757e-01],\n",
       "        [ 7.1158016e-01,  3.8146515e+00, -6.8941796e-01, -6.8255448e+00],\n",
       "        [-1.1021385e+00,  7.4576187e+00, -1.6129185e+00, -6.2933807e+00],\n",
       "        [-1.8488410e+00,  9.6002445e+00, -3.7843671e+00, -1.2350975e+01],\n",
       "        [ 3.0843124e-01,  5.8825482e-02,  4.3196532e-01,  3.6352879e-01],\n",
       "        [ 5.0420284e-01,  4.4768727e-01, -3.5607484e-01,  2.5293988e-01],\n",
       "        [ 1.5297723e-01,  3.6809513e-01,  4.4479647e-01,  4.5475635e-01],\n",
       "        [-1.9487760e+00, -8.8171196e+00,  1.8443111e+00,  1.0727753e+01],\n",
       "        [ 2.5301608e-01, -1.6701289e-01, -2.3392229e-01, -2.3186381e-01],\n",
       "        [-2.3505850e-02, -4.7581434e-01,  1.6366112e-01, -2.9838008e-01]],\n",
       "       dtype=float32),\n",
       " array([-1.1258427,  2.2723851,  0.1879627, -3.6557002], dtype=float32)]"
      ]
     },
     "execution_count": 45,
     "metadata": {},
     "output_type": "execute_result"
    }
   ],
   "source": [
    "layer2.get_weights()"
   ]
  },
  {
   "cell_type": "code",
   "execution_count": 46,
   "metadata": {
    "id": "yevribE1PR7c"
   },
   "outputs": [],
   "source": [
    "# Create data frame that contains predictions\n",
    "predictionsDF = pd.DataFrame(\n",
    "    data=predictions,\n",
    "    columns=priority_labels\n",
    "    )\n"
   ]
  },
  {
   "cell_type": "code",
   "execution_count": 47,
   "metadata": {
    "id": "X8s7g2xxPXXB"
   },
   "outputs": [],
   "source": [
    "# Create external file that contains the predictions\n",
    "predictionsDF.to_csv(\"Predictions1.csv\", encoding='utf-8', header=True, index=False)\n"
   ]
  },
  {
   "cell_type": "code",
   "execution_count": 48,
   "metadata": {
    "id": "u64IWZL9culz"
   },
   "outputs": [],
   "source": [
    "# Create one-dimensional array\n",
    "TrainLabelsInt1D = np.ndarray.copy(TrainLabelsInt[:,0])\n",
    "\n",
    "# Determine predicted outcomes and whether predicted outcomes equal actual outcomes\n",
    "PredictedLabels1D   = np.ndarray.copy(TrainLabelsInt1D)\n",
    "PredictedOutcomes1D = np.ndarray.copy(TrainLabelsInt1D)\n",
    "for i in range(len(TrainLabelsInt1D)):\n",
    "    PredictedLabels1D[i] = np.argmax(predictions[i])\n",
    "    if PredictedLabels1D[i] == TrainLabelsInt1D[i]:\n",
    "        PredictedOutcomes1D[i] = 1\n",
    "    else:\n",
    "        PredictedOutcomes1D[i] = 0"
   ]
  },
  {
   "cell_type": "code",
   "execution_count": 49,
   "metadata": {
    "colab": {
     "base_uri": "https://localhost:8080/"
    },
    "id": "8kkxGhyOcwQ3",
    "outputId": "8ee36899-2391-4ea4-f224-c61723121792"
   },
   "outputs": [
    {
     "data": {
      "text/plain": [
       "array([1, 1, 1, ..., 1, 2, 1])"
      ]
     },
     "execution_count": 49,
     "metadata": {},
     "output_type": "execute_result"
    }
   ],
   "source": [
    "TrainLabelsInt1D"
   ]
  },
  {
   "cell_type": "code",
   "execution_count": 50,
   "metadata": {
    "colab": {
     "base_uri": "https://localhost:8080/"
    },
    "id": "JP1PzfPvcxtm",
    "outputId": "de22bf78-f348-4c34-f2b3-381bfad2f748"
   },
   "outputs": [
    {
     "data": {
      "text/plain": [
       "array([1, 1, 1, ..., 1, 1, 1])"
      ]
     },
     "execution_count": 50,
     "metadata": {},
     "output_type": "execute_result"
    }
   ],
   "source": [
    "PredictedLabels1D"
   ]
  },
  {
   "cell_type": "code",
   "execution_count": 51,
   "metadata": {
    "colab": {
     "base_uri": "https://localhost:8080/"
    },
    "id": "ITK65HNacx7T",
    "outputId": "913da408-3c2c-408d-cd4e-0c0700c09663"
   },
   "outputs": [
    {
     "data": {
      "text/plain": [
       "array([1, 1, 1, ..., 1, 0, 1])"
      ]
     },
     "execution_count": 51,
     "metadata": {},
     "output_type": "execute_result"
    }
   ],
   "source": [
    "PredictedOutcomes1D"
   ]
  },
  {
   "cell_type": "code",
   "execution_count": 52,
   "metadata": {
    "colab": {
     "base_uri": "https://localhost:8080/"
    },
    "id": "WRbcLlPrc0cY",
    "outputId": "cd40c7e0-cc3b-45a1-b35a-c8c692fd7760"
   },
   "outputs": [
    {
     "data": {
      "text/plain": [
       "<tf.Tensor: shape=(4, 4), dtype=int32, numpy=\n",
       "array([[    0,  1838,   666,     1],\n",
       "       [    0, 28929,  1677,    36],\n",
       "       [    0,  9463,  6340,   343],\n",
       "       [    0,   601,  2014,  1459]], dtype=int32)>"
      ]
     },
     "execution_count": 52,
     "metadata": {},
     "output_type": "execute_result"
    }
   ],
   "source": [
    "# Create classification matrix\n",
    "# The classification matrix columns represent the prediction labels and the rows represent the actual labels\n",
    "tf.math.confusion_matrix(\n",
    "    TrainLabelsInt1D,\n",
    "    PredictedLabels1D,\n",
    "    num_classes=None,\n",
    "    weights=None,\n",
    "    dtype=tf.dtypes.int32,\n",
    "    name=None\n",
    "    )"
   ]
  },
  {
   "cell_type": "code",
   "execution_count": 53,
   "metadata": {
    "colab": {
     "base_uri": "https://localhost:8080/"
    },
    "id": "dH9HX2hxc9Oh",
    "outputId": "9b2ec7fc-acda-405f-9fcc-d6105c46fd85"
   },
   "outputs": [
    {
     "name": "stdout",
     "output_type": "stream",
     "text": [
      "Classification Matrix\n",
      "[[    0  1838   666     1]\n",
      " [    0 28929  1677    36]\n",
      " [    0  9463  6340   343]\n",
      " [    0   601  2014  1459]]\n"
     ]
    }
   ],
   "source": [
    "# Create classification matrix\n",
    "# The classification matrix columns represent the prediction labels and the rows represent the actual labels\n",
    "from sklearn.metrics import confusion_matrix\n",
    "\n",
    "ClassificationMatrix = confusion_matrix(\n",
    "    TrainLabelsInt1D,\n",
    "    PredictedLabels1D\n",
    "    )\n",
    "print('Classification Matrix')\n",
    "print(ClassificationMatrix)"
   ]
  },
  {
   "cell_type": "code",
   "execution_count": 54,
   "metadata": {
    "colab": {
     "base_uri": "https://localhost:8080/"
    },
    "id": "sTiDgEpFdAyJ",
    "outputId": "83896141-8393-422a-d0a7-665fe5b09499"
   },
   "outputs": [
    {
     "name": "stdout",
     "output_type": "stream",
     "text": [
      "Accuracy: 0.69\n"
     ]
    }
   ],
   "source": [
    "from sklearn.metrics import accuracy_score, precision_score, recall_score, f1_score\n",
    "print('Accuracy: {:.2f}'.format(accuracy_score(TrainLabelsInt1D, PredictedLabels1D)))"
   ]
  },
  {
   "cell_type": "code",
   "execution_count": 55,
   "metadata": {
    "colab": {
     "base_uri": "https://localhost:8080/"
    },
    "id": "rzckkspEdDDS",
    "outputId": "b7766665-7ff1-4cf8-fcfe-0d70f5c8b78b"
   },
   "outputs": [
    {
     "name": "stdout",
     "output_type": "stream",
     "text": [
      "Sensitivity: 0.69\n"
     ]
    }
   ],
   "source": [
    "# Sensitivity is also called true positive rate (TPR) or recall\n",
    "print('Sensitivity: {:.2f}'.format(recall_score(TrainLabelsInt1D, PredictedLabels1D, average='micro')))"
   ]
  },
  {
   "cell_type": "code",
   "execution_count": 56,
   "metadata": {
    "id": "_D1sK6l7dFZf"
   },
   "outputs": [],
   "source": [
    "# Create two-dimensional array\n",
    "PredictedLabels2D      = np.ndarray.copy(TrainLabelsInt)\n",
    "PredictedLabels2D[:,0] = np.ndarray.copy(PredictedLabels1D)\n",
    "\n",
    "PredictedOutcomes2D      = np.ndarray.copy(TrainLabelsInt)\n",
    "PredictedOutcomes2D[:,0] = np.ndarray.copy(PredictedOutcomes1D)"
   ]
  },
  {
   "cell_type": "code",
   "execution_count": 57,
   "metadata": {
    "colab": {
     "base_uri": "https://localhost:8080/"
    },
    "id": "NQI8GeoQdHk-",
    "outputId": "61ff5470-a8c5-42bb-8477-b02ce3fb2609"
   },
   "outputs": [
    {
     "data": {
      "text/plain": [
       "array([1, 1, 1, ..., 1, 1, 1])"
      ]
     },
     "execution_count": 57,
     "metadata": {},
     "output_type": "execute_result"
    }
   ],
   "source": [
    "PredictedLabels1D"
   ]
  },
  {
   "cell_type": "code",
   "execution_count": 58,
   "metadata": {
    "colab": {
     "base_uri": "https://localhost:8080/"
    },
    "id": "wNvCBNu4dHxO",
    "outputId": "28ba1b6b-dd22-449d-839a-7842c4a8b45d"
   },
   "outputs": [
    {
     "data": {
      "text/plain": [
       "array([[1],\n",
       "       [1],\n",
       "       [1],\n",
       "       ...,\n",
       "       [1],\n",
       "       [1],\n",
       "       [1]])"
      ]
     },
     "execution_count": 58,
     "metadata": {},
     "output_type": "execute_result"
    }
   ],
   "source": [
    "PredictedLabels2D"
   ]
  },
  {
   "cell_type": "code",
   "execution_count": 59,
   "metadata": {
    "colab": {
     "base_uri": "https://localhost:8080/"
    },
    "id": "lZsj5m4LdH_x",
    "outputId": "9bc78d6d-b491-4b77-c5ee-8e43debfb5e7"
   },
   "outputs": [
    {
     "data": {
      "text/plain": [
       "array([1, 1, 1, ..., 1, 0, 1])"
      ]
     },
     "execution_count": 59,
     "metadata": {},
     "output_type": "execute_result"
    }
   ],
   "source": [
    "PredictedOutcomes1D"
   ]
  },
  {
   "cell_type": "code",
   "execution_count": 60,
   "metadata": {
    "colab": {
     "base_uri": "https://localhost:8080/"
    },
    "id": "9AiUjU1tdIQe",
    "outputId": "000f29fa-cfca-415e-a27e-f77e5b746c9c"
   },
   "outputs": [
    {
     "data": {
      "text/plain": [
       "array([[1],\n",
       "       [1],\n",
       "       [1],\n",
       "       ...,\n",
       "       [1],\n",
       "       [0],\n",
       "       [1]])"
      ]
     },
     "execution_count": 60,
     "metadata": {},
     "output_type": "execute_result"
    }
   ],
   "source": [
    "PredictedOutcomes2D"
   ]
  },
  {
   "cell_type": "code",
   "execution_count": 61,
   "metadata": {
    "id": "YpRCfAVxdIcY"
   },
   "outputs": [],
   "source": [
    "TrainDataLabels                        = np.append(TrainDataFloat, TrainLabelsInt, axis=1)\n",
    "TrainDataLabelsPredictions             = np.append(TrainDataLabels, PredictedLabels2D, axis=1)\n",
    "TrainDataLabelsPredictionsOutcomes     = np.append(TrainDataLabelsPredictions, PredictedOutcomes2D, axis=1)\n",
    "TrainDataLabelsPredictionsOutcomesProb = np.append(TrainDataLabelsPredictionsOutcomes, predictions, axis=1)"
   ]
  },
  {
   "cell_type": "code",
   "execution_count": 62,
   "metadata": {
    "id": "0kNwiCvkdUNP"
   },
   "outputs": [],
   "source": [
    "# Define header\n",
    "HeaderNames = ['QuantityNorm', 'SalesNorm', 'ShippingCostNorm', 'OrderPriorityLabelActual', 'OrderPriorityLabelPrediction', 'OrderPriorityLabelAccurate',\n",
    "    'LowProbability', 'MediumProbability', 'HighProbability', 'CriticalProbability']\n",
    "\n",
    "# Create data frame\n",
    "TDLPOP_DF = pd.DataFrame(\n",
    "    data=TrainDataLabelsPredictionsOutcomesProb,\n",
    "    columns=HeaderNames\n",
    "    )"
   ]
  },
  {
   "cell_type": "code",
   "execution_count": 63,
   "metadata": {
    "id": "DC_hW_Fjdb4o"
   },
   "outputs": [],
   "source": [
    "TDLPOP_DF.to_csv(\"Predictions2.csv\", encoding='utf-8', header=True, index=False)"
   ]
  },
  {
   "cell_type": "code",
   "execution_count": null,
   "metadata": {
    "id": "EhciWmfdpEU2"
   },
   "outputs": [],
   "source": []
  },
  {
   "cell_type": "code",
   "execution_count": null,
   "metadata": {
    "id": "vB5v_etbpEOG"
   },
   "outputs": [],
   "source": []
  },
  {
   "cell_type": "code",
   "execution_count": 64,
   "metadata": {
    "id": "xWA_pSBJozay"
   },
   "outputs": [],
   "source": [
    "# Create directory to save model\n",
    "!mkdir -p Models"
   ]
  },
  {
   "cell_type": "code",
   "execution_count": 65,
   "metadata": {
    "id": "QQB25J3ro8nT"
   },
   "outputs": [
    {
     "name": "stdout",
     "output_type": "stream",
     "text": [
      "INFO:tensorflow:Assets written to: Models/assets\n"
     ]
    },
    {
     "name": "stderr",
     "output_type": "stream",
     "text": [
      "INFO:tensorflow:Assets written to: Models/assets\n"
     ]
    }
   ],
   "source": [
    "# Save model\n",
    "tf.keras.models.save_model(\n",
    "    model,\n",
    "    \"Models\",\n",
    "    overwrite=True,\n",
    "    include_optimizer=True,\n",
    "    save_format=None,\n",
    "    signatures=None,\n",
    "    options=None\n",
    "    )"
   ]
  },
  {
   "cell_type": "code",
   "execution_count": 66,
   "metadata": {
    "id": "wVQGzK3Ao_ZQ"
   },
   "outputs": [],
   "source": [
    "# Load saved model\n",
    "new_model = tf.keras.models.load_model(\"Models\")"
   ]
  },
  {
   "cell_type": "code",
   "execution_count": 67,
   "metadata": {
    "colab": {
     "base_uri": "https://localhost:8080/"
    },
    "id": "1bl_6jRQpBrV",
    "outputId": "41779573-2351-4e8c-daa3-bfed0ca965d8"
   },
   "outputs": [
    {
     "name": "stdout",
     "output_type": "stream",
     "text": [
      "Model: \"sequential_1\"\n",
      "_________________________________________________________________\n",
      " Layer (type)                Output Shape              Param #   \n",
      "=================================================================\n",
      " flatten_1 (Flatten)         (None, 3)                 0         \n",
      "                                                                 \n",
      " dense_2 (Dense)             (None, 16)                64        \n",
      "                                                                 \n",
      " dense_3 (Dense)             (None, 4)                 68        \n",
      "                                                                 \n",
      "=================================================================\n",
      "Total params: 132 (528.00 Byte)\n",
      "Trainable params: 132 (528.00 Byte)\n",
      "Non-trainable params: 0 (0.00 Byte)\n",
      "_________________________________________________________________\n"
     ]
    }
   ],
   "source": [
    "# Print summary of original model\n",
    "model.summary()"
   ]
  },
  {
   "cell_type": "code",
   "execution_count": 68,
   "metadata": {
    "colab": {
     "base_uri": "https://localhost:8080/"
    },
    "id": "0xgjAdNSpHdZ",
    "outputId": "f5b7a572-7ad1-4b62-f27a-75757bba155f"
   },
   "outputs": [
    {
     "name": "stdout",
     "output_type": "stream",
     "text": [
      "Model: \"sequential_1\"\n",
      "_________________________________________________________________\n",
      " Layer (type)                Output Shape              Param #   \n",
      "=================================================================\n",
      " flatten_1 (Flatten)         (None, 3)                 0         \n",
      "                                                                 \n",
      " dense_2 (Dense)             (None, 16)                64        \n",
      "                                                                 \n",
      " dense_3 (Dense)             (None, 4)                 68        \n",
      "                                                                 \n",
      "=================================================================\n",
      "Total params: 132 (528.00 Byte)\n",
      "Trainable params: 132 (528.00 Byte)\n",
      "Non-trainable params: 0 (0.00 Byte)\n",
      "_________________________________________________________________\n"
     ]
    }
   ],
   "source": [
    "# Print summary of loaded model\n",
    "new_model.summary()"
   ]
  },
  {
   "cell_type": "code",
   "execution_count": 69,
   "metadata": {
    "colab": {
     "base_uri": "https://localhost:8080/"
    },
    "id": "JuShpmnNpKD-",
    "outputId": "6f44a7ac-ab56-4261-87ab-2c256598b842"
   },
   "outputs": [
    {
     "name": "stdout",
     "output_type": "stream",
     "text": [
      "1/1 [==============================] - 0s 18ms/step\n",
      "1/1 [==============================] - 0s 42ms/step\n",
      "[-6.5790257   0.17862535  0.14061287  2.8552938 ]\n",
      "[-6.5790257   0.17862535  0.14061287  2.8552938 ]\n"
     ]
    }
   ],
   "source": [
    "#QunatityNorm, SalesNorm, ShippingCostsNorm\n",
    "#Each ranges from 0 to 1\n",
    "SingleObservation = np.array([[0.9, 0.9, 0.9]])\n",
    "SingleObservationFloat = SingleObservation.astype(float)\n",
    "\n",
    "SinglePrediction         = model.predict(SingleObservationFloat)\n",
    "SinglePredictionNewModel = new_model.predict(SingleObservationFloat)\n",
    "\n",
    "# Print prediction\n",
    "print(SinglePrediction[0])\n",
    "print(SinglePredictionNewModel[0])"
   ]
  },
  {
   "cell_type": "code",
   "execution_count": 70,
   "metadata": {
    "colab": {
     "base_uri": "https://localhost:8080/"
    },
    "id": "g9zVESvepaJp",
    "outputId": "62c42e07-77e3-42ef-de22-26d56ff6abf1"
   },
   "outputs": [
    {
     "data": {
      "text/plain": [
       "array([-6.5790257 ,  0.17862535,  0.14061287,  2.8552938 ], dtype=float32)"
      ]
     },
     "execution_count": 70,
     "metadata": {},
     "output_type": "execute_result"
    }
   ],
   "source": [
    "SinglePrediction[0]"
   ]
  },
  {
   "cell_type": "code",
   "execution_count": 71,
   "metadata": {
    "colab": {
     "base_uri": "https://localhost:8080/"
    },
    "id": "BZfZqD7MpcJr",
    "outputId": "3497b6ac-ee98-4ab1-a5aa-d3808e262819"
   },
   "outputs": [
    {
     "data": {
      "text/plain": [
       "array([-6.5790257 ,  0.17862535,  0.14061287,  2.8552938 ], dtype=float32)"
      ]
     },
     "execution_count": 71,
     "metadata": {},
     "output_type": "execute_result"
    }
   ],
   "source": [
    "SinglePredictionNewModel[0]"
   ]
  },
  {
   "cell_type": "code",
   "execution_count": 72,
   "metadata": {
    "colab": {
     "base_uri": "https://localhost:8080/"
    },
    "id": "UZpYtBCApeaf",
    "outputId": "a14a7785-4fa2-4d15-c5a3-ddbf89ce0f4c"
   },
   "outputs": [
    {
     "data": {
      "text/plain": [
       "2.8552938"
      ]
     },
     "execution_count": 72,
     "metadata": {},
     "output_type": "execute_result"
    }
   ],
   "source": [
    "np.max(SinglePrediction[0])"
   ]
  },
  {
   "cell_type": "code",
   "execution_count": 73,
   "metadata": {
    "colab": {
     "base_uri": "https://localhost:8080/"
    },
    "id": "mm-ARkLvpgC1",
    "outputId": "264d857b-d13a-41e3-fd3f-3aba3608b905"
   },
   "outputs": [
    {
     "data": {
      "text/plain": [
       "3"
      ]
     },
     "execution_count": 73,
     "metadata": {},
     "output_type": "execute_result"
    }
   ],
   "source": [
    "np.argmax(SinglePrediction[0])"
   ]
  },
  {
   "cell_type": "code",
   "execution_count": 74,
   "metadata": {
    "colab": {
     "base_uri": "https://localhost:8080/",
     "height": 35
    },
    "id": "bkndzYRyphvH",
    "outputId": "b7b7f96a-fb07-4888-a2aa-0c1ef13fb085"
   },
   "outputs": [
    {
     "data": {
      "text/plain": [
       "'Critical'"
      ]
     },
     "execution_count": 74,
     "metadata": {},
     "output_type": "execute_result"
    }
   ],
   "source": [
    "priority_labels[np.argmax(SinglePrediction[0])]"
   ]
  }
 ],
 "metadata": {
  "colab": {
   "provenance": []
  },
  "kernelspec": {
   "display_name": "Python 3 (ipykernel)",
   "language": "python",
   "name": "python3"
  },
  "language_info": {
   "codemirror_mode": {
    "name": "ipython",
    "version": 3
   },
   "file_extension": ".py",
   "mimetype": "text/x-python",
   "name": "python",
   "nbconvert_exporter": "python",
   "pygments_lexer": "ipython3",
   "version": "3.10.13"
  }
 },
 "nbformat": 4,
 "nbformat_minor": 1
}
